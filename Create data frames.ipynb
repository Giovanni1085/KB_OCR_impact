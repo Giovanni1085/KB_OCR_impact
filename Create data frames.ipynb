{
 "cells": [
  {
   "cell_type": "markdown",
   "metadata": {},
   "source": [
    "# Create a dataframe for the 2k IMPACT dataset\n",
    "\n",
    "TO DO"
   ]
  },
  {
   "cell_type": "code",
   "execution_count": 1,
   "metadata": {},
   "outputs": [],
   "source": [
    "from glob import glob\n",
    "import jellyfish\n",
    "import numpy as np\n",
    "import os, codecs, re\n",
    "from tqdm import tqdm\n",
    "import pandas as pd\n",
    "from bs4 import BeautifulSoup"
   ]
  },
  {
   "cell_type": "code",
   "execution_count": 2,
   "metadata": {},
   "outputs": [],
   "source": [
    "%matplotlib inline\n",
    "import matplotlib.pyplot as plt\n",
    "\n",
    "# magics and warnings\n",
    "%load_ext autoreload\n",
    "%autoreload 2\n",
    "import warnings; warnings.simplefilter('ignore')\n",
    "\n",
    "import os, random\n",
    "from tqdm import tqdm\n",
    "import pandas as pd\n",
    "import numpy as np\n",
    "\n",
    "seed = 43\n",
    "random.seed(seed)\n",
    "np.random.seed(seed)\n",
    "\n",
    "import nltk, gensim, sklearn, spacy\n",
    "from gensim.models import CoherenceModel\n",
    "import matplotlib.pyplot as plt\n",
    "import pyLDAvis.gensim\n",
    "import seaborn as sns\n",
    "sns.set(style=\"white\")\n",
    "sns.set_context(\"notebook\", font_scale=1.2, rc={\"lines.linewidth\": 2.5})"
   ]
  },
  {
   "cell_type": "code",
   "execution_count": 3,
   "metadata": {},
   "outputs": [],
   "source": [
    "folder = os.path.join(os.environ['HOME'],\"surfdrive/Shared/OCR\")\n",
    "\n",
    "# data folders\n",
    "ocr_original_folder = \"Original ALTO files \" # ABBY 8\n",
    "ocr_new_folder = \"ReOCRed (FR11)\" # ABBY 11\n",
    "ground_folder = \"Reordered Ground-truth\""
   ]
  },
  {
   "cell_type": "markdown",
   "metadata": {},
   "source": [
    "##### TODO\n",
    "\n",
    "* Parallelize\n",
    "* Extend to other datasets"
   ]
  },
  {
   "cell_type": "code",
   "execution_count": 4,
   "metadata": {},
   "outputs": [],
   "source": [
    "# function to read a file and get original filename, tokens and their confidence out of an alto xml file\n",
    "\n",
    "def get_contents(soup):\n",
    "    filename = soup.find(\"filename\").text\n",
    "    # find all strings (== tokens) and get text plus word-level confidence\n",
    "    word_level_confidence = list()\n",
    "    text = list()\n",
    "    for match in soup.findAll(\"string\"):\n",
    "        word_level_confidence.append(float(match[\"wc\"]))\n",
    "        text.append(match[\"content\"])\n",
    "    return filename, text, word_level_confidence"
   ]
  },
  {
   "cell_type": "code",
   "execution_count": 5,
   "metadata": {},
   "outputs": [],
   "source": [
    "LIMIT = 3000"
   ]
  },
  {
   "cell_type": "code",
   "execution_count": 6,
   "metadata": {},
   "outputs": [
    {
     "name": "stderr",
     "output_type": "stream",
     "text": [
      "100%|██████████| 2000/2000 [14:22<00:00,  2.32it/s]\n"
     ]
    }
   ],
   "source": [
    "# LOAD ground truth\n",
    "\n",
    "data_dict = {'filename':list(),'text_ground':list()}\n",
    "\n",
    "# load xml files and get data out\n",
    "for root, dirnames, filenames in os.walk(os.path.join(folder,ground_folder)):\n",
    "    for f in tqdm(filenames[:LIMIT]):\n",
    "        if \".xml\" in f:\n",
    "            full_path = os.path.join(root,f)\n",
    "            soup = BeautifulSoup(codecs.open(full_path,encoding=\"utf8\"))\n",
    "            filename, text, word_level_confidence = get_contents(soup)\n",
    "            data_dict['filename'].append(filename)\n",
    "            data_dict['text_ground'].append(text)"
   ]
  },
  {
   "cell_type": "code",
   "execution_count": 7,
   "metadata": {},
   "outputs": [],
   "source": [
    "df_ground = pd.DataFrame.from_dict(data_dict)\n",
    "df_ground = df_ground.set_index('filename')"
   ]
  },
  {
   "cell_type": "code",
   "execution_count": 8,
   "metadata": {},
   "outputs": [
    {
     "data": {
      "text/html": [
       "<div>\n",
       "<style scoped>\n",
       "    .dataframe tbody tr th:only-of-type {\n",
       "        vertical-align: middle;\n",
       "    }\n",
       "\n",
       "    .dataframe tbody tr th {\n",
       "        vertical-align: top;\n",
       "    }\n",
       "\n",
       "    .dataframe thead th {\n",
       "        text-align: right;\n",
       "    }\n",
       "</style>\n",
       "<table border=\"1\" class=\"dataframe\">\n",
       "  <thead>\n",
       "    <tr style=\"text-align: right;\">\n",
       "      <th></th>\n",
       "      <th>text_ground</th>\n",
       "    </tr>\n",
       "    <tr>\n",
       "      <th>filename</th>\n",
       "      <th></th>\n",
       "    </tr>\n",
       "  </thead>\n",
       "  <tbody>\n",
       "    <tr>\n",
       "      <th>DDD_010197037_001.jp2</th>\n",
       "      <td>[No., 9922., Tweede, Blad., Vrijdag, 29, Juli,...</td>\n",
       "    </tr>\n",
       "    <tr>\n",
       "      <th>DDD_011219339_001.jp2</th>\n",
       "      <td>[De, Surinamer, Redactie, J., WILLEBRANDS, Dag...</td>\n",
       "    </tr>\n",
       "    <tr>\n",
       "      <th>DDD_011179281_001.jp2</th>\n",
       "      <td>[DE, GRONDWET., Mrs., L., Mulder,, Uitgeefster...</td>\n",
       "    </tr>\n",
       "    <tr>\n",
       "      <th>DDD_010948945_001.jp2</th>\n",
       "      <td>[Het, Vrije, Volk, Maandag, 25, augustus, 1986...</td>\n",
       "    </tr>\n",
       "    <tr>\n",
       "      <th>MMGARO01_000177181_002_master.jp2</th>\n",
       "      <td>[De, troepen, vertrokken, 8, en, 9, Sept,, uit...</td>\n",
       "    </tr>\n",
       "  </tbody>\n",
       "</table>\n",
       "</div>"
      ],
      "text/plain": [
       "                                                                         text_ground\n",
       "filename                                                                            \n",
       "DDD_010197037_001.jp2              [No., 9922., Tweede, Blad., Vrijdag, 29, Juli,...\n",
       "DDD_011219339_001.jp2              [De, Surinamer, Redactie, J., WILLEBRANDS, Dag...\n",
       "DDD_011179281_001.jp2              [DE, GRONDWET., Mrs., L., Mulder,, Uitgeefster...\n",
       "DDD_010948945_001.jp2              [Het, Vrije, Volk, Maandag, 25, augustus, 1986...\n",
       "MMGARO01_000177181_002_master.jp2  [De, troepen, vertrokken, 8, en, 9, Sept,, uit..."
      ]
     },
     "execution_count": 8,
     "metadata": {},
     "output_type": "execute_result"
    }
   ],
   "source": [
    "df_ground.head()"
   ]
  },
  {
   "cell_type": "code",
   "execution_count": 9,
   "metadata": {},
   "outputs": [
    {
     "name": "stderr",
     "output_type": "stream",
     "text": [
      "100%|██████████| 2000/2000 [19:23<00:00,  1.72it/s]\n",
      "100%|██████████| 2000/2000 [25:21<00:00,  1.31it/s]\n"
     ]
    }
   ],
   "source": [
    "# LOAD OCR texts\n",
    "\n",
    "data_dict_ocr_1 = {'filename':list(),'text_ocr':list(),'word_level_confidence_ocr':list()}\n",
    "data_dict_ocr_2 = {'filename':list(),'text_reocr':list(),'word_level_confidence_reocr':list()}\n",
    "\n",
    "# load xml files and get data out\n",
    "for root, dirnames, filenames in os.walk(os.path.join(folder,ocr_original_folder)):\n",
    "    for f in tqdm(filenames[:LIMIT]):\n",
    "        if \".xml\" in f:\n",
    "            full_path = os.path.join(root,f)\n",
    "            soup = BeautifulSoup(codecs.open(full_path,encoding=\"utf8\"))\n",
    "            filename, text, word_level_confidence = get_contents(soup)\n",
    "            data_dict_ocr_1['filename'].append(filename)\n",
    "            data_dict_ocr_1['word_level_confidence_ocr'].append(word_level_confidence)\n",
    "            data_dict_ocr_1['text_ocr'].append(text)\n",
    "for root, dirnames, filenames in os.walk(os.path.join(folder,ocr_new_folder)):\n",
    "    for f in tqdm(filenames[:LIMIT]):\n",
    "        if \".xml\" in f:\n",
    "            full_path = os.path.join(root,f)\n",
    "            soup = BeautifulSoup(codecs.open(full_path,encoding=\"utf8\"))\n",
    "            filename, text, word_level_confidence = get_contents(soup)\n",
    "            data_dict_ocr_2['filename'].append(filename)\n",
    "            data_dict_ocr_2['word_level_confidence_reocr'].append(word_level_confidence)\n",
    "            data_dict_ocr_2['text_reocr'].append(text)"
   ]
  },
  {
   "cell_type": "code",
   "execution_count": 10,
   "metadata": {},
   "outputs": [
    {
     "data": {
      "image/png": "[encoded data removed]",
      "text/plain": [
       "<Figure size 432x288 with 1 Axes>"
      ]
     },
     "metadata": {},
     "output_type": "display_data"
    }
   ],
   "source": [
    "flatten = lambda l: [item for sublist in l for item in sublist]\n",
    "l = flatten(data_dict_ocr_1['word_level_confidence_ocr'])\n",
    "sns.distplot(l, label=\"Word confidence original OCR\", kde=False, color=\"red\")\n",
    "plt.legend()\n",
    "plt.tight_layout()"
   ]
  },
  {
   "cell_type": "code",
   "execution_count": 11,
   "metadata": {},
   "outputs": [
    {
     "data": {
      "image/png": "[encoded data removed]",
      "text/plain": [
       "<Figure size 432x288 with 1 Axes>"
      ]
     },
     "metadata": {},
     "output_type": "display_data"
    }
   ],
   "source": [
    "#l = flatten(data_dict_ocr_1['word_level_confidence_ocr'])\n",
    "#sns.distplot(l, label=\"Word confidence original OCR\", kde=False, color=\"red\")\n",
    "l2 = flatten(data_dict_ocr_2['word_level_confidence_reocr'])\n",
    "sns.distplot(l2, label=\"Word confidence new OCR\", kde=False, color=\"blue\")\n",
    "plt.legend()\n",
    "plt.tight_layout()"
   ]
  },
  {
   "cell_type": "code",
   "execution_count": 12,
   "metadata": {},
   "outputs": [],
   "source": [
    "df_ocr = pd.DataFrame.from_dict(data_dict_ocr_1)\n",
    "df_ocr = df_ocr.set_index('filename')\n",
    "df_reocr = pd.DataFrame.from_dict(data_dict_ocr_2)\n",
    "df_reocr = df_reocr.set_index('filename')"
   ]
  },
  {
   "cell_type": "code",
   "execution_count": 13,
   "metadata": {},
   "outputs": [
    {
     "data": {
      "text/html": [
       "<div>\n",
       "<style scoped>\n",
       "    .dataframe tbody tr th:only-of-type {\n",
       "        vertical-align: middle;\n",
       "    }\n",
       "\n",
       "    .dataframe tbody tr th {\n",
       "        vertical-align: top;\n",
       "    }\n",
       "\n",
       "    .dataframe thead th {\n",
       "        text-align: right;\n",
       "    }\n",
       "</style>\n",
       "<table border=\"1\" class=\"dataframe\">\n",
       "  <thead>\n",
       "    <tr style=\"text-align: right;\">\n",
       "      <th></th>\n",
       "      <th>text_ocr</th>\n",
       "      <th>word_level_confidence_ocr</th>\n",
       "    </tr>\n",
       "    <tr>\n",
       "      <th>filename</th>\n",
       "      <th></th>\n",
       "      <th></th>\n",
       "    </tr>\n",
       "  </thead>\n",
       "  <tbody>\n",
       "    <tr>\n",
       "      <th>DDD_010033326_001.jp2</th>\n",
       "      <td>[NIEUWE, ROTTERDAMSCHE, COURANT., », «.&lt;.»«««,...</td>\n",
       "      <td>[0.98, 0.96, 0.98, 0.98, 0.96, 0.98, 0.96, 1.0...</td>\n",
       "    </tr>\n",
       "    <tr>\n",
       "      <th>DDD_010541077_002.jp2</th>\n",
       "      <td>[Kolom, Links, mensen, ♦, De, acteur, Edward, ...</td>\n",
       "      <td>[0.96, 0.96, 0.99, 0.2, 0.39, 0.99, 0.91, 0.97...</td>\n",
       "    </tr>\n",
       "    <tr>\n",
       "      <th>MMDA03_000114653_002_master.jp2</th>\n",
       "      <td>[SPORTNIEUWS, Drentsche, Voetbalbond., OFFICIE...</td>\n",
       "      <td>[0.3, 0.24, 0.31, 0.32, 0.34, 0.33, 0.38, 0.22...</td>\n",
       "    </tr>\n",
       "    <tr>\n",
       "      <th>MMKB08_000166020_002_master.jp2</th>\n",
       "      <td>[Verder, behandelt, de, Resolutie, technisch,,...</td>\n",
       "      <td>[0.4, 0.22, 0.26, 0.29, 0.3, 0.23, 0.24, 0.36,...</td>\n",
       "    </tr>\n",
       "    <tr>\n",
       "      <th>DDD_010219949_001.jp2</th>\n",
       "      <td>[Dit, nummer, bestaat, uit, vier, bladen, Eers...</td>\n",
       "      <td>[0.96, 1.0, 0.98, 0.97, 0.97, 0.96, 0.99, 0.26...</td>\n",
       "    </tr>\n",
       "  </tbody>\n",
       "</table>\n",
       "</div>"
      ],
      "text/plain": [
       "                                                                          text_ocr  \\\n",
       "filename                                                                             \n",
       "DDD_010033326_001.jp2            [NIEUWE, ROTTERDAMSCHE, COURANT., », «.<.»«««,...   \n",
       "DDD_010541077_002.jp2            [Kolom, Links, mensen, ♦, De, acteur, Edward, ...   \n",
       "MMDA03_000114653_002_master.jp2  [SPORTNIEUWS, Drentsche, Voetbalbond., OFFICIE...   \n",
       "MMKB08_000166020_002_master.jp2  [Verder, behandelt, de, Resolutie, technisch,,...   \n",
       "DDD_010219949_001.jp2            [Dit, nummer, bestaat, uit, vier, bladen, Eers...   \n",
       "\n",
       "                                                         word_level_confidence_ocr  \n",
       "filename                                                                            \n",
       "DDD_010033326_001.jp2            [0.98, 0.96, 0.98, 0.98, 0.96, 0.98, 0.96, 1.0...  \n",
       "DDD_010541077_002.jp2            [0.96, 0.96, 0.99, 0.2, 0.39, 0.99, 0.91, 0.97...  \n",
       "MMDA03_000114653_002_master.jp2  [0.3, 0.24, 0.31, 0.32, 0.34, 0.33, 0.38, 0.22...  \n",
       "MMKB08_000166020_002_master.jp2  [0.4, 0.22, 0.26, 0.29, 0.3, 0.23, 0.24, 0.36,...  \n",
       "DDD_010219949_001.jp2            [0.96, 1.0, 0.98, 0.97, 0.97, 0.96, 0.99, 0.26...  "
      ]
     },
     "execution_count": 13,
     "metadata": {},
     "output_type": "execute_result"
    }
   ],
   "source": [
    "df_ocr.head()"
   ]
  },
  {
   "cell_type": "code",
   "execution_count": 14,
   "metadata": {},
   "outputs": [
    {
     "data": {
      "text/html": [
       "<div>\n",
       "<style scoped>\n",
       "    .dataframe tbody tr th:only-of-type {\n",
       "        vertical-align: middle;\n",
       "    }\n",
       "\n",
       "    .dataframe tbody tr th {\n",
       "        vertical-align: top;\n",
       "    }\n",
       "\n",
       "    .dataframe thead th {\n",
       "        text-align: right;\n",
       "    }\n",
       "</style>\n",
       "<table border=\"1\" class=\"dataframe\">\n",
       "  <thead>\n",
       "    <tr style=\"text-align: right;\">\n",
       "      <th></th>\n",
       "      <th>text_reocr</th>\n",
       "      <th>word_level_confidence_reocr</th>\n",
       "    </tr>\n",
       "    <tr>\n",
       "      <th>filename</th>\n",
       "      <th></th>\n",
       "      <th></th>\n",
       "    </tr>\n",
       "  </thead>\n",
       "  <tbody>\n",
       "    <tr>\n",
       "      <th>DDD_011218694_001.jp2</th>\n",
       "      <td>[11, i, —in, &gt;i, i, I—••, -, J, --, ■, ■, ■, D...</td>\n",
       "      <td>[0.9, 0.32, 0.9, 0.62, 0.24, 0.33, 0.37, 0.24,...</td>\n",
       "    </tr>\n",
       "    <tr>\n",
       "      <th>MMSAB03_000062844_001_master.jp2</th>\n",
       "      <td>[j\\o,, 262., ,., DONDERDAG, 8, NOVEMBER, 1925....</td>\n",
       "      <td>[0.42, 0.68, 0.81, 0.97, 0.44, 0.97, 0.24, 0.1...</td>\n",
       "    </tr>\n",
       "    <tr>\n",
       "      <th>MMGAVL01_000007154_001_master.jp2</th>\n",
       "      <td>[nieuwe, lleniosche, courant, van, Zaterdag.29...</td>\n",
       "      <td>[0.97, 0.55, 0.98, 0.97, 0.99, 0.4, 0.59, 0.97...</td>\n",
       "    </tr>\n",
       "    <tr>\n",
       "      <th>DDD_010189794_002.jp2</th>\n",
       "      <td>[blikevnen, die, een, soort, van, voogdij, «Ve...</td>\n",
       "      <td>[0.3, 0.93, 0.91, 0.96, 0.92, 0.96, 0.94, 0.92...</td>\n",
       "    </tr>\n",
       "    <tr>\n",
       "      <th>DDD_010882847_002.jp2</th>\n",
       "      <td>[die, terugkomst, van, de, bewoners, overvalle...</td>\n",
       "      <td>[0.96, 0.98, 0.93, 0.33, 0.98, 0.99, 0.93, 0.9...</td>\n",
       "    </tr>\n",
       "  </tbody>\n",
       "</table>\n",
       "</div>"
      ],
      "text/plain": [
       "                                                                          text_reocr  \\\n",
       "filename                                                                               \n",
       "DDD_011218694_001.jp2              [11, i, —in, >i, i, I—••, -, J, --, ■, ■, ■, D...   \n",
       "MMSAB03_000062844_001_master.jp2   [j\\o,, 262., ,., DONDERDAG, 8, NOVEMBER, 1925....   \n",
       "MMGAVL01_000007154_001_master.jp2  [nieuwe, lleniosche, courant, van, Zaterdag.29...   \n",
       "DDD_010189794_002.jp2              [blikevnen, die, een, soort, van, voogdij, «Ve...   \n",
       "DDD_010882847_002.jp2              [die, terugkomst, van, de, bewoners, overvalle...   \n",
       "\n",
       "                                                         word_level_confidence_reocr  \n",
       "filename                                                                              \n",
       "DDD_011218694_001.jp2              [0.9, 0.32, 0.9, 0.62, 0.24, 0.33, 0.37, 0.24,...  \n",
       "MMSAB03_000062844_001_master.jp2   [0.42, 0.68, 0.81, 0.97, 0.44, 0.97, 0.24, 0.1...  \n",
       "MMGAVL01_000007154_001_master.jp2  [0.97, 0.55, 0.98, 0.97, 0.99, 0.4, 0.59, 0.97...  \n",
       "DDD_010189794_002.jp2              [0.3, 0.93, 0.91, 0.96, 0.92, 0.96, 0.94, 0.92...  \n",
       "DDD_010882847_002.jp2              [0.96, 0.98, 0.93, 0.33, 0.98, 0.99, 0.93, 0.9...  "
      ]
     },
     "execution_count": 14,
     "metadata": {},
     "output_type": "execute_result"
    }
   ],
   "source": [
    "df_reocr.head()"
   ]
  },
  {
   "cell_type": "code",
   "execution_count": 15,
   "metadata": {},
   "outputs": [],
   "source": [
    "full_df = pd.concat([df_ground, df_ocr], join=\"inner\", axis=1)\n",
    "full_df = pd.concat([full_df, df_reocr], join=\"inner\", axis=1)"
   ]
  },
  {
   "cell_type": "code",
   "execution_count": 16,
   "metadata": {},
   "outputs": [
    {
     "data": {
      "text/plain": [
       "(2000, 5)"
      ]
     },
     "execution_count": 16,
     "metadata": {},
     "output_type": "execute_result"
    }
   ],
   "source": [
    "full_df.shape"
   ]
  },
  {
   "cell_type": "code",
   "execution_count": 17,
   "metadata": {},
   "outputs": [
    {
     "data": {
      "text/html": [
       "<div>\n",
       "<style scoped>\n",
       "    .dataframe tbody tr th:only-of-type {\n",
       "        vertical-align: middle;\n",
       "    }\n",
       "\n",
       "    .dataframe tbody tr th {\n",
       "        vertical-align: top;\n",
       "    }\n",
       "\n",
       "    .dataframe thead th {\n",
       "        text-align: right;\n",
       "    }\n",
       "</style>\n",
       "<table border=\"1\" class=\"dataframe\">\n",
       "  <thead>\n",
       "    <tr style=\"text-align: right;\">\n",
       "      <th></th>\n",
       "      <th>text_ground</th>\n",
       "      <th>text_ocr</th>\n",
       "      <th>word_level_confidence_ocr</th>\n",
       "      <th>text_reocr</th>\n",
       "      <th>word_level_confidence_reocr</th>\n",
       "    </tr>\n",
       "    <tr>\n",
       "      <th>filename</th>\n",
       "      <th></th>\n",
       "      <th></th>\n",
       "      <th></th>\n",
       "      <th></th>\n",
       "      <th></th>\n",
       "    </tr>\n",
       "  </thead>\n",
       "  <tbody>\n",
       "    <tr>\n",
       "      <th>DDD_010197037_001.jp2</th>\n",
       "      <td>[No., 9922., Tweede, Blad., Vrijdag, 29, Juli,...</td>\n",
       "      <td>[JSo., 9822, xTweede, Blad., Vrijdag, 29, Juli...</td>\n",
       "      <td>[0.27, 0.27, 0.29, 0.95, 0.98, 1.0, 0.97, 0.67...</td>\n",
       "      <td>[ISO., 9922, -Tweede, Blad., ss*, Vrijdag, 29,...</td>\n",
       "      <td>[0.94, 0.23, 0.97, 0.95, 0.16, 0.97, 0.96, 0.9...</td>\n",
       "    </tr>\n",
       "    <tr>\n",
       "      <th>DDD_011219339_001.jp2</th>\n",
       "      <td>[De, Surinamer, Redactie, J., WILLEBRANDS, Dag...</td>\n",
       "      <td>[De, Surinamer, •v*, WILLEBRANDS:i^, Dagblad, ...</td>\n",
       "      <td>[0.96, 0.98, 0.46, 0.48, 0.99, 0.97, 0.99, 0.5...</td>\n",
       "      <td>[Whd^Mmumr, Redactie, J., WILLEBRANDS, Dagblad...</td>\n",
       "      <td>[0.25, 0.99, 0.83, 0.84, 0.98, 0.97, 0.99, 0.9...</td>\n",
       "    </tr>\n",
       "    <tr>\n",
       "      <th>DDD_011179281_001.jp2</th>\n",
       "      <td>[DE, GRONDWET., Mrs., L., Mulder,, Uitgeefster...</td>\n",
       "      <td>[DE, GRONDWET., Mrs., 3L.., Mulder,, TJitgêels...</td>\n",
       "      <td>[0.96, 0.98, 0.95, 0.52, 0.97, 0.41, 0.34, 0.9...</td>\n",
       "      <td>[DE, GRONDWET., Mrs., Xj., Melder,, Uitgeefste...</td>\n",
       "      <td>[0.76, 0.97, 0.5, 0.62, 0.97, 0.98, 0.97, 0.74...</td>\n",
       "    </tr>\n",
       "    <tr>\n",
       "      <th>DDD_010948945_001.jp2</th>\n",
       "      <td>[Het, Vrije, Volk, Maandag, 25, augustus, 1986...</td>\n",
       "      <td>[Het, Vrije, Volk, Maandag, 25, augustus, 1986...</td>\n",
       "      <td>[0.98, 0.98, 0.98, 1.0, 1.0, 0.98, 0.86, 0.63,...</td>\n",
       "      <td>[Ê, •, :&gt;, %, V, f, A, i, *, %, iiiisy, V, -;,...</td>\n",
       "      <td>[0.27, 0.44, 0.14, 1.0, 0.13, 0.33, 1.0, 0.3, ...</td>\n",
       "    </tr>\n",
       "    <tr>\n",
       "      <th>MMGARO01_000177181_002_master.jp2</th>\n",
       "      <td>[De, troepen, vertrokken, 8, en, 9, Sept,, uit...</td>\n",
       "      <td>[De, tioepen, vertrokken, 8, en, 9, Sept., uit...</td>\n",
       "      <td>[0.59, 0.32, 0.32, 0.78, 0.07, 1.0, 0.25, 0.18...</td>\n",
       "      <td>[De, troepen, vertrokken, 8, en, 9, Sept., uit...</td>\n",
       "      <td>[0.5, 0.98, 0.99, 0.41, 0.46, 0.76, 0.61, 0.96...</td>\n",
       "    </tr>\n",
       "  </tbody>\n",
       "</table>\n",
       "</div>"
      ],
      "text/plain": [
       "                                                                         text_ground  \\\n",
       "filename                                                                               \n",
       "DDD_010197037_001.jp2              [No., 9922., Tweede, Blad., Vrijdag, 29, Juli,...   \n",
       "DDD_011219339_001.jp2              [De, Surinamer, Redactie, J., WILLEBRANDS, Dag...   \n",
       "DDD_011179281_001.jp2              [DE, GRONDWET., Mrs., L., Mulder,, Uitgeefster...   \n",
       "DDD_010948945_001.jp2              [Het, Vrije, Volk, Maandag, 25, augustus, 1986...   \n",
       "MMGARO01_000177181_002_master.jp2  [De, troepen, vertrokken, 8, en, 9, Sept,, uit...   \n",
       "\n",
       "                                                                            text_ocr  \\\n",
       "filename                                                                               \n",
       "DDD_010197037_001.jp2              [JSo., 9822, xTweede, Blad., Vrijdag, 29, Juli...   \n",
       "DDD_011219339_001.jp2              [De, Surinamer, •v*, WILLEBRANDS:i^, Dagblad, ...   \n",
       "DDD_011179281_001.jp2              [DE, GRONDWET., Mrs., 3L.., Mulder,, TJitgêels...   \n",
       "DDD_010948945_001.jp2              [Het, Vrije, Volk, Maandag, 25, augustus, 1986...   \n",
       "MMGARO01_000177181_002_master.jp2  [De, tioepen, vertrokken, 8, en, 9, Sept., uit...   \n",
       "\n",
       "                                                           word_level_confidence_ocr  \\\n",
       "filename                                                                               \n",
       "DDD_010197037_001.jp2              [0.27, 0.27, 0.29, 0.95, 0.98, 1.0, 0.97, 0.67...   \n",
       "DDD_011219339_001.jp2              [0.96, 0.98, 0.46, 0.48, 0.99, 0.97, 0.99, 0.5...   \n",
       "DDD_011179281_001.jp2              [0.96, 0.98, 0.95, 0.52, 0.97, 0.41, 0.34, 0.9...   \n",
       "DDD_010948945_001.jp2              [0.98, 0.98, 0.98, 1.0, 1.0, 0.98, 0.86, 0.63,...   \n",
       "MMGARO01_000177181_002_master.jp2  [0.59, 0.32, 0.32, 0.78, 0.07, 1.0, 0.25, 0.18...   \n",
       "\n",
       "                                                                          text_reocr  \\\n",
       "filename                                                                               \n",
       "DDD_010197037_001.jp2              [ISO., 9922, -Tweede, Blad., ss*, Vrijdag, 29,...   \n",
       "DDD_011219339_001.jp2              [Whd^Mmumr, Redactie, J., WILLEBRANDS, Dagblad...   \n",
       "DDD_011179281_001.jp2              [DE, GRONDWET., Mrs., Xj., Melder,, Uitgeefste...   \n",
       "DDD_010948945_001.jp2              [Ê, •, :>, %, V, f, A, i, *, %, iiiisy, V, -;,...   \n",
       "MMGARO01_000177181_002_master.jp2  [De, troepen, vertrokken, 8, en, 9, Sept., uit...   \n",
       "\n",
       "                                                         word_level_confidence_reocr  \n",
       "filename                                                                              \n",
       "DDD_010197037_001.jp2              [0.94, 0.23, 0.97, 0.95, 0.16, 0.97, 0.96, 0.9...  \n",
       "DDD_011219339_001.jp2              [0.25, 0.99, 0.83, 0.84, 0.98, 0.97, 0.99, 0.9...  \n",
       "DDD_011179281_001.jp2              [0.76, 0.97, 0.5, 0.62, 0.97, 0.98, 0.97, 0.74...  \n",
       "DDD_010948945_001.jp2              [0.27, 0.44, 0.14, 1.0, 0.13, 0.33, 1.0, 0.3, ...  \n",
       "MMGARO01_000177181_002_master.jp2  [0.5, 0.98, 0.99, 0.41, 0.46, 0.76, 0.61, 0.96...  "
      ]
     },
     "execution_count": 17,
     "metadata": {},
     "output_type": "execute_result"
    }
   ],
   "source": [
    "full_df.head()"
   ]
  },
  {
   "cell_type": "code",
   "execution_count": 18,
   "metadata": {},
   "outputs": [],
   "source": [
    "full_df[\"word_level_average_confidence_ocr\"] = full_df[\"word_level_confidence_ocr\"].apply(lambda x: np.average(x))\n",
    "full_df[\"word_level_average_confidence_reocr\"] = full_df[\"word_level_confidence_reocr\"].apply(lambda x: np.average(x))"
   ]
  },
  {
   "cell_type": "code",
   "execution_count": 19,
   "metadata": {},
   "outputs": [
    {
     "data": {
      "image/png": "[encoded data removed]",
      "text/plain": [
       "<Figure size 432x288 with 1 Axes>"
      ]
     },
     "metadata": {},
     "output_type": "display_data"
    }
   ],
   "source": [
    "sns.distplot(full_df[\"word_level_average_confidence_ocr\"].values, label=\"Original OCR\", kde=False, color=\"red\", bins=30)\n",
    "sns.distplot(full_df[\"word_level_average_confidence_reocr\"].values, label=\"Re-OCR\", kde=False, color=\"blue\", bins=30)\n",
    "plt.title(\"Word average confidence (document-level)\")\n",
    "plt.legend()\n",
    "plt.tight_layout()"
   ]
  },
  {
   "cell_type": "code",
   "execution_count": 20,
   "metadata": {},
   "outputs": [],
   "source": [
    "full_df.to_csv(\"full_df.csv\", compression=\"gzip\")"
   ]
  },
  {
   "cell_type": "code",
   "execution_count": null,
   "metadata": {},
   "outputs": [],
   "source": []
  }
 ],
 "metadata": {
  "kernelspec": {
   "display_name": "Python 3",
   "language": "python",
   "name": "python3"
  },
  "language_info": {
   "codemirror_mode": {
    "name": "ipython",
    "version": 3
   },
   "file_extension": ".py",
   "mimetype": "text/x-python",
   "name": "python",
   "nbconvert_exporter": "python",
   "pygments_lexer": "ipython3",
   "version": "3.7.6"
  }
 },
 "nbformat": 4,
 "nbformat_minor": 2
}
