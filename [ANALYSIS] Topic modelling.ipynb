{
 "cells": [
  {
   "cell_type": "markdown",
   "metadata": {},
   "source": [
    "# Topic modelling\n",
    "\n",
    "This notebook uses the 2kIMPACT dataset to perform an analysis of the impact of OCR quality on topic modelling with LDA. We use a variety of methods and find that:\n",
    "* Results are very stable between the ground truth and OCRed version of this dataset\n",
    "* This likely is the case because we use an aggressive pre-processing pipeline which limits the impact of noisy OCR\n",
    "* Nevertheless, we caution that document-topic distributions, while stable and comparable between the two versions, can still diverge significantly if used to construct bins of documents (hard clustering)"
   ]
  },
  {
   "cell_type": "code",
   "execution_count": 1,
   "metadata": {},
   "outputs": [],
   "source": [
    "from glob import glob\n",
    "import jellyfish\n",
    "import numpy as np\n",
    "import os, codecs, re\n",
    "from tqdm import tqdm\n",
    "import pandas as pd\n",
    "from bs4 import BeautifulSoup"
   ]
  },
  {
   "cell_type": "code",
   "execution_count": 4,
   "metadata": {},
   "outputs": [
    {
     "name": "stdout",
     "output_type": "stream",
     "text": [
      "The autoreload extension is already loaded. To reload it, use:\n",
      "  %reload_ext autoreload\n"
     ]
    }
   ],
   "source": [
    "%matplotlib inline\n",
    "import matplotlib.pyplot as plt\n",
    "\n",
    "# magics and warnings\n",
    "%load_ext autoreload\n",
    "%autoreload 2\n",
    "import warnings; warnings.simplefilter('ignore')\n",
    "\n",
    "import os, random\n",
    "from tqdm import tqdm\n",
    "import pandas as pd\n",
    "import numpy as np\n",
    "\n",
    "seed = 99\n",
    "random.seed(seed)\n",
    "np.random.seed(seed)\n",
    "\n",
    "import nltk, gensim, sklearn, spacy\n",
    "from gensim.models import CoherenceModel\n",
    "import matplotlib.pyplot as plt\n",
    "import seaborn as sns\n",
    "sns.set(style=\"white\")\n",
    "sns.set_context(\"notebook\", font_scale=1.2, rc={\"lines.linewidth\": 2.5})"
   ]
  },
  {
   "cell_type": "markdown",
   "metadata": {},
   "source": [
    "##### For this analysis we focus on the 2kIMPACT dataset"
   ]
  },
  {
   "cell_type": "code",
   "execution_count": 5,
   "metadata": {},
   "outputs": [],
   "source": [
    "df = pd.read_csv(\"data_frames/full_df_2kIMPACT.csv\", compression=\"gzip\")"
   ]
  },
  {
   "cell_type": "code",
   "execution_count": 7,
   "metadata": {},
   "outputs": [
    {
     "data": {
      "text/html": [
       "<div>\n",
       "<style scoped>\n",
       "    .dataframe tbody tr th:only-of-type {\n",
       "        vertical-align: middle;\n",
       "    }\n",
       "\n",
       "    .dataframe tbody tr th {\n",
       "        vertical-align: top;\n",
       "    }\n",
       "\n",
       "    .dataframe thead th {\n",
       "        text-align: right;\n",
       "    }\n",
       "</style>\n",
       "<table border=\"1\" class=\"dataframe\">\n",
       "  <thead>\n",
       "    <tr style=\"text-align: right;\">\n",
       "      <th></th>\n",
       "      <th>filename</th>\n",
       "      <th>text_ground</th>\n",
       "      <th>text_ocr</th>\n",
       "      <th>word_level_confidence_ocr</th>\n",
       "      <th>text_reocr</th>\n",
       "      <th>word_level_confidence_reocr</th>\n",
       "      <th>word_level_average_confidence_ocr</th>\n",
       "      <th>word_level_average_confidence_reocr</th>\n",
       "    </tr>\n",
       "  </thead>\n",
       "  <tbody>\n",
       "    <tr>\n",
       "      <th>0</th>\n",
       "      <td>DDD_010197037_001.jp2</td>\n",
       "      <td>['No.', '9922.', 'Tweede', 'Blad.', 'Vrijdag',...</td>\n",
       "      <td>['JSo.', '9822', 'xTweede', 'Blad.', 'Vrijdag'...</td>\n",
       "      <td>[0.27, 0.27, 0.29, 0.95, 0.98, 1.0, 0.97, 0.67...</td>\n",
       "      <td>['ISO.', '9922', '-Tweede', 'Blad.', 'ss*', 'V...</td>\n",
       "      <td>[0.94, 0.23, 0.97, 0.95, 0.16, 0.97, 0.96, 0.9...</td>\n",
       "      <td>0.719354</td>\n",
       "      <td>0.718463</td>\n",
       "    </tr>\n",
       "  </tbody>\n",
       "</table>\n",
       "</div>"
      ],
      "text/plain": [
       "                filename                                        text_ground  \\\n",
       "0  DDD_010197037_001.jp2  ['No.', '9922.', 'Tweede', 'Blad.', 'Vrijdag',...   \n",
       "\n",
       "                                            text_ocr  \\\n",
       "0  ['JSo.', '9822', 'xTweede', 'Blad.', 'Vrijdag'...   \n",
       "\n",
       "                           word_level_confidence_ocr  \\\n",
       "0  [0.27, 0.27, 0.29, 0.95, 0.98, 1.0, 0.97, 0.67...   \n",
       "\n",
       "                                          text_reocr  \\\n",
       "0  ['ISO.', '9922', '-Tweede', 'Blad.', 'ss*', 'V...   \n",
       "\n",
       "                         word_level_confidence_reocr  \\\n",
       "0  [0.94, 0.23, 0.97, 0.95, 0.16, 0.97, 0.96, 0.9...   \n",
       "\n",
       "   word_level_average_confidence_ocr  word_level_average_confidence_reocr  \n",
       "0                           0.719354                             0.718463  "
      ]
     },
     "execution_count": 7,
     "metadata": {},
     "output_type": "execute_result"
    }
   ],
   "source": [
    "df.head(1)"
   ]
  },
  {
   "cell_type": "code",
   "execution_count": 8,
   "metadata": {},
   "outputs": [],
   "source": [
    "#from tabulate import tabulate"
   ]
  },
  {
   "cell_type": "code",
   "execution_count": 9,
   "metadata": {
    "scrolled": true
   },
   "outputs": [],
   "source": [
    "#print(tabulate(df.head(2), tablefmt=\"pipe\", headers=\"keys\"))"
   ]
  },
  {
   "cell_type": "markdown",
   "metadata": {},
   "source": [
    "##### Taking a look at OCR quality and document length"
   ]
  },
  {
   "cell_type": "code",
   "execution_count": 116,
   "metadata": {},
   "outputs": [
    {
     "data": {
      "image/png": "[encoded data removed]",
      "text/plain": [
       "<Figure size 432x288 with 1 Axes>"
      ]
     },
     "metadata": {},
     "output_type": "display_data"
    }
   ],
   "source": [
    "sns.distplot(df[\"word_level_average_confidence_ocr\"].values, label=\"Original OCR\", kde=False, color=\"red\", bins=30)\n",
    "sns.distplot(df[\"word_level_average_confidence_reocr\"].values, label=\"Re-OCR\", kde=False, color=\"blue\", bins=30)\n",
    "plt.title(\"Word average confidence (document-level)\")\n",
    "plt.legend()\n",
    "plt.tight_layout()\n",
    "plt.savefig(\"figures/tm_OCR_quality.png\")"
   ]
  },
  {
   "cell_type": "code",
   "execution_count": 117,
   "metadata": {},
   "outputs": [
    {
     "data": {
      "image/png": "[encoded data removed]",
      "text/plain": [
       "<Figure size 432x288 with 1 Axes>"
      ]
     },
     "metadata": {},
     "output_type": "display_data"
    }
   ],
   "source": [
    "sns.distplot([len(x) for x in df[\"text_ground\"].values], label=\"Ground\", kde=False, color=\"green\", bins=30)\n",
    "sns.distplot([len(x) for x in df[\"text_reocr\"].values], label=\"Re-OCR\", kde=False, color=\"blue\", bins=30)\n",
    "sns.distplot([len(x) for x in df[\"text_ocr\"].values], label=\"OCR\", kde=False, color=\"red\", bins=30)\n",
    "plt.title(\"Document length\")\n",
    "plt.legend()\n",
    "plt.tight_layout()\n",
    "plt.savefig(\"figures/tm_doc_len.png\")"
   ]
  },
  {
   "cell_type": "markdown",
   "metadata": {},
   "source": [
    "### Setup and pre-processing"
   ]
  },
  {
   "cell_type": "code",
   "execution_count": 12,
   "metadata": {
    "scrolled": true
   },
   "outputs": [
    {
     "name": "stdout",
     "output_type": "stream",
     "text": [
      "Collecting nl_core_news_sm==2.0.0\n",
      "  Downloading https://github.com/explosion/spacy-models/releases/download/nl_core_news_sm-2.0.0/nl_core_news_sm-2.0.0.tar.gz (36.7 MB)\n",
      "\u001b[K     |████████████████████████████████| 36.7 MB 5.9 MB/s eta 0:00:01\n",
      "\u001b[?25h\n",
      "\u001b[93m    Linking successful\u001b[0m\n",
      "    /anaconda3/envs/ocr_lm/lib/python3.7/site-packages/nl_core_news_sm -->\n",
      "    /anaconda3/envs/ocr_lm/lib/python3.7/site-packages/spacy/data/nl\n",
      "\n",
      "    You can now load the model via spacy.load('nl')\n",
      "\n"
     ]
    }
   ],
   "source": [
    "!python -m spacy download nl"
   ]
  },
  {
   "cell_type": "markdown",
   "metadata": {},
   "source": [
    "##### We focus on the original OCR (lower quality)"
   ]
  },
  {
   "cell_type": "code",
   "execution_count": 68,
   "metadata": {},
   "outputs": [],
   "source": [
    "# focus on a sample of documents (mainly yo speed up experiments)\n",
    "sample_size = 1000\n",
    "\n",
    "sample_ground = df[\"text_ground\"].sample(n=sample_size, random_state=seed)\n",
    "sample_ocr = df[\"text_ocr\"].sample(n=sample_size, random_state=seed)"
   ]
  },
  {
   "cell_type": "code",
   "execution_count": 69,
   "metadata": {},
   "outputs": [
    {
     "name": "stdout",
     "output_type": "stream",
     "text": [
      "1000\n"
     ]
    }
   ],
   "source": [
    "print(len(sample_ground))"
   ]
  },
  {
   "cell_type": "code",
   "execution_count": 70,
   "metadata": {},
   "outputs": [
    {
     "data": {
      "text/plain": [
       "1414    ['Woensdag', '28', 'juli', '1965', '48e', 'Jaa...\n",
       "1750    ['Derde', 'waarschuwing', 'De', 'verhoging', '...\n",
       "Name: text_ground, dtype: object"
      ]
     },
     "execution_count": 70,
     "metadata": {},
     "output_type": "execute_result"
    }
   ],
   "source": [
    "sample_ground[:2]"
   ]
  },
  {
   "cell_type": "code",
   "execution_count": 71,
   "metadata": {},
   "outputs": [
    {
     "data": {
      "text/plain": [
       "1414    ['Woensdag', '28', 'juli', '1965', '48e', 'Jaa...\n",
       "1750    ['Derde', 'waarschuwing', 'Tye', 'verhoging', ...\n",
       "Name: text_ocr, dtype: object"
      ]
     },
     "execution_count": 71,
     "metadata": {},
     "output_type": "execute_result"
    }
   ],
   "source": [
    "sample_ocr[:2]"
   ]
  },
  {
   "cell_type": "markdown",
   "metadata": {},
   "source": [
    "##### Check whether the sample resembles the full dataset in terms of document length"
   ]
  },
  {
   "cell_type": "code",
   "execution_count": 72,
   "metadata": {},
   "outputs": [
    {
     "data": {
      "image/png": "[encoded data removed]",
      "text/plain": [
       "<Figure size 432x288 with 1 Axes>"
      ]
     },
     "metadata": {},
     "output_type": "display_data"
    }
   ],
   "source": [
    "sns.distplot([len(x) for x in sample_ground], label=\"Ground\", kde=False, color=\"green\", bins=30)\n",
    "sns.distplot([len(x) for x in sample_ocr], label=\"OCR\", kde=False, color=\"red\", bins=30)\n",
    "plt.title(\"Document length\")\n",
    "plt.legend()\n",
    "plt.tight_layout()"
   ]
  },
  {
   "cell_type": "code",
   "execution_count": 73,
   "metadata": {},
   "outputs": [],
   "source": [
    "# trim the number of characters in use for each document\n",
    "\n",
    "LIMIT = 30000\n",
    "\n",
    "sample_ground = [x[:LIMIT] for x in sample_ground]\n",
    "sample_ocr = [x[:LIMIT] for x in sample_ocr]"
   ]
  },
  {
   "cell_type": "code",
   "execution_count": 74,
   "metadata": {},
   "outputs": [
    {
     "data": {
      "image/png": "[encoded data removed]",
      "text/plain": [
       "<Figure size 432x288 with 1 Axes>"
      ]
     },
     "metadata": {},
     "output_type": "display_data"
    }
   ],
   "source": [
    "sns.distplot([len(x) for x in sample_ground], label=\"Ground\", kde=False, color=\"green\", bins=30)\n",
    "sns.distplot([len(x) for x in sample_ocr], label=\"OCR\", kde=False, color=\"red\", bins=30)\n",
    "plt.title(\"Document length\")\n",
    "plt.legend()\n",
    "plt.tight_layout()"
   ]
  },
  {
   "cell_type": "markdown",
   "metadata": {},
   "source": [
    "### Pre-processing\n",
    "\n",
    "We apply a canonical pre-processing pipeline before topic modelling, including the following steps:\n",
    "\n",
    "* Remove stop-words\n",
    "* Lemmatize\n",
    "* Lowercase\n",
    "* Remove tokens shorter than 3 characters\n",
    "* Add frequent bigrams"
   ]
  },
  {
   "cell_type": "code",
   "execution_count": 75,
   "metadata": {},
   "outputs": [],
   "source": [
    "nlp = spacy.load('nl')\n",
    "STOPWORDS = spacy.lang.nl.stop_words.STOP_WORDS\n",
    "STOPWORDS.add(\"eene\")"
   ]
  },
  {
   "cell_type": "code",
   "execution_count": 80,
   "metadata": {},
   "outputs": [
    {
     "name": "stdout",
     "output_type": "stream",
     "text": [
      "CPU times: user 1h 6s, sys: 15min 33s, total: 1h 15min 39s\n",
      "Wall time: 1h 26min 6s\n"
     ]
    }
   ],
   "source": [
    "%%time\n",
    "\n",
    "processed_docs = list()\n",
    "for doc in nlp.pipe(sample_ground, n_threads=5, batch_size=10):\n",
    "\n",
    "    # Process document using Spacy NLP pipeline.\n",
    "    #ents = doc.ents  # Named entities\n",
    "\n",
    "    # Keep only words (no numbers, no punctuation).\n",
    "    # Lemmatize tokens, remove punctuation and remove stopwords.\n",
    "    doc = [token.lemma_ for token in doc if token.is_alpha and not token.is_stop]\n",
    "\n",
    "    # Remove common words from a stopword list and keep only words of length 3 or more.\n",
    "    doc = [token.lower() for token in doc if token not in STOPWORDS and len(token) > 2]\n",
    "\n",
    "    # Add named entities, but only if they are a compound of more than one word.\n",
    "    #doc.extend([str(entity) for entity in ents if len(entity) > 1])\n",
    "\n",
    "    processed_docs.append(doc)"
   ]
  },
  {
   "cell_type": "code",
   "execution_count": 81,
   "metadata": {},
   "outputs": [],
   "source": [
    "docs = processed_docs\n",
    "del processed_docs\n",
    "\n",
    "# Add bigrams\n",
    "from gensim.models.phrases import Phrases\n",
    "# Add bigrams to docs (only ones that appear 20 times or more). A better approach would be to use a chi_sq test.\n",
    "bigram = Phrases(docs, min_count=25)\n",
    "for idx in range(len(docs)):\n",
    "    for token in bigram[docs[idx]]:\n",
    "        if '_' in token:\n",
    "            # Token is a bigram, add to document.\n",
    "            docs[idx].append(token)"
   ]
  },
  {
   "cell_type": "code",
   "execution_count": 82,
   "metadata": {},
   "outputs": [],
   "source": [
    "# You will need to run the same pipeline twice, for ground truth and OCR documents. Comment/uncomment this part each time:\n",
    "docs_ground = docs\n",
    "#docs_ocr = docs"
   ]
  },
  {
   "cell_type": "code",
   "execution_count": 83,
   "metadata": {},
   "outputs": [],
   "source": [
    "# save\n",
    "import pickle\n",
    "\n",
    "with open('folder_topic_modelling/docs_ground.pkl', 'wb') as handle:\n",
    "    pickle.dump(docs_ground, handle)\n",
    "with open('folder_topic_modelling/docs_ocr.pkl', 'wb') as handle:\n",
    "    pickle.dump(docs_ocr, handle)"
   ]
  },
  {
   "cell_type": "markdown",
   "metadata": {},
   "source": [
    "#### Start from the pre-processed corpus"
   ]
  },
  {
   "cell_type": "code",
   "execution_count": 84,
   "metadata": {},
   "outputs": [],
   "source": [
    "# load corpora\n",
    "import pickle\n",
    "\n",
    "docs_ground = list()\n",
    "docs_ocr = list()\n",
    "\n",
    "with open('folder_topic_modelling/docs_ground.pkl', 'rb') as handle:\n",
    "    docs_ground = pickle.load(handle)\n",
    "with open('folder_topic_modelling/docs_ocr.pkl', 'rb') as handle:\n",
    "    docs_ocr = pickle.load(handle)"
   ]
  },
  {
   "cell_type": "code",
   "execution_count": 85,
   "metadata": {},
   "outputs": [],
   "source": [
    "# Remove rare and common tokens.\n",
    "# Filter out words that occur too frequently or too rarely.\n",
    "max_freq = 0.5\n",
    "min_wordcount = 5"
   ]
  },
  {
   "cell_type": "code",
   "execution_count": 86,
   "metadata": {},
   "outputs": [
    {
     "name": "stdout",
     "output_type": "stream",
     "text": [
      "Number of unique tokens: 26166\n",
      "Number of docs: 1000\n"
     ]
    }
   ],
   "source": [
    "# Create a dictionary representation of the documents, and filter out frequent and rare words.\n",
    "from gensim.corpora import Dictionary\n",
    "dictionary_ground = Dictionary(docs_ground)\n",
    "dictionary_ground.filter_extremes(no_below=min_wordcount, no_above=max_freq)\n",
    "\n",
    "# Bag-of-words representation of the documents.\n",
    "corpus_ground = [dictionary_ground.doc2bow(doc) for doc in docs_ground]\n",
    "#MmCorpus.serialize(\"models/corpus.mm\", corpus)\n",
    "\n",
    "print('Number of unique tokens: %d' % len(dictionary_ground))\n",
    "print('Number of docs: %d' % len(corpus_ground))"
   ]
  },
  {
   "cell_type": "code",
   "execution_count": 87,
   "metadata": {},
   "outputs": [
    {
     "name": "stdout",
     "output_type": "stream",
     "text": [
      "Number of unique tokens: 25680\n",
      "Number of docs: 1000\n"
     ]
    }
   ],
   "source": [
    "# Create a dictionary representation of the documents, and filter out frequent and rare words.\n",
    "from gensim.corpora import Dictionary\n",
    "dictionary_ocr = Dictionary(docs_ocr)\n",
    "dictionary_ocr.filter_extremes(no_below=min_wordcount, no_above=max_freq)\n",
    "\n",
    "# Bag-of-words representation of the documents.\n",
    "corpus_ocr = [dictionary_ocr.doc2bow(doc) for doc in docs_ocr]\n",
    "#MmCorpus.serialize(\"models/corpus.mm\", corpus)\n",
    "\n",
    "print('Number of unique tokens: %d' % len(dictionary_ocr))\n",
    "print('Number of docs: %d' % len(corpus_ocr))"
   ]
  },
  {
   "cell_type": "markdown",
   "metadata": {},
   "source": [
    "## LDA"
   ]
  },
  {
   "cell_type": "code",
   "execution_count": 88,
   "metadata": {},
   "outputs": [
    {
     "name": "stdout",
     "output_type": "stream",
     "text": [
      "CPU times: user 2min 10s, sys: 881 ms, total: 2min 10s\n",
      "Wall time: 33.8 s\n"
     ]
    }
   ],
   "source": [
    "%%time\n",
    "\n",
    "from gensim.models import LdaMulticore, LdaModel\n",
    "params = {'num_topics': 15,'passes': 5, 'random_state': seed}\n",
    "model_ground = LdaModel(corpus=corpus_ground, num_topics=params['num_topics'], id2word=dictionary_ground, #workers=6,\n",
    "                passes=params['passes'], random_state=params['random_state'])"
   ]
  },
  {
   "cell_type": "code",
   "execution_count": 89,
   "metadata": {},
   "outputs": [
    {
     "name": "stdout",
     "output_type": "stream",
     "text": [
      "CPU times: user 1min 57s, sys: 386 ms, total: 1min 58s\n",
      "Wall time: 30 s\n"
     ]
    }
   ],
   "source": [
    "%%time\n",
    "\n",
    "from gensim.models import LdaMulticore, LdaModel\n",
    "params = {'num_topics': 15,'passes': 5, 'random_state': seed}\n",
    "model_ocr = LdaModel(corpus=corpus_ocr, num_topics=params['num_topics'], id2word=dictionary_ocr, #workers=6,\n",
    "                passes=params['passes'], random_state=params['random_state'])"
   ]
  },
  {
   "cell_type": "code",
   "execution_count": 90,
   "metadata": {},
   "outputs": [
    {
     "data": {
      "text/plain": [
       "[(4,\n",
       "  '0.007*\"regering\" + 0.003*\"grote\" + 0.003*\"amerikaanse\" + 0.003*\"president\" + 0.003*\"tussen\"'),\n",
       " (9, '0.008*\"les\" + 0.005*\"que\" + 0.004*\"dans\" + 0.003*\"par\" + 0.002*\"qui\"'),\n",
       " (2, '0.003*\"nws\" + 0.002*\"zyn\" + 0.002*\"gram\" + 0.002*\"grote\" + 0.002*\"the\"'),\n",
       " (12,\n",
       "  '0.003*\"grote\" + 0.002*\"regering\" + 0.002*\"tussen\" + 0.002*\"mensen\" + 0.002*\"nederlandse\"'),\n",
       " (11,\n",
       "  '0.004*\"den_heer\" + 0.003*\"gemeente\" + 0.003*\"vergadering\" + 0.002*\"voorzitter\" + 0.002*\"prijs\"'),\n",
       " (1,\n",
       "  '0.002*\"den_heer\" + 0.002*\"tusschen\" + 0.002*\"cent\" + 0.002*\"staten\" + 0.002*\"frankrijk\"'),\n",
       " (13,\n",
       "  '0.003*\"duitsche\" + 0.002*\"regeering\" + 0.002*\"reuter\" + 0.002*\"troepen\" + 0.002*\"kamer\"'),\n",
       " (5,\n",
       "  '0.010*\"zyn\" + 0.004*\"nieuws\" + 0.004*\"zig\" + 0.003*\"the\" + 0.003*\"zyne\"'),\n",
       " (8,\n",
       "  '0.002*\"den_heer\" + 0.002*\"gemeente\" + 0.002*\"besluit\" + 0.002*\"april\" + 0.002*\"juli\"'),\n",
       " (7,\n",
       "  '0.002*\"dito\" + 0.002*\"school\" + 0.002*\"nov\" + 0.002*\"september\" + 0.002*\"vergadering\"')]"
      ]
     },
     "execution_count": 90,
     "metadata": {},
     "output_type": "execute_result"
    }
   ],
   "source": [
    "model_ground.show_topics(num_words=5)"
   ]
  },
  {
   "cell_type": "code",
   "execution_count": 91,
   "metadata": {},
   "outputs": [
    {
     "data": {
      "text/plain": [
       "[(7,\n",
       "  '0.003*\"gram\" + 0.002*\"den_heer\" + 0.001*\"berichten\" + 0.001*\"maart\" + 0.001*\"melk\"'),\n",
       " (13,\n",
       "  '0.003*\"troepen\" + 0.003*\"duitsche\" + 0.002*\"maart\" + 0.002*\"reuter\" + 0.002*\"oorlog\"'),\n",
       " (1,\n",
       "  '0.003*\"dito\" + 0.002*\"zegt\" + 0.002*\"grote\" + 0.001*\"regering\" + 0.001*\"kerk\"'),\n",
       " (3,\n",
       "  '0.002*\"gisteren\" + 0.002*\"grote\" + 0.002*\"rotterdam\" + 0.002*\"tussen\" + 0.002*\"regering\"'),\n",
       " (4,\n",
       "  '0.002*\"den_heer\" + 0.002*\"kamer\" + 0.002*\"bet\" + 0.002*\"heeren\" + 0.002*\"vergadering\"'),\n",
       " (14,\n",
       "  '0.003*\"bet\" + 0.003*\"zyn\" + 0.002*\"uyt\" + 0.002*\"politie\" + 0.001*\"raad\"'),\n",
       " (9,\n",
       "  '0.004*\"regering\" + 0.003*\"grote\" + 0.002*\"amerikaanse\" + 0.002*\"tussen\" + 0.002*\"aldus\"'),\n",
       " (11,\n",
       "  '0.005*\"duitsche\" + 0.003*\"fransche\" + 0.003*\"regeering\" + 0.003*\"oorlog\" + 0.002*\"duitschland\"'),\n",
       " (12,\n",
       "  '0.006*\"sept\" + 0.003*\"aug\" + 0.002*\"juli\" + 0.002*\"den_heer\" + 0.002*\"alhier\"'),\n",
       " (8,\n",
       "  '0.005*\"the\" + 0.004*\"nieuws\" + 0.004*\"journaal\" + 0.004*\"nos\" + 0.003*\"nws\"')]"
      ]
     },
     "execution_count": 91,
     "metadata": {},
     "output_type": "execute_result"
    }
   ],
   "source": [
    "model_ocr.show_topics(num_words=5)"
   ]
  },
  {
   "cell_type": "markdown",
   "metadata": {},
   "source": [
    "### Evaluation"
   ]
  },
  {
   "cell_type": "markdown",
   "metadata": {},
   "source": [
    "#### Intrinsic\n",
    "\n",
    "Intrinsic evaluation uses internal measurements of the quality of topics. See [here](http://qpleple.com/topic-coherence-to-evaluate-topic-models) for more info."
   ]
  },
  {
   "cell_type": "code",
   "execution_count": 92,
   "metadata": {},
   "outputs": [
    {
     "name": "stdout",
     "output_type": "stream",
     "text": [
      "\n",
      "Perplexity:  -9.389315250655148\n",
      "\n",
      "Coherence Score:  -2.2255753211989995\n",
      "\n",
      "Coherence Score:  0.4094431142335144\n"
     ]
    }
   ],
   "source": [
    "# Perplexity ground truth\n",
    "print('\\nPerplexity: ', model_ground.log_perplexity(corpus_ground))  # a measure of how good the model is. The lower the better.\n",
    "\n",
    "# Coherence score\n",
    "coherence_model_lda = CoherenceModel(model=model_ground, texts=docs_ground, dictionary=dictionary_ground, coherence='c_uci')\n",
    "coherence_lda = coherence_model_lda.get_coherence()\n",
    "print('\\nCoherence Score: ', coherence_lda)\n",
    "\n",
    "coherence_model_lda = CoherenceModel(model=model_ground, texts=docs_ground, dictionary=dictionary_ground, coherence='c_v')\n",
    "coherence_lda = coherence_model_lda.get_coherence()\n",
    "print('\\nCoherence Score: ', coherence_lda)"
   ]
  },
  {
   "cell_type": "code",
   "execution_count": 93,
   "metadata": {
    "scrolled": true
   },
   "outputs": [
    {
     "name": "stdout",
     "output_type": "stream",
     "text": [
      "\n",
      "Perplexity:  -9.404431513546122\n",
      "\n",
      "Coherence Score:  -2.2070254134095317\n",
      "\n",
      "Coherence Score:  0.39579268371304915\n"
     ]
    }
   ],
   "source": [
    "# Perplexity OCR\n",
    "print('\\nPerplexity: ', model_ocr.log_perplexity(corpus_ocr))  # a measure of how good the model is. The lower the better.\n",
    "\n",
    "# Coherence score\n",
    "coherence_model_lda = CoherenceModel(model=model_ocr, texts=docs_ground, dictionary=dictionary_ocr, coherence='c_uci')\n",
    "coherence_lda = coherence_model_lda.get_coherence()\n",
    "print('\\nCoherence Score: ', coherence_lda)\n",
    "\n",
    "coherence_model_lda = CoherenceModel(model=model_ocr, texts=docs_ocr, dictionary=dictionary_ocr, coherence='c_v')\n",
    "coherence_lda = coherence_model_lda.get_coherence()\n",
    "print('\\nCoherence Score: ', coherence_lda)"
   ]
  },
  {
   "cell_type": "markdown",
   "metadata": {},
   "source": [
    "#### Extrinsic\n",
    "\n",
    "Extrinsic evaluation uses comparisons with results from ground truth. "
   ]
  },
  {
   "cell_type": "markdown",
   "metadata": {},
   "source": [
    "##### Match of topics\n",
    "\n",
    "We match every topic in the OCR model with a topic in the human model (by best matching), and assess the overall distance between the two using the weighted total distance over a set of N top words (from the human model to the ocr model). The higher this value, the closest two topics are.\n",
    "\n",
    "Note that to find a matching, we create a weighted network and find the maximal bipartite matching using NetworkX.\n",
    "\n",
    "Afterwards, we can measure the distance of the best match, e.g., using the KL divergence (over the same set of words)."
   ]
  },
  {
   "cell_type": "code",
   "execution_count": 94,
   "metadata": {},
   "outputs": [],
   "source": [
    "import networkx as nx\n",
    "\n",
    "G = nx.Graph()\n",
    "\n",
    "top_n = 500 # how many words to use\n",
    "\n",
    "# add bipartite nodes\n",
    "G.add_nodes_from(['h_'+str(t_h[0]) for t_h in model_ground.show_topics(num_topics = -1, formatted=False, num_words=1)], bipartite=0)\n",
    "G.add_nodes_from(['o_'+str(t_o[0]) for t_o in model_ocr.show_topics(num_topics = -1, formatted=False, num_words=1)], bipartite=1)\n",
    "\n",
    "# add weighted edges\n",
    "for t_h in model_ground.show_topics(num_topics = -1, formatted=False, num_words=top_n):\n",
    "    for t_o in model_ocr.show_topics(num_topics = -1, formatted=False, num_words=top_n):\n",
    "        # note that the higher the weight, the shorter the distance between the two distributions, so we do 1-weight to then do minimal matching\n",
    "        words_of_h = [x[0] for x in t_h[1]]\n",
    "        words_of_o = [x[0] for x in t_o[1]]\n",
    "        weights_of_o = {x[0]:x[1] for x in t_o[1]}\n",
    "        words_in_common = list(set(words_of_h).intersection(set(words_of_o)))\n",
    "        # sum the weighted joint probability of every shared word in the two models\n",
    "        avg_weight = 1 - sum([x[1]*weights_of_o[x[0]] for x in t_h[1] if x[0] in words_in_common])\n",
    "        G.add_edge('h_'+str(t_h[0]),'o_'+str(t_o[0]),weight=avg_weight)\n",
    "        G.add_edge('o_'+str(t_o[0]),'h_'+str(t_h[0]),weight=avg_weight)"
   ]
  },
  {
   "cell_type": "code",
   "execution_count": 95,
   "metadata": {},
   "outputs": [
    {
     "data": {
      "text/plain": [
       "225"
      ]
     },
     "execution_count": 95,
     "metadata": {},
     "output_type": "execute_result"
    }
   ],
   "source": [
    "len(G.edges()) # square of number of topics"
   ]
  },
  {
   "cell_type": "code",
   "execution_count": 96,
   "metadata": {},
   "outputs": [
    {
     "data": {
      "text/plain": [
       "True"
      ]
     },
     "execution_count": 96,
     "metadata": {},
     "output_type": "execute_result"
    }
   ],
   "source": [
    "nx.is_bipartite(G)"
   ]
  },
  {
   "cell_type": "code",
   "execution_count": 97,
   "metadata": {},
   "outputs": [
    {
     "data": {
      "text/plain": [
       "True"
      ]
     },
     "execution_count": 97,
     "metadata": {},
     "output_type": "execute_result"
    }
   ],
   "source": [
    "nx.is_connected(G)"
   ]
  },
  {
   "cell_type": "code",
   "execution_count": 98,
   "metadata": {},
   "outputs": [],
   "source": [
    "bipartite_solution = nx.bipartite.matching.minimum_weight_full_matching(G)"
   ]
  },
  {
   "cell_type": "code",
   "execution_count": 99,
   "metadata": {
    "scrolled": false
   },
   "outputs": [
    {
     "name": "stdout",
     "output_type": "stream",
     "text": [
      "ground h_10 [('regeering', 0.0038295134), ('duitsche', 0.0031397934), ('maart', 0.0017407852), ('fransche', 0.001623009), ('engelsche', 0.0015461006), ('duitschland', 0.0014947052), ('zooals', 0.0014853105), ('tusschen', 0.0014602217), ('japan', 0.0014393915), ('zout', 0.0013657867)]\n",
      "OCR o_13 [('troepen', 0.0029701835), ('duitsche', 0.002949589), ('maart', 0.0023937852), ('reuter', 0.0023370532), ('oorlog', 0.0021438692), ('londen', 0.0019526466), ('regeering', 0.0018999613), ('tusschen', 0.0018224432), ('parijs', 0.001745937), ('bericht', 0.0016383075)]\n",
      "KL divergence 0.0787657\n",
      "Words in common 289\n",
      "=======\n",
      "ground h_5 [('zyn', 0.00978431), ('nieuws', 0.003625967), ('zig', 0.003508388), ('the', 0.002963446), ('zyne', 0.002848769), ('hof', 0.0022281772), ('nos', 0.0021196788), ('dezelve', 0.0020929757), ('afl', 0.002081613), ('word', 0.0020116111)]\n",
      "OCR o_14 [('bet', 0.0032391043), ('zyn', 0.0027920655), ('uyt', 0.0020045894), ('politie', 0.0017369549), ('raad', 0.0014907368), ('alhier', 0.001459955), ('stad', 0.0014274432), ('vrouw', 0.0014248951), ('hof', 0.0014200773), ('voorstel', 0.0013957971)]\n",
      "KL divergence 0.15138146\n",
      "Words in common 215\n",
      "=======\n",
      "ground h_9 [('les', 0.0076591875), ('que', 0.0046071773), ('dans', 0.0040645017), ('par', 0.0025238662), ('qui', 0.0024765707), ('pour', 0.002250363), ('cals', 0.002234034), ('idem', 0.0021905387), ('kvp', 0.0021109106), ('pagina', 0.0019325496)]\n",
      "OCR o_6 [('les', 0.0035500492), ('ton', 0.0026304808), ('besluit', 0.002319493), ('juni', 0.0021574951), ('que', 0.0020611687), ('dans', 0.001824586), ('april', 0.001816702), ('millioen', 0.0015974061), ('opbrengst', 0.0015901033), ('raad', 0.0014651411)]\n",
      "KL divergence 0.16833244\n",
      "Words in common 223\n",
      "=======\n",
      "ground h_6 [('tusschen', 0.0017317265), ('vrouw', 0.0014230784), ('gij', 0.0013865678), ('zegt', 0.0013251245), ('regeering', 0.0013037433), ('zijne', 0.0013008572), ('volk', 0.0012516327), ('heel', 0.0012180991), ('weet', 0.0011960531), ('wat', 0.0011930799)]\n",
      "OCR o_7 [('gram', 0.0027021267), ('den_heer', 0.0016715185), ('berichten', 0.0014142967), ('maart', 0.001357791), ('melk', 0.001294215), ('voogdij', 0.0012816924), ('film', 0.001250641), ('vereeniging', 0.0011889146), ('vaak', 0.0011761129), ('spr', 0.001165396)]\n",
      "KL divergence 0.08037351\n",
      "Words in common 292\n",
      "=======\n",
      "ground h_4 [('regering', 0.006747553), ('grote', 0.0029764103), ('amerikaanse', 0.0029229282), ('president', 0.0027639484), ('tussen', 0.0027575765), ('indonesië', 0.0024629976), ('staten', 0.0023304932), ('aldus', 0.0022458036), ('verenigde', 0.0021871747), ('premier', 0.0021870823)]\n",
      "OCR o_9 [('regering', 0.0039927755), ('grote', 0.0026768378), ('amerikaanse', 0.0023463408), ('tussen', 0.002099866), ('aldus', 0.0019328687), ('president', 0.0018769806), ('staten', 0.0017920278), ('commissie', 0.0017371005), ('landen', 0.0016658377), ('premier', 0.0015564834)]\n",
      "KL divergence 0.050965488\n",
      "Words in common 383\n",
      "=======\n",
      "ground h_11 [('den_heer', 0.0035932052), ('gemeente', 0.0027387612), ('vergadering', 0.0026416979), ('voorzitter', 0.002340901), ('prijs', 0.0022925886), ('alhier', 0.0019772835), ('bestuur', 0.0017849802), ('dienst', 0.0017660342), ('mei', 0.0017158871), ('april', 0.0016991117)]\n",
      "OCR o_0 [('den_heer', 0.002030825), ('bet', 0.0016031456), ('tusschen', 0.0015575669), ('politie', 0.0015460979), ('gemeente', 0.0014675873), ('regeering', 0.0014424582), ('alhier', 0.0014092252), ('door', 0.0012998335), ('vrouw', 0.0012053801), ('liet', 0.0011962783)]\n",
      "KL divergence 0.06375025\n",
      "Words in common 353\n",
      "=======\n",
      "ground h_7 [('dito', 0.001969403), ('school', 0.0018890247), ('nov', 0.0018331559), ('september', 0.0018017504), ('vergadering', 0.0017474798), ('kamer', 0.0016893729), ('den_heer', 0.001689276), ('regeering', 0.0016572172), ('maatschappij', 0.0016270787), ('staten', 0.0015933198)]\n",
      "OCR o_4 [('den_heer', 0.0021576954), ('kamer', 0.0020201758), ('bet', 0.0018629269), ('heeren', 0.0017514017), ('vergadering', 0.0015484004), ('wet', 0.0015370358), ('zyn', 0.0015158975), ('zijne', 0.0014620144), ('tusschen', 0.0013960991), ('staten', 0.0012413387)]\n",
      "KL divergence 0.07189475\n",
      "Words in common 323\n",
      "=======\n",
      "ground h_0 [('zijne', 0.0032689383), ('hunne', 0.0025311776), ('zyn', 0.002515804), ('generaal', 0.0023764884), ('dezelve', 0.002135594), ('dito', 0.0021214536), ('den_heer', 0.002004819), ('maart', 0.0018487769), ('nws', 0.0017658344), ('schip', 0.0017085633)]\n",
      "OCR o_5 [('idem', 0.0025038244), ('mevrouw', 0.0020141683), ('israël', 0.0019695223), ('amerikaanse', 0.001667652), ('nederlandse', 0.0016363978), ('grote', 0.0015845362), ('artikel', 0.0015373168), ('huis', 0.0014653475), ('één', 0.0013619587), ('vrouw', 0.0013498734)]\n",
      "KL divergence 0.15638475\n",
      "Words in common 203\n",
      "=======\n",
      "ground h_3 [('den_heer', 0.0017512377), ('tusschen', 0.0015926185), ('regeering', 0.0014244635), ('vereeniging', 0.0014007826), ('kerk', 0.0013486581), ('stad', 0.0013346178), ('jan', 0.0013274606), ('heeren', 0.0013245622), ('woord', 0.0012988935), ('spr', 0.0012737629)]\n",
      "OCR o_2 [('kerk', 0.0022758436), ('ned', 0.0020218107), ('keizer', 0.0017755876), ('nov', 0.0016954391), ('tusschen', 0.0016487665), ('juli', 0.0016134477), ('gemeente', 0.0015954784), ('half', 0.0015497146), ('duitschland', 0.0014851182), ('dienst', 0.0014051177)]\n",
      "KL divergence 0.080347575\n",
      "Words in common 313\n",
      "=======\n",
      "ground h_12 [('grote', 0.0025215573), ('regering', 0.0024314094), ('tussen', 0.002237265), ('mensen', 0.002131718), ('nederlandse', 0.0020897791), ('aldus', 0.0020137627), ('rotterdam', 0.0019222714), ('kerk', 0.0018506614), ('kerken', 0.0018161731), ('volk', 0.0016911052)]\n",
      "OCR o_3 [('gisteren', 0.0022839012), ('grote', 0.002243242), ('rotterdam', 0.0020060532), ('tussen', 0.0019393362), ('regering', 0.001938369), ('politie', 0.0018857169), ('aldus', 0.0017637177), ('mensen', 0.0016421162), ('pagina', 0.0015405366), ('president', 0.0014904242)]\n",
      "KL divergence 0.041515224\n",
      "Words in common 373\n",
      "=======\n",
      "ground h_13 [('duitsche', 0.0028115772), ('regeering', 0.0024852583), ('reuter', 0.0018228461), ('troepen', 0.001807084), ('kamer', 0.0017541448), ('londen', 0.0017397524), ('oorlog', 0.0017019901), ('staten', 0.0016607409), ('commissie', 0.0016242481), ('berlijn', 0.0015149595)]\n",
      "OCR o_11 [('duitsche', 0.0051094806), ('fransche', 0.0025680314), ('regeering', 0.002515578), ('oorlog', 0.002512988), ('duitschland', 0.0021726105), ('blad', 0.0019984173), ('troepen', 0.0018270103), ('tusschen', 0.001758496), ('vijand', 0.0017033139), ('frankrijk', 0.0016037378)]\n",
      "KL divergence 0.047373742\n",
      "Words in common 359\n",
      "=======\n",
      "ground h_8 [('den_heer', 0.0024362225), ('gemeente', 0.002297911), ('besluit', 0.0022117535), ('april', 0.0020350465), ('juli', 0.0019506332), ('benoemd', 0.0017699362), ('mej', 0.0016935859), ('vergadering', 0.0015295806), ('dienst', 0.0015236941), ('bestuur', 0.0015210588)]\n",
      "OCR o_12 [('sept', 0.005777795), ('aug', 0.0025640244), ('juli', 0.0023345088), ('den_heer', 0.0020734414), ('alhier', 0.0020524086), ('april', 0.0019451424), ('pag', 0.001926163), ('pct', 0.0019214437), ('vergadering', 0.001888261), ('huis', 0.0017483633)]\n",
      "KL divergence 0.09744744\n",
      "Words in common 325\n",
      "=======\n",
      "ground h_14 [('dito', 0.0052876472), ('batavia', 0.003856795), ('koop', 0.0038546708), ('and', 0.003028714), ('the', 0.0029754853), ('doetinchem', 0.0021740168), ('schip', 0.0019411272), ('heeren', 0.001884122), ('den_heer', 0.0017942637), ('verkoopen', 0.0016187761)]\n",
      "OCR o_1 [('dito', 0.0028859149), ('zegt', 0.0020290778), ('grote', 0.0019772004), ('regering', 0.0014156903), ('kerk', 0.0013302983), ('wereld', 0.0012499329), ('jan', 0.0012178855), ('vraag', 0.0012038775), ('als', 0.0011545807), ('mei', 0.0011449616)]\n",
      "KL divergence 0.198019\n",
      "Words in common 226\n",
      "=======\n",
      "ground h_2 [('nws', 0.0027616005), ('zyn', 0.0024686405), ('gram', 0.0023337968), ('grote', 0.0022109454), ('the', 0.0021789793), ('nieuws', 0.0020778596), ('journaal', 0.002026941), ('nos', 0.002014945), ('programma', 0.0019825299), ('amerikaanse', 0.0019085766)]\n",
      "OCR o_8 [('the', 0.004693463), ('nieuws', 0.0043331496), ('journaal', 0.003690958), ('nos', 0.0036465744), ('nws', 0.0031427722), ('programma', 0.0026886805), ('serie', 0.0024590448), ('zyn', 0.0020924471), ('radio', 0.0020853628), ('film', 0.00191922)]\n",
      "KL divergence 0.07891985\n",
      "Words in common 339\n",
      "=======\n",
      "ground h_1 [('den_heer', 0.0022531473), ('tusschen', 0.0020367918), ('cent', 0.0017006225), ('staten', 0.0016419985), ('frankrijk', 0.00151604), ('vrouw', 0.0014136307), ('mogen', 0.0013873782), ('kamer', 0.0012727533), ('fransche', 0.001211181), ('zegt', 0.0011924705)]\n",
      "OCR o_10 [('regeering', 0.0037221091), ('duitsche', 0.0021446033), ('frankrijk', 0.0018841984), ('tusschen', 0.0017763567), ('engeland', 0.0017687317), ('duitschland', 0.0016829917), ('politiek', 0.0015300032), ('raad', 0.0015281463), ('oorlog', 0.0015182141), ('blad', 0.001468886)]\n",
      "KL divergence 0.08122802\n",
      "Words in common 293\n",
      "=======\n"
     ]
    }
   ],
   "source": [
    "from scipy.stats import entropy\n",
    "from collections import defaultdict\n",
    "\n",
    "# analyse matches\n",
    "\n",
    "distances = list()\n",
    "n_words_in_common = list()\n",
    "matches = defaultdict(int)\n",
    "\n",
    "for match_h,match_o in bipartite_solution.items():\n",
    "    if match_h.startswith('o'): # to avoid repeating the matches (complete graph!)\n",
    "        break\n",
    "    matches[int(match_h.split(\"_\")[1])] = int(match_o.split(\"_\")[1])\n",
    "    m_h = model_ground.show_topic(int(match_h.split(\"_\")[1]), topn=top_n)\n",
    "    m_o = model_ocr.show_topic(int(match_o.split(\"_\")[1]), topn=top_n)\n",
    "    weights_of_o = {x[0]:x[1] for x in m_o}\n",
    "    words_of_h = [x[0] for x in m_h]\n",
    "    words_of_o = [x[0] for x in m_o]\n",
    "    words_in_common = list(set(words_of_h).intersection(set(words_of_o)))\n",
    "    n_words_in_common.append(len(words_in_common)/top_n)\n",
    "    dist_h = list()\n",
    "    dist_o = list()\n",
    "    for w in m_h:\n",
    "        if w[0] in words_in_common:\n",
    "            dist_h.append(w[1])\n",
    "            dist_o.append(weights_of_o[w[0]])\n",
    "    print(\"ground\",match_h,model_ground.show_topic(int(match_h.split(\"_\")[1])))\n",
    "    print(\"OCR\",match_o,model_ocr.show_topic(int(match_o.split(\"_\")[1])))\n",
    "    # normalize\n",
    "    dist_h = dist_h/sum(dist_h)\n",
    "    dist_o = dist_o/sum(dist_o)\n",
    "    dist = entropy(dist_h,dist_o)\n",
    "    distances.append(dist)\n",
    "    print(\"KL divergence\", dist)\n",
    "    print(\"Words in common\", len(words_in_common))\n",
    "    print('=======')"
   ]
  },
  {
   "cell_type": "code",
   "execution_count": 118,
   "metadata": {},
   "outputs": [
    {
     "data": {
      "image/png": "[encoded data removed]",
      "text/plain": [
       "<Figure size 432x288 with 1 Axes>"
      ]
     },
     "metadata": {},
     "output_type": "display_data"
    }
   ],
   "source": [
    "sns.distplot(distances, hist=False)\n",
    "plt.xlim((0,1))\n",
    "plt.xlabel(\"KL divergence between ground and OCR topics, with N=%d.\"%top_n)\n",
    "plt.savefig(\"figures/tm_KL.png\")"
   ]
  },
  {
   "cell_type": "code",
   "execution_count": 119,
   "metadata": {},
   "outputs": [
    {
     "data": {
      "image/png": "[encoded data removed]",
      "text/plain": [
       "<Figure size 432x288 with 1 Axes>"
      ]
     },
     "metadata": {},
     "output_type": "display_data"
    }
   ],
   "source": [
    "sns.distplot(n_words_in_common, hist=False)\n",
    "plt.xlim((0,1))\n",
    "plt.xlabel(\"Number of words in common between ground and OCR topics, with N=%d.\"%top_n)\n",
    "plt.savefig(\"figures/tm_words_in_common.png\")"
   ]
  },
  {
   "cell_type": "markdown",
   "metadata": {},
   "source": [
    "#### Entropy\n",
    "\n",
    "Does the entropy (a measure of variety) of the topic distribution per document vary between the ground truth and the OCR version of the dataset?"
   ]
  },
  {
   "cell_type": "code",
   "execution_count": 120,
   "metadata": {},
   "outputs": [
    {
     "data": {
      "text/plain": [
       "[(6, 0.5723313), (12, 0.22523777), (4, 0.15245546), (2, 0.04940966)]"
      ]
     },
     "execution_count": 120,
     "metadata": {},
     "output_type": "execute_result"
    }
   ],
   "source": [
    "# this is how to access a document's topic distrbution\n",
    "\n",
    "sorted(model_ground[corpus_ground[1]],key=lambda x:x[1],reverse=True)"
   ]
  },
  {
   "cell_type": "code",
   "execution_count": 121,
   "metadata": {},
   "outputs": [],
   "source": [
    "# entropy\n",
    "\n",
    "from scipy.stats import entropy"
   ]
  },
  {
   "cell_type": "code",
   "execution_count": 122,
   "metadata": {},
   "outputs": [],
   "source": [
    "entropies_ground = list()\n",
    "max_cluster_ground = list()\n",
    "for d in corpus_ground:\n",
    "    entropies_ground.append(entropy([x[1] for x in model_ground[d]]))\n",
    "    max_cluster_ground.append(sorted(model_ground[d],key=lambda x:x[1],reverse=True)[0][0])\n",
    "    \n",
    "entropies_ocr = list()\n",
    "max_cluster_ocr = list()\n",
    "for d in corpus_ocr:\n",
    "    entropies_ocr.append(entropy([x[1] for x in model_ocr[d]]))\n",
    "    max_cluster_ocr.append(sorted(model_ocr[d],key=lambda x:x[1],reverse=True)[0][0])"
   ]
  },
  {
   "cell_type": "code",
   "execution_count": 129,
   "metadata": {},
   "outputs": [
    {
     "data": {
      "text/plain": [
       "KstestResult(statistic=0.132, pvalue=5.194801845515002e-08)"
      ]
     },
     "execution_count": 129,
     "metadata": {},
     "output_type": "execute_result"
    },
    {
     "data": {
      "image/png": "[encoded data removed]",
      "text/plain": [
       "<Figure size 432x288 with 1 Axes>"
      ]
     },
     "metadata": {},
     "output_type": "display_data"
    }
   ],
   "source": [
    "import seaborn as sns\n",
    "\n",
    "sns.distplot(entropies_ground, hist=False, rug=False, label=\"Ground truth\", color=\"blue\")\n",
    "sns.distplot(entropies_ocr, hist=False, rug=False, label=\"OCR\", color=\"red\")\n",
    "\n",
    "plt.xlabel(\"Entropy of topic distributions (document level).\")\n",
    "plt.xlim((0,2.5))\n",
    "plt.legend()\n",
    "plt.tight_layout()\n",
    "plt.savefig(\"figures/tm_entropy_documents.png\")\n",
    "\n",
    "from scipy.stats import ks_2samp, ttest_ind\n",
    "ks_2samp(entropies_ground, entropies_ocr)"
   ]
  },
  {
   "cell_type": "code",
   "execution_count": 126,
   "metadata": {},
   "outputs": [],
   "source": [
    "# Let's do the same for the topic distribution itself, considering the top N words\n",
    "\n",
    "from collections import defaultdict\n",
    "\n",
    "top_n_l = [500,1000,2000,5000]\n",
    "entropies_ground_topics = defaultdict(list)\n",
    "entropies_ocr_topics = defaultdict(list)\n",
    "\n",
    "for tn in top_n_l:\n",
    "    for t in model_ground.show_topics(num_topics=-1, formatted=False, num_words=tn):\n",
    "        entropies_ground_topics[tn].append(entropy([x[1] for x in t[1]]))\n",
    "\n",
    "    for t in model_ocr.show_topics(num_topics=-1, formatted=False, num_words=tn):\n",
    "        entropies_ocr_topics[tn].append(entropy([x[1] for x in t[1]]))"
   ]
  },
  {
   "cell_type": "code",
   "execution_count": 128,
   "metadata": {},
   "outputs": [
    {
     "name": "stdout",
     "output_type": "stream",
     "text": [
      "Number of top n words: 500\n",
      "KstestResult(statistic=0.3333333333333333, pvalue=0.3855465198257425)\n",
      "Ttest_indResult(statistic=-1.4846015712630627, pvalue=0.14882117722204002)\n",
      "============\n",
      "Number of top n words: 1000\n",
      "KstestResult(statistic=0.3333333333333333, pvalue=0.3855465198257425)\n",
      "Ttest_indResult(statistic=-1.442463495096302, pvalue=0.16026541299012315)\n",
      "============\n",
      "Number of top n words: 2000\n",
      "KstestResult(statistic=0.3333333333333333, pvalue=0.3855465198257425)\n",
      "Ttest_indResult(statistic=-1.351076548952578, pvalue=0.18748808330450323)\n",
      "============\n",
      "Number of top n words: 5000\n",
      "KstestResult(statistic=0.3333333333333333, pvalue=0.3855465198257425)\n",
      "Ttest_indResult(statistic=-1.5161352599277695, pvalue=0.1406946700582477)\n",
      "============\n"
     ]
    },
    {
     "data": {
      "image/png": "[encoded data removed]",
      "text/plain": [
       "<Figure size 432x288 with 1 Axes>"
      ]
     },
     "metadata": {},
     "output_type": "display_data"
    }
   ],
   "source": [
    "import matplotlib.patches as mpatches\n",
    "\n",
    "line_styles = ['-', '--', '-.', ':']\n",
    "\n",
    "for n,tn in enumerate(top_n_l):\n",
    "    print(\"Number of top n words:\",tn)\n",
    "    sns.distplot(entropies_ground_topics[tn], hist=False, rug=False, label=\"V = %d\"%tn, color=\"blue\", kde_kws={'linestyle':line_styles[n]})\n",
    "    sns.distplot(entropies_ocr_topics[tn], hist=False, rug=False, color=\"red\", kde_kws={'linestyle':line_styles[n]})\n",
    "    print(ks_2samp(entropies_ground_topics[tn], entropies_ocr_topics[tn]))\n",
    "    print(ttest_ind(entropies_ground_topics[tn], entropies_ocr_topics[tn]))\n",
    "    print(\"============\")\n",
    "\n",
    "legend1 = plt.legend(loc=\"upper left\")\n",
    "blue_patch = mpatches.Patch(color='blue', label='Ground', linestyle=\"-\", linewidth=0.1, alpha=0.9)\n",
    "red_patch = mpatches.Patch(color='red', label='OCR', linestyle=\"-\", linewidth=0.1, alpha=0.9)\n",
    "legend2 = plt.legend(handles=[blue_patch,red_patch], loc=\"upper right\")\n",
    "plt.gca().add_artist(legend1)\n",
    "plt.gca().add_artist(legend2)\n",
    "plt.xlabel(\"Entropy of topic distributions (document level).\")\n",
    "plt.tight_layout()\n",
    "plt.savefig(\"figures/tm_entropy_topic_distr.png\")"
   ]
  },
  {
   "cell_type": "markdown",
   "metadata": {},
   "source": [
    "#### Clustering by top topic\n",
    "\n",
    "Here we verify whether the topic allocation for a document is consistent between ground truth and OCR versions. To do so, we assume a document belongs to the highest probability topic only, and we use the topic to topic mapping established above. We then verify what is the proportion of documents with consistent assignments over the two versions of the data.\n",
    "\n",
    "Results indicate that such consistency is relatively low, but it varies widely across topics."
   ]
  },
  {
   "cell_type": "code",
   "execution_count": 130,
   "metadata": {},
   "outputs": [],
   "source": [
    "matches_per_cluster = defaultdict(int)\n",
    "documents_per_cluster = defaultdict(int)\n",
    "\n",
    "for h,o in zip(max_cluster_ground,max_cluster_ocr):\n",
    "    documents_per_cluster[h] += 1\n",
    "    if o == matches[h]:\n",
    "        matches_per_cluster[h] += 1"
   ]
  },
  {
   "cell_type": "code",
   "execution_count": 131,
   "metadata": {},
   "outputs": [
    {
     "data": {
      "text/plain": [
       "defaultdict(int,\n",
       "            {13: 23,\n",
       "             11: 32,\n",
       "             4: 31,\n",
       "             12: 51,\n",
       "             2: 26,\n",
       "             7: 10,\n",
       "             3: 2,\n",
       "             0: 1,\n",
       "             8: 10,\n",
       "             10: 1,\n",
       "             5: 3,\n",
       "             9: 4,\n",
       "             1: 2,\n",
       "             6: 2,\n",
       "             14: 1})"
      ]
     },
     "execution_count": 131,
     "metadata": {},
     "output_type": "execute_result"
    }
   ],
   "source": [
    "matches_per_cluster"
   ]
  },
  {
   "cell_type": "code",
   "execution_count": 132,
   "metadata": {},
   "outputs": [
    {
     "data": {
      "text/plain": [
       "defaultdict(int,\n",
       "            {2: 65,\n",
       "             6: 276,\n",
       "             8: 124,\n",
       "             13: 140,\n",
       "             0: 41,\n",
       "             12: 87,\n",
       "             11: 78,\n",
       "             7: 21,\n",
       "             4: 43,\n",
       "             3: 60,\n",
       "             14: 9,\n",
       "             9: 13,\n",
       "             5: 22,\n",
       "             1: 11,\n",
       "             10: 10})"
      ]
     },
     "execution_count": 132,
     "metadata": {},
     "output_type": "execute_result"
    }
   ],
   "source": [
    "documents_per_cluster"
   ]
  },
  {
   "cell_type": "code",
   "execution_count": 133,
   "metadata": {},
   "outputs": [
    {
     "data": {
      "text/plain": [
       "[0.16428571428571428,\n",
       " 0.41025641025641024,\n",
       " 0.7209302325581395,\n",
       " 0.5862068965517241,\n",
       " 0.4,\n",
       " 0.47619047619047616,\n",
       " 0.03333333333333333,\n",
       " 0.024390243902439025,\n",
       " 0.08064516129032258,\n",
       " 0.1,\n",
       " 0.13636363636363635,\n",
       " 0.3076923076923077,\n",
       " 0.18181818181818182,\n",
       " 0.007246376811594203,\n",
       " 0.1111111111111111]"
      ]
     },
     "execution_count": 133,
     "metadata": {},
     "output_type": "execute_result"
    }
   ],
   "source": [
    "clusters_proportions = [v/documents_per_cluster[k] for k,v in matches_per_cluster.items()]\n",
    "\n",
    "clusters_proportions"
   ]
  },
  {
   "cell_type": "code",
   "execution_count": 134,
   "metadata": {},
   "outputs": [
    {
     "data": {
      "text/plain": [
       "0.24936467214435934"
      ]
     },
     "execution_count": 134,
     "metadata": {},
     "output_type": "execute_result"
    }
   ],
   "source": [
    "np.average(clusters_proportions)"
   ]
  },
  {
   "cell_type": "code",
   "execution_count": 135,
   "metadata": {},
   "outputs": [
    {
     "data": {
      "text/plain": [
       "0.16428571428571428"
      ]
     },
     "execution_count": 135,
     "metadata": {},
     "output_type": "execute_result"
    }
   ],
   "source": [
    "np.median(clusters_proportions)"
   ]
  },
  {
   "cell_type": "code",
   "execution_count": 141,
   "metadata": {},
   "outputs": [
    {
     "data": {
      "image/png": "[encoded data removed]",
      "text/plain": [
       "<Figure size 432x288 with 1 Axes>"
      ]
     },
     "metadata": {},
     "output_type": "display_data"
    }
   ],
   "source": [
    "sns.distplot(clusters_proportions, norm_hist=False, bins=10, kde=False)\n",
    "plt.xlabel(\"Proportion of documents in topic clusters.\")\n",
    "plt.xlim((0,1))\n",
    "plt.tight_layout()"
   ]
  },
  {
   "cell_type": "markdown",
   "metadata": {},
   "source": [
    "#### Manual inspection of some documents for comparison\n",
    "\n",
    "From: https://www.machinelearningplus.com/nlp/topic-modeling-gensim-python\n",
    "\n",
    "Find the most discriminative document per topic. For topic-topic matching, see above."
   ]
  },
  {
   "cell_type": "code",
   "execution_count": 142,
   "metadata": {},
   "outputs": [],
   "source": [
    "def format_topics_sentences(ldamodel, corpus, texts):\n",
    "    # Init output\n",
    "    sent_topics_df = pd.DataFrame()\n",
    "\n",
    "    # Get main topic in each document\n",
    "    for i, row in enumerate(ldamodel[corpus]):\n",
    "        row = sorted(row, key=lambda x: (x[1]), reverse=True)\n",
    "        # Get the Dominant topic, Perc Contribution and Keywords for each document\n",
    "        for j, (topic_num, prop_topic) in enumerate(row):\n",
    "            if j == 0:  # => dominant topic\n",
    "                wp = ldamodel.show_topic(topic_num)\n",
    "                topic_keywords = \", \".join([word for word, prop in wp])\n",
    "                sent_topics_df = sent_topics_df.append(pd.Series([int(topic_num), round(prop_topic,4), topic_keywords]), ignore_index=True)\n",
    "            else:\n",
    "                break\n",
    "    sent_topics_df.columns = ['Dominant_Topic', 'Perc_Contribution', 'Topic_Keywords']\n",
    "\n",
    "    # Add original text to the end of the output\n",
    "    contents = pd.Series(texts)\n",
    "    sent_topics_df = pd.concat([sent_topics_df, contents], axis=1)\n",
    "    return(sent_topics_df)\n",
    "\n",
    "df_topic_sents_keywords_ground = format_topics_sentences(ldamodel=model_ground, corpus=corpus_ground, texts=docs_ground)\n",
    "df_topic_sents_keywords_ocr = format_topics_sentences(ldamodel=model_ocr, corpus=corpus_ocr, texts=docs_ocr)\n",
    "\n",
    "# Format\n",
    "df_dominant_topic_ground = df_topic_sents_keywords_ground.reset_index()\n",
    "df_dominant_topic_ground.columns = ['Document_No', 'Dominant_Topic', 'Topic_Perc_Contrib', 'Keywords', 'Text']\n",
    "df_dominant_topic_ocr = df_topic_sents_keywords_ocr.reset_index()\n",
    "df_dominant_topic_ocr.columns = ['Document_No', 'Dominant_Topic', 'Topic_Perc_Contrib', 'Keywords', 'Text']"
   ]
  },
  {
   "cell_type": "code",
   "execution_count": 143,
   "metadata": {},
   "outputs": [
    {
     "data": {
      "text/html": [
       "<div>\n",
       "<style scoped>\n",
       "    .dataframe tbody tr th:only-of-type {\n",
       "        vertical-align: middle;\n",
       "    }\n",
       "\n",
       "    .dataframe tbody tr th {\n",
       "        vertical-align: top;\n",
       "    }\n",
       "\n",
       "    .dataframe thead th {\n",
       "        text-align: right;\n",
       "    }\n",
       "</style>\n",
       "<table border=\"1\" class=\"dataframe\">\n",
       "  <thead>\n",
       "    <tr style=\"text-align: right;\">\n",
       "      <th></th>\n",
       "      <th>Document_No</th>\n",
       "      <th>Dominant_Topic</th>\n",
       "      <th>Topic_Perc_Contrib</th>\n",
       "      <th>Keywords</th>\n",
       "      <th>Text</th>\n",
       "    </tr>\n",
       "  </thead>\n",
       "  <tbody>\n",
       "    <tr>\n",
       "      <th>0</th>\n",
       "      <td>0</td>\n",
       "      <td>2.0</td>\n",
       "      <td>0.6733</td>\n",
       "      <td>nws, zyn, gram, grote, the, nieuws, journaal, ...</td>\n",
       "      <td>[woensdag, juli, jaargang, abonnees, limburgs,...</td>\n",
       "    </tr>\n",
       "    <tr>\n",
       "      <th>1</th>\n",
       "      <td>1</td>\n",
       "      <td>6.0</td>\n",
       "      <td>0.5724</td>\n",
       "      <td>tusschen, vrouw, gij, zegt, regeering, zijne, ...</td>\n",
       "      <td>[derde, waarschuwing, verhoging, rente, nederl...</td>\n",
       "    </tr>\n",
       "    <tr>\n",
       "      <th>2</th>\n",
       "      <td>2</td>\n",
       "      <td>8.0</td>\n",
       "      <td>0.9714</td>\n",
       "      <td>den_heer, gemeente, besluit, april, juli, beno...</td>\n",
       "      <td>[onderscheiden, gemakkelijk, volgen, biljetten...</td>\n",
       "    </tr>\n",
       "    <tr>\n",
       "      <th>3</th>\n",
       "      <td>3</td>\n",
       "      <td>13.0</td>\n",
       "      <td>0.5861</td>\n",
       "      <td>duitsche, regeering, reuter, troepen, kamer, l...</td>\n",
       "      <td>[jaargang, dinsdag, juli, twentsch, dagblad, t...</td>\n",
       "    </tr>\n",
       "    <tr>\n",
       "      <th>4</th>\n",
       "      <td>4</td>\n",
       "      <td>8.0</td>\n",
       "      <td>0.4813</td>\n",
       "      <td>den_heer, gemeente, besluit, april, juli, beno...</td>\n",
       "      <td>[nieuwe, professor, van, school, laren, een, f...</td>\n",
       "    </tr>\n",
       "    <tr>\n",
       "      <th>5</th>\n",
       "      <td>5</td>\n",
       "      <td>2.0</td>\n",
       "      <td>0.6178</td>\n",
       "      <td>nws, zyn, gram, grote, the, nieuws, journaal, ...</td>\n",
       "      <td>[ryestem, redakteur, uitgever, wilfred, lionar...</td>\n",
       "    </tr>\n",
       "    <tr>\n",
       "      <th>6</th>\n",
       "      <td>6</td>\n",
       "      <td>0.0</td>\n",
       "      <td>0.5047</td>\n",
       "      <td>zijne, hunne, zyn, generaal, dezelve, dito, de...</td>\n",
       "      <td>[den, dienst, suriname, bestemde, off, van, aa...</td>\n",
       "    </tr>\n",
       "    <tr>\n",
       "      <th>7</th>\n",
       "      <td>7</td>\n",
       "      <td>12.0</td>\n",
       "      <td>0.5114</td>\n",
       "      <td>grote, regering, tussen, mensen, nederlandse, ...</td>\n",
       "      <td>[hoofdblad, friesland, sinds, woensdag, august...</td>\n",
       "    </tr>\n",
       "    <tr>\n",
       "      <th>8</th>\n",
       "      <td>8</td>\n",
       "      <td>11.0</td>\n",
       "      <td>0.2497</td>\n",
       "      <td>den_heer, gemeente, vergadering, voorzitter, p...</td>\n",
       "      <td>[non, combattanten, samen, gebracht, haar, ver...</td>\n",
       "    </tr>\n",
       "    <tr>\n",
       "      <th>9</th>\n",
       "      <td>9</td>\n",
       "      <td>7.0</td>\n",
       "      <td>0.5356</td>\n",
       "      <td>dito, school, nov, september, vergadering, kam...</td>\n",
       "      <td>[eene, beknopte, schets, daden, welke, den, ne...</td>\n",
       "    </tr>\n",
       "  </tbody>\n",
       "</table>\n",
       "</div>"
      ],
      "text/plain": [
       "   Document_No  Dominant_Topic  Topic_Perc_Contrib  \\\n",
       "0            0             2.0              0.6733   \n",
       "1            1             6.0              0.5724   \n",
       "2            2             8.0              0.9714   \n",
       "3            3            13.0              0.5861   \n",
       "4            4             8.0              0.4813   \n",
       "5            5             2.0              0.6178   \n",
       "6            6             0.0              0.5047   \n",
       "7            7            12.0              0.5114   \n",
       "8            8            11.0              0.2497   \n",
       "9            9             7.0              0.5356   \n",
       "\n",
       "                                            Keywords  \\\n",
       "0  nws, zyn, gram, grote, the, nieuws, journaal, ...   \n",
       "1  tusschen, vrouw, gij, zegt, regeering, zijne, ...   \n",
       "2  den_heer, gemeente, besluit, april, juli, beno...   \n",
       "3  duitsche, regeering, reuter, troepen, kamer, l...   \n",
       "4  den_heer, gemeente, besluit, april, juli, beno...   \n",
       "5  nws, zyn, gram, grote, the, nieuws, journaal, ...   \n",
       "6  zijne, hunne, zyn, generaal, dezelve, dito, de...   \n",
       "7  grote, regering, tussen, mensen, nederlandse, ...   \n",
       "8  den_heer, gemeente, vergadering, voorzitter, p...   \n",
       "9  dito, school, nov, september, vergadering, kam...   \n",
       "\n",
       "                                                Text  \n",
       "0  [woensdag, juli, jaargang, abonnees, limburgs,...  \n",
       "1  [derde, waarschuwing, verhoging, rente, nederl...  \n",
       "2  [onderscheiden, gemakkelijk, volgen, biljetten...  \n",
       "3  [jaargang, dinsdag, juli, twentsch, dagblad, t...  \n",
       "4  [nieuwe, professor, van, school, laren, een, f...  \n",
       "5  [ryestem, redakteur, uitgever, wilfred, lionar...  \n",
       "6  [den, dienst, suriname, bestemde, off, van, aa...  \n",
       "7  [hoofdblad, friesland, sinds, woensdag, august...  \n",
       "8  [non, combattanten, samen, gebracht, haar, ver...  \n",
       "9  [eene, beknopte, schets, daden, welke, den, ne...  "
      ]
     },
     "execution_count": 143,
     "metadata": {},
     "output_type": "execute_result"
    }
   ],
   "source": [
    "# Show\n",
    "df_dominant_topic_ground.head(10)"
   ]
  },
  {
   "cell_type": "code",
   "execution_count": 144,
   "metadata": {},
   "outputs": [
    {
     "data": {
      "text/html": [
       "<div>\n",
       "<style scoped>\n",
       "    .dataframe tbody tr th:only-of-type {\n",
       "        vertical-align: middle;\n",
       "    }\n",
       "\n",
       "    .dataframe tbody tr th {\n",
       "        vertical-align: top;\n",
       "    }\n",
       "\n",
       "    .dataframe thead th {\n",
       "        text-align: right;\n",
       "    }\n",
       "</style>\n",
       "<table border=\"1\" class=\"dataframe\">\n",
       "  <thead>\n",
       "    <tr style=\"text-align: right;\">\n",
       "      <th></th>\n",
       "      <th>Document_No</th>\n",
       "      <th>Dominant_Topic</th>\n",
       "      <th>Topic_Perc_Contrib</th>\n",
       "      <th>Keywords</th>\n",
       "      <th>Text</th>\n",
       "    </tr>\n",
       "  </thead>\n",
       "  <tbody>\n",
       "    <tr>\n",
       "      <th>0</th>\n",
       "      <td>0</td>\n",
       "      <td>3.0</td>\n",
       "      <td>0.9946</td>\n",
       "      <td>gisteren, grote, rotterdam, tussen, regering, ...</td>\n",
       "      <td>[woensdag, juli, jaargang, abonnees, limburgs,...</td>\n",
       "    </tr>\n",
       "    <tr>\n",
       "      <th>1</th>\n",
       "      <td>1</td>\n",
       "      <td>8.0</td>\n",
       "      <td>0.4942</td>\n",
       "      <td>the, nieuws, journaal, nos, nws, programma, se...</td>\n",
       "      <td>[derde, waarschuwing, tye, verhoging, rente, n...</td>\n",
       "    </tr>\n",
       "    <tr>\n",
       "      <th>2</th>\n",
       "      <td>2</td>\n",
       "      <td>0.0</td>\n",
       "      <td>0.9807</td>\n",
       "      <td>den_heer, bet, tusschen, politie, gemeente, re...</td>\n",
       "      <td>[ondiersdhipmen, mjjstien, apjfl, zijr, zeer, ...</td>\n",
       "    </tr>\n",
       "    <tr>\n",
       "      <th>3</th>\n",
       "      <td>3</td>\n",
       "      <td>11.0</td>\n",
       "      <td>0.4151</td>\n",
       "      <td>duitsche, fransche, regeering, oorlog, duitsch...</td>\n",
       "      <td>[jïaarpairag, dtotag, jnll, ïwentsch, tubantia...</td>\n",
       "    </tr>\n",
       "    <tr>\n",
       "      <th>4</th>\n",
       "      <td>4</td>\n",
       "      <td>0.0</td>\n",
       "      <td>0.5368</td>\n",
       "      <td>den_heer, bet, tusschen, politie, gemeente, re...</td>\n",
       "      <td>[nieuwe, professor, van, reesschool, laren, ee...</td>\n",
       "    </tr>\n",
       "    <tr>\n",
       "      <th>5</th>\n",
       "      <td>5</td>\n",
       "      <td>3.0</td>\n",
       "      <td>0.4274</td>\n",
       "      <td>gisteren, grote, rotterdam, tussen, regering, ...</td>\n",
       "      <td>[vrije, stem, ftodakteur, uitgever, wilfred, l...</td>\n",
       "    </tr>\n",
       "    <tr>\n",
       "      <th>6</th>\n",
       "      <td>6</td>\n",
       "      <td>0.0</td>\n",
       "      <td>0.6725</td>\n",
       "      <td>den_heer, bet, tusschen, politie, gemeente, re...</td>\n",
       "      <td>[vóof, den, bariaaae, nde, off, tan, net, aals...</td>\n",
       "    </tr>\n",
       "    <tr>\n",
       "      <th>7</th>\n",
       "      <td>7</td>\n",
       "      <td>5.0</td>\n",
       "      <td>0.9749</td>\n",
       "      <td>idem, mevrouw, israël, amerikaanse, nederlands...</td>\n",
       "      <td>[hoofd, blad, friesland, sinds, ïffi, woknsdag...</td>\n",
       "    </tr>\n",
       "    <tr>\n",
       "      <th>8</th>\n",
       "      <td>8</td>\n",
       "      <td>0.0</td>\n",
       "      <td>0.9930</td>\n",
       "      <td>den_heer, bet, tusschen, politie, gemeente, re...</td>\n",
       "      <td>[non, combattanten, samen, gebracht, haar, ver...</td>\n",
       "    </tr>\n",
       "    <tr>\n",
       "      <th>9</th>\n",
       "      <td>9</td>\n",
       "      <td>6.0</td>\n",
       "      <td>0.6873</td>\n",
       "      <td>les, ton, besluit, juni, que, dans, april, mil...</td>\n",
       "      <td>[eene, beknopte, schets, daden, welk, den, ned...</td>\n",
       "    </tr>\n",
       "  </tbody>\n",
       "</table>\n",
       "</div>"
      ],
      "text/plain": [
       "   Document_No  Dominant_Topic  Topic_Perc_Contrib  \\\n",
       "0            0             3.0              0.9946   \n",
       "1            1             8.0              0.4942   \n",
       "2            2             0.0              0.9807   \n",
       "3            3            11.0              0.4151   \n",
       "4            4             0.0              0.5368   \n",
       "5            5             3.0              0.4274   \n",
       "6            6             0.0              0.6725   \n",
       "7            7             5.0              0.9749   \n",
       "8            8             0.0              0.9930   \n",
       "9            9             6.0              0.6873   \n",
       "\n",
       "                                            Keywords  \\\n",
       "0  gisteren, grote, rotterdam, tussen, regering, ...   \n",
       "1  the, nieuws, journaal, nos, nws, programma, se...   \n",
       "2  den_heer, bet, tusschen, politie, gemeente, re...   \n",
       "3  duitsche, fransche, regeering, oorlog, duitsch...   \n",
       "4  den_heer, bet, tusschen, politie, gemeente, re...   \n",
       "5  gisteren, grote, rotterdam, tussen, regering, ...   \n",
       "6  den_heer, bet, tusschen, politie, gemeente, re...   \n",
       "7  idem, mevrouw, israël, amerikaanse, nederlands...   \n",
       "8  den_heer, bet, tusschen, politie, gemeente, re...   \n",
       "9  les, ton, besluit, juni, que, dans, april, mil...   \n",
       "\n",
       "                                                Text  \n",
       "0  [woensdag, juli, jaargang, abonnees, limburgs,...  \n",
       "1  [derde, waarschuwing, tye, verhoging, rente, n...  \n",
       "2  [ondiersdhipmen, mjjstien, apjfl, zijr, zeer, ...  \n",
       "3  [jïaarpairag, dtotag, jnll, ïwentsch, tubantia...  \n",
       "4  [nieuwe, professor, van, reesschool, laren, ee...  \n",
       "5  [vrije, stem, ftodakteur, uitgever, wilfred, l...  \n",
       "6  [vóof, den, bariaaae, nde, off, tan, net, aals...  \n",
       "7  [hoofd, blad, friesland, sinds, ïffi, woknsdag...  \n",
       "8  [non, combattanten, samen, gebracht, haar, ver...  \n",
       "9  [eene, beknopte, schets, daden, welk, den, ned...  "
      ]
     },
     "execution_count": 144,
     "metadata": {},
     "output_type": "execute_result"
    }
   ],
   "source": [
    "# Show\n",
    "df_dominant_topic_ocr.head(10)"
   ]
  },
  {
   "cell_type": "code",
   "execution_count": 145,
   "metadata": {},
   "outputs": [],
   "source": [
    "# Group top 5 sentences under each topic\n",
    "sent_topics_sorteddf_ground = pd.DataFrame()\n",
    "\n",
    "sent_topics_outdf_grpd_ground = df_topic_sents_keywords_ground.groupby('Dominant_Topic')\n",
    "\n",
    "for i, grp in sent_topics_outdf_grpd_ground:\n",
    "    sent_topics_sorteddf_ground = pd.concat([sent_topics_sorteddf_ground, \n",
    "                                             grp.sort_values(['Perc_Contribution'], ascending=[0]).head(1)], \n",
    "                                            axis=0)\n",
    "\n",
    "# Reset Index    \n",
    "sent_topics_sorteddf_ground.reset_index(drop=True, inplace=True)\n",
    "\n",
    "# Format\n",
    "sent_topics_sorteddf_ground.columns = ['Topic_Num', \"Topic_Perc_Contrib\", \"Keywords\", \"Text\"]"
   ]
  },
  {
   "cell_type": "code",
   "execution_count": 146,
   "metadata": {},
   "outputs": [
    {
     "data": {
      "text/html": [
       "<div>\n",
       "<style scoped>\n",
       "    .dataframe tbody tr th:only-of-type {\n",
       "        vertical-align: middle;\n",
       "    }\n",
       "\n",
       "    .dataframe tbody tr th {\n",
       "        vertical-align: top;\n",
       "    }\n",
       "\n",
       "    .dataframe thead th {\n",
       "        text-align: right;\n",
       "    }\n",
       "</style>\n",
       "<table border=\"1\" class=\"dataframe\">\n",
       "  <thead>\n",
       "    <tr style=\"text-align: right;\">\n",
       "      <th></th>\n",
       "      <th>Topic_Num</th>\n",
       "      <th>Topic_Perc_Contrib</th>\n",
       "      <th>Keywords</th>\n",
       "      <th>Text</th>\n",
       "    </tr>\n",
       "  </thead>\n",
       "  <tbody>\n",
       "    <tr>\n",
       "      <th>0</th>\n",
       "      <td>0.0</td>\n",
       "      <td>0.9993</td>\n",
       "      <td>zijne, hunne, zyn, generaal, dezelve, dito, de...</td>\n",
       "      <td>[liberaal, ijverde, vlugschriften, res, taurat...</td>\n",
       "    </tr>\n",
       "    <tr>\n",
       "      <th>1</th>\n",
       "      <td>1.0</td>\n",
       "      <td>0.9993</td>\n",
       "      <td>den_heer, tusschen, cent, staten, frankrijk, v...</td>\n",
       "      <td>[jaargang, zaterdag, leeuwarder, courant, abon...</td>\n",
       "    </tr>\n",
       "    <tr>\n",
       "      <th>2</th>\n",
       "      <td>2.0</td>\n",
       "      <td>0.9993</td>\n",
       "      <td>nws, zyn, gram, grote, the, nieuws, journaal, ...</td>\n",
       "      <td>[vandaag, nederland, onderwijskunde, les, herh...</td>\n",
       "    </tr>\n",
       "    <tr>\n",
       "      <th>3</th>\n",
       "      <td>3.0</td>\n",
       "      <td>0.9993</td>\n",
       "      <td>den_heer, tusschen, regeering, vereeniging, ke...</td>\n",
       "      <td>[avondblad, het, auteursrecht, den, inhoud, bl...</td>\n",
       "    </tr>\n",
       "    <tr>\n",
       "      <th>4</th>\n",
       "      <td>4.0</td>\n",
       "      <td>0.9993</td>\n",
       "      <td>regering, grote, amerikaanse, president, tusse...</td>\n",
       "      <td>[djakarta, politie, arresteerde, zestig, bandi...</td>\n",
       "    </tr>\n",
       "    <tr>\n",
       "      <th>5</th>\n",
       "      <td>5.0</td>\n",
       "      <td>0.9992</td>\n",
       "      <td>zyn, nieuws, zig, the, zyne, hof, nos, dezelve...</td>\n",
       "      <td>[sport, tweemaal, rodenhuis, haan, haan, heere...</td>\n",
       "    </tr>\n",
       "    <tr>\n",
       "      <th>6</th>\n",
       "      <td>6.0</td>\n",
       "      <td>0.9993</td>\n",
       "      <td>tusschen, vrouw, gij, zegt, regeering, zijne, ...</td>\n",
       "      <td>[achtendertigste, jaargang, zaterdag, oct, nie...</td>\n",
       "    </tr>\n",
       "    <tr>\n",
       "      <th>7</th>\n",
       "      <td>7.0</td>\n",
       "      <td>0.9993</td>\n",
       "      <td>dito, school, nov, september, vergadering, kam...</td>\n",
       "      <td>[ten, noort, aneta, seint, den, haag, ten, noo...</td>\n",
       "    </tr>\n",
       "    <tr>\n",
       "      <th>8</th>\n",
       "      <td>8.0</td>\n",
       "      <td>0.9993</td>\n",
       "      <td>den_heer, gemeente, besluit, april, juli, beno...</td>\n",
       "      <td>[dering, vertier, dam, omgeving, warmoestraat,...</td>\n",
       "    </tr>\n",
       "    <tr>\n",
       "      <th>9</th>\n",
       "      <td>9.0</td>\n",
       "      <td>0.9992</td>\n",
       "      <td>les, que, dans, par, qui, pour, cals, idem, kv...</td>\n",
       "      <td>[friese, koerier, uitgeefster, stichting, main...</td>\n",
       "    </tr>\n",
       "    <tr>\n",
       "      <th>10</th>\n",
       "      <td>10.0</td>\n",
       "      <td>0.9993</td>\n",
       "      <td>regeering, duitsche, maart, fransche, engelsch...</td>\n",
       "      <td>[jaargang, zaterdag, juni, avondblad, vier, bl...</td>\n",
       "    </tr>\n",
       "    <tr>\n",
       "      <th>11</th>\n",
       "      <td>11.0</td>\n",
       "      <td>0.9993</td>\n",
       "      <td>den_heer, gemeente, vergadering, voorzitter, p...</td>\n",
       "      <td>[openingsrede, faber, zutphen, luisteren, klar...</td>\n",
       "    </tr>\n",
       "    <tr>\n",
       "      <th>12</th>\n",
       "      <td>12.0</td>\n",
       "      <td>0.9993</td>\n",
       "      <td>grote, regering, tussen, mensen, nederlandse, ...</td>\n",
       "      <td>[nederlands, dagblad, hoofdredacteur, drs, vri...</td>\n",
       "    </tr>\n",
       "    <tr>\n",
       "      <th>13</th>\n",
       "      <td>13.0</td>\n",
       "      <td>0.9994</td>\n",
       "      <td>duitsche, regeering, reuter, troepen, kamer, l...</td>\n",
       "      <td>[directie, administratie, telefoon, noord, voo...</td>\n",
       "    </tr>\n",
       "    <tr>\n",
       "      <th>14</th>\n",
       "      <td>14.0</td>\n",
       "      <td>0.9992</td>\n",
       "      <td>dito, batavia, koop, and, the, doetinchem, sch...</td>\n",
       "      <td>[overzicht, amsterd, beurs, dec, hoewel, stemm...</td>\n",
       "    </tr>\n",
       "  </tbody>\n",
       "</table>\n",
       "</div>"
      ],
      "text/plain": [
       "    Topic_Num  Topic_Perc_Contrib  \\\n",
       "0         0.0              0.9993   \n",
       "1         1.0              0.9993   \n",
       "2         2.0              0.9993   \n",
       "3         3.0              0.9993   \n",
       "4         4.0              0.9993   \n",
       "5         5.0              0.9992   \n",
       "6         6.0              0.9993   \n",
       "7         7.0              0.9993   \n",
       "8         8.0              0.9993   \n",
       "9         9.0              0.9992   \n",
       "10       10.0              0.9993   \n",
       "11       11.0              0.9993   \n",
       "12       12.0              0.9993   \n",
       "13       13.0              0.9994   \n",
       "14       14.0              0.9992   \n",
       "\n",
       "                                             Keywords  \\\n",
       "0   zijne, hunne, zyn, generaal, dezelve, dito, de...   \n",
       "1   den_heer, tusschen, cent, staten, frankrijk, v...   \n",
       "2   nws, zyn, gram, grote, the, nieuws, journaal, ...   \n",
       "3   den_heer, tusschen, regeering, vereeniging, ke...   \n",
       "4   regering, grote, amerikaanse, president, tusse...   \n",
       "5   zyn, nieuws, zig, the, zyne, hof, nos, dezelve...   \n",
       "6   tusschen, vrouw, gij, zegt, regeering, zijne, ...   \n",
       "7   dito, school, nov, september, vergadering, kam...   \n",
       "8   den_heer, gemeente, besluit, april, juli, beno...   \n",
       "9   les, que, dans, par, qui, pour, cals, idem, kv...   \n",
       "10  regeering, duitsche, maart, fransche, engelsch...   \n",
       "11  den_heer, gemeente, vergadering, voorzitter, p...   \n",
       "12  grote, regering, tussen, mensen, nederlandse, ...   \n",
       "13  duitsche, regeering, reuter, troepen, kamer, l...   \n",
       "14  dito, batavia, koop, and, the, doetinchem, sch...   \n",
       "\n",
       "                                                 Text  \n",
       "0   [liberaal, ijverde, vlugschriften, res, taurat...  \n",
       "1   [jaargang, zaterdag, leeuwarder, courant, abon...  \n",
       "2   [vandaag, nederland, onderwijskunde, les, herh...  \n",
       "3   [avondblad, het, auteursrecht, den, inhoud, bl...  \n",
       "4   [djakarta, politie, arresteerde, zestig, bandi...  \n",
       "5   [sport, tweemaal, rodenhuis, haan, haan, heere...  \n",
       "6   [achtendertigste, jaargang, zaterdag, oct, nie...  \n",
       "7   [ten, noort, aneta, seint, den, haag, ten, noo...  \n",
       "8   [dering, vertier, dam, omgeving, warmoestraat,...  \n",
       "9   [friese, koerier, uitgeefster, stichting, main...  \n",
       "10  [jaargang, zaterdag, juni, avondblad, vier, bl...  \n",
       "11  [openingsrede, faber, zutphen, luisteren, klar...  \n",
       "12  [nederlands, dagblad, hoofdredacteur, drs, vri...  \n",
       "13  [directie, administratie, telefoon, noord, voo...  \n",
       "14  [overzicht, amsterd, beurs, dec, hoewel, stemm...  "
      ]
     },
     "execution_count": 146,
     "metadata": {},
     "output_type": "execute_result"
    }
   ],
   "source": [
    "# Show\n",
    "sent_topics_sorteddf_ground"
   ]
  },
  {
   "cell_type": "code",
   "execution_count": 147,
   "metadata": {},
   "outputs": [],
   "source": [
    "# Group top 5 sentences under each topic\n",
    "sent_topics_sorteddf_ocr = pd.DataFrame()\n",
    "\n",
    "sent_topics_outdf_grpd_ocr = df_topic_sents_keywords_ocr.groupby('Dominant_Topic')\n",
    "\n",
    "for i, grp in sent_topics_outdf_grpd_ocr:\n",
    "    sent_topics_sorteddf_ocr = pd.concat([sent_topics_sorteddf_ocr, \n",
    "                                             grp.sort_values(['Perc_Contribution'], ascending=[0]).head(1)], \n",
    "                                            axis=0)\n",
    "\n",
    "# Reset Index    \n",
    "sent_topics_sorteddf_ocr.reset_index(drop=True, inplace=True)\n",
    "\n",
    "# Format\n",
    "sent_topics_sorteddf_ocr.columns = ['Topic_Num', \"Topic_Perc_Contrib\", \"Keywords\", \"Text\"]"
   ]
  },
  {
   "cell_type": "code",
   "execution_count": 148,
   "metadata": {},
   "outputs": [
    {
     "data": {
      "text/html": [
       "<div>\n",
       "<style scoped>\n",
       "    .dataframe tbody tr th:only-of-type {\n",
       "        vertical-align: middle;\n",
       "    }\n",
       "\n",
       "    .dataframe tbody tr th {\n",
       "        vertical-align: top;\n",
       "    }\n",
       "\n",
       "    .dataframe thead th {\n",
       "        text-align: right;\n",
       "    }\n",
       "</style>\n",
       "<table border=\"1\" class=\"dataframe\">\n",
       "  <thead>\n",
       "    <tr style=\"text-align: right;\">\n",
       "      <th></th>\n",
       "      <th>Topic_Num</th>\n",
       "      <th>Topic_Perc_Contrib</th>\n",
       "      <th>Keywords</th>\n",
       "      <th>Text</th>\n",
       "    </tr>\n",
       "  </thead>\n",
       "  <tbody>\n",
       "    <tr>\n",
       "      <th>0</th>\n",
       "      <td>0.0</td>\n",
       "      <td>0.9993</td>\n",
       "      <td>den_heer, bet, tusschen, politie, gemeente, re...</td>\n",
       "      <td>[lastingmerk, santstraat, zilve, ren, rozenkra...</td>\n",
       "    </tr>\n",
       "    <tr>\n",
       "      <th>1</th>\n",
       "      <td>1.0</td>\n",
       "      <td>0.9993</td>\n",
       "      <td>dito, zegt, grote, regering, kerk, wereld, jan...</td>\n",
       "      <td>[eerste, blad, donderdag, december, kinderfeui...</td>\n",
       "    </tr>\n",
       "    <tr>\n",
       "      <th>2</th>\n",
       "      <td>2.0</td>\n",
       "      <td>0.9993</td>\n",
       "      <td>kerk, ned, keizer, nov, tusschen, juli, gemeen...</td>\n",
       "      <td>[nciale, noorobrabantsche, uitg, arkesteyn, zo...</td>\n",
       "    </tr>\n",
       "    <tr>\n",
       "      <th>3</th>\n",
       "      <td>3.0</td>\n",
       "      <td>0.9993</td>\n",
       "      <td>gisteren, grote, rotterdam, tussen, regering, ...</td>\n",
       "      <td>[tijd, dagblad, voor, nederland, prijs, advert...</td>\n",
       "    </tr>\n",
       "    <tr>\n",
       "      <th>4</th>\n",
       "      <td>4.0</td>\n",
       "      <td>0.9993</td>\n",
       "      <td>den_heer, kamer, bet, heeren, vergadering, wet...</td>\n",
       "      <td>[volksvriend, jaargang, qrange, city, lowa, do...</td>\n",
       "    </tr>\n",
       "    <tr>\n",
       "      <th>5</th>\n",
       "      <td>5.0</td>\n",
       "      <td>0.9993</td>\n",
       "      <td>idem, mevrouw, israël, amerikaanse, nederlands...</td>\n",
       "      <td>[tud, wndac, september, hoofdkantoor, voorburg...</td>\n",
       "    </tr>\n",
       "    <tr>\n",
       "      <th>6</th>\n",
       "      <td>6.0</td>\n",
       "      <td>0.9993</td>\n",
       "      <td>les, ton, besluit, juni, que, dans, april, mil...</td>\n",
       "      <td>[ste, jaargang, zondag, augustus, réze, couran...</td>\n",
       "    </tr>\n",
       "    <tr>\n",
       "      <th>7</th>\n",
       "      <td>7.0</td>\n",
       "      <td>0.9993</td>\n",
       "      <td>gram, den_heer, berichten, maart, melk, voogdi...</td>\n",
       "      <td>[sociale, beteekenis, geestelijke, volksgezond...</td>\n",
       "    </tr>\n",
       "    <tr>\n",
       "      <th>8</th>\n",
       "      <td>8.0</td>\n",
       "      <td>0.9993</td>\n",
       "      <td>the, nieuws, journaal, nos, nws, programma, se...</td>\n",
       "      <td>[voor, oog, oor, dwingend, besluit, nru, vpro,...</td>\n",
       "    </tr>\n",
       "    <tr>\n",
       "      <th>9</th>\n",
       "      <td>9.0</td>\n",
       "      <td>0.9993</td>\n",
       "      <td>regering, grote, amerikaanse, tussen, aldus, p...</td>\n",
       "      <td>[amigoe, curaçao, woensdag, october, dagblad, ...</td>\n",
       "    </tr>\n",
       "    <tr>\n",
       "      <th>10</th>\n",
       "      <td>10.0</td>\n",
       "      <td>0.9993</td>\n",
       "      <td>regeering, duitsche, frankrijk, tusschen, enge...</td>\n",
       "      <td>[jaargang, abonnementsprijs, voor, plaatsen, w...</td>\n",
       "    </tr>\n",
       "    <tr>\n",
       "      <th>11</th>\n",
       "      <td>11.0</td>\n",
       "      <td>0.9993</td>\n",
       "      <td>duitsche, fransche, regeering, oorlog, duitsch...</td>\n",
       "      <td>[jaargang, zaterdag, juli, tijd, prijzen, der,...</td>\n",
       "    </tr>\n",
       "    <tr>\n",
       "      <th>12</th>\n",
       "      <td>12.0</td>\n",
       "      <td>0.9993</td>\n",
       "      <td>sept, aug, juli, den_heer, alhier, april, pag,...</td>\n",
       "      <td>[tioepen, vertrokken, sept, tientsin, bereikte...</td>\n",
       "    </tr>\n",
       "    <tr>\n",
       "      <th>13</th>\n",
       "      <td>13.0</td>\n",
       "      <td>0.9993</td>\n",
       "      <td>troepen, duitsche, maart, reuter, oorlog, lond...</td>\n",
       "      <td>[flet, auteursrecht, den, inhoud, blad, wordt,...</td>\n",
       "    </tr>\n",
       "    <tr>\n",
       "      <th>14</th>\n",
       "      <td>14.0</td>\n",
       "      <td>0.9992</td>\n",
       "      <td>bet, zyn, uyt, politie, raad, alhier, stad, vr...</td>\n",
       "      <td>[maasbode, van, zaterdag, juli, avondblad, eer...</td>\n",
       "    </tr>\n",
       "  </tbody>\n",
       "</table>\n",
       "</div>"
      ],
      "text/plain": [
       "    Topic_Num  Topic_Perc_Contrib  \\\n",
       "0         0.0              0.9993   \n",
       "1         1.0              0.9993   \n",
       "2         2.0              0.9993   \n",
       "3         3.0              0.9993   \n",
       "4         4.0              0.9993   \n",
       "5         5.0              0.9993   \n",
       "6         6.0              0.9993   \n",
       "7         7.0              0.9993   \n",
       "8         8.0              0.9993   \n",
       "9         9.0              0.9993   \n",
       "10       10.0              0.9993   \n",
       "11       11.0              0.9993   \n",
       "12       12.0              0.9993   \n",
       "13       13.0              0.9993   \n",
       "14       14.0              0.9992   \n",
       "\n",
       "                                             Keywords  \\\n",
       "0   den_heer, bet, tusschen, politie, gemeente, re...   \n",
       "1   dito, zegt, grote, regering, kerk, wereld, jan...   \n",
       "2   kerk, ned, keizer, nov, tusschen, juli, gemeen...   \n",
       "3   gisteren, grote, rotterdam, tussen, regering, ...   \n",
       "4   den_heer, kamer, bet, heeren, vergadering, wet...   \n",
       "5   idem, mevrouw, israël, amerikaanse, nederlands...   \n",
       "6   les, ton, besluit, juni, que, dans, april, mil...   \n",
       "7   gram, den_heer, berichten, maart, melk, voogdi...   \n",
       "8   the, nieuws, journaal, nos, nws, programma, se...   \n",
       "9   regering, grote, amerikaanse, tussen, aldus, p...   \n",
       "10  regeering, duitsche, frankrijk, tusschen, enge...   \n",
       "11  duitsche, fransche, regeering, oorlog, duitsch...   \n",
       "12  sept, aug, juli, den_heer, alhier, april, pag,...   \n",
       "13  troepen, duitsche, maart, reuter, oorlog, lond...   \n",
       "14  bet, zyn, uyt, politie, raad, alhier, stad, vr...   \n",
       "\n",
       "                                                 Text  \n",
       "0   [lastingmerk, santstraat, zilve, ren, rozenkra...  \n",
       "1   [eerste, blad, donderdag, december, kinderfeui...  \n",
       "2   [nciale, noorobrabantsche, uitg, arkesteyn, zo...  \n",
       "3   [tijd, dagblad, voor, nederland, prijs, advert...  \n",
       "4   [volksvriend, jaargang, qrange, city, lowa, do...  \n",
       "5   [tud, wndac, september, hoofdkantoor, voorburg...  \n",
       "6   [ste, jaargang, zondag, augustus, réze, couran...  \n",
       "7   [sociale, beteekenis, geestelijke, volksgezond...  \n",
       "8   [voor, oog, oor, dwingend, besluit, nru, vpro,...  \n",
       "9   [amigoe, curaçao, woensdag, october, dagblad, ...  \n",
       "10  [jaargang, abonnementsprijs, voor, plaatsen, w...  \n",
       "11  [jaargang, zaterdag, juli, tijd, prijzen, der,...  \n",
       "12  [tioepen, vertrokken, sept, tientsin, bereikte...  \n",
       "13  [flet, auteursrecht, den, inhoud, blad, wordt,...  \n",
       "14  [maasbode, van, zaterdag, juli, avondblad, eer...  "
      ]
     },
     "execution_count": 148,
     "metadata": {},
     "output_type": "execute_result"
    }
   ],
   "source": [
    "# Show\n",
    "sent_topics_sorteddf_ocr"
   ]
  },
  {
   "cell_type": "markdown",
   "metadata": {},
   "source": [
    "---"
   ]
  },
  {
   "cell_type": "markdown",
   "metadata": {},
   "source": [
    "### Number of topics\n",
    "\n",
    "This code can be used to assess which number of topics to use. 15 is a reasonable value."
   ]
  },
  {
   "cell_type": "code",
   "execution_count": 64,
   "metadata": {},
   "outputs": [],
   "source": [
    "def compute_coherence_values(dictionary, corpus, texts, limit, start=2, step=3):\n",
    "    \"\"\"\n",
    "    Compute c_v coherence for various number of topics.\n",
    "    From: https://www.machinelearningplus.com/nlp/topic-modeling-gensim-python\n",
    "\n",
    "    Parameters:\n",
    "    ----------\n",
    "    dictionary : Gensim dictionary\n",
    "    corpus : Gensim corpus\n",
    "    texts : List of input texts\n",
    "    limit : Max num of topics\n",
    "\n",
    "    Returns:\n",
    "    -------\n",
    "    model_list : List of LDA topic models\n",
    "    coherence_values : Coherence values corresponding to the LDA model with respective number of topics\n",
    "    \"\"\"\n",
    "    coherence_values = []\n",
    "    model_list = []\n",
    "    params = {'passes': 3, 'random_state': seed}\n",
    "    for num_topics in range(start, limit, step):\n",
    "        m = LdaModel(corpus=corpus, num_topics=num_topics, id2word=dictionary,# workers=6,\n",
    "                passes=params['passes'], random_state=params['random_state'])\n",
    "        model_list.append(m)\n",
    "        coherencemodel = CoherenceModel(model=m, texts=docs, dictionary=dictionary, coherence='c_v')\n",
    "        coherence_values.append(coherencemodel.get_coherence())\n",
    "\n",
    "    return model_list, coherence_values"
   ]
  },
  {
   "cell_type": "code",
   "execution_count": 65,
   "metadata": {},
   "outputs": [],
   "source": [
    "# Can take a long time to run\n",
    "limit=100; start=5; step=10;\n",
    "model_list, coherence_values = compute_coherence_values(dictionary=dictionary_ground, corpus=corpus_ground, texts=docs_ground, start=start, limit=limit, step=step)"
   ]
  },
  {
   "cell_type": "code",
   "execution_count": 66,
   "metadata": {},
   "outputs": [
    {
     "data": {
      "image/png": "[encoded data removed]",
      "text/plain": [
       "<Figure size 432x288 with 1 Axes>"
      ]
     },
     "metadata": {},
     "output_type": "display_data"
    }
   ],
   "source": [
    "# Show graph\n",
    "x = range(start, limit, step)\n",
    "plt.plot(x, coherence_values)\n",
    "plt.xlabel(\"Num Topics\")\n",
    "plt.ylabel(\"Coherence score\")\n",
    "plt.legend((\"coherence_values\"), loc='best')\n",
    "plt.show()"
   ]
  },
  {
   "cell_type": "markdown",
   "metadata": {},
   "source": [
    "---"
   ]
  },
  {
   "cell_type": "markdown",
   "metadata": {},
   "source": [
    "### Using Sklearn and NMF\n",
    "\n",
    "Other approaches to clustering are possible. An example is Non-negative Matrix Factorization (or other dimensionality reduction techniques). See [here for NMF](https://scikit-learn.org/stable/auto_examples/applications/plot_topics_extraction_with_nmf_lda.html#sphx-glr-auto-examples-applications-plot-topics-extraction-with-nmf-lda-py). We leave some code here which goes in this direction. A full analysis and comparison is left as future work. "
   ]
  },
  {
   "cell_type": "code",
   "execution_count": 149,
   "metadata": {},
   "outputs": [],
   "source": [
    "from time import time\n",
    "from sklearn.feature_extraction.text import TfidfVectorizer, CountVectorizer\n",
    "from sklearn.decomposition import NMF, LatentDirichletAllocation"
   ]
  },
  {
   "cell_type": "code",
   "execution_count": 150,
   "metadata": {},
   "outputs": [],
   "source": [
    "# setup\n",
    "n_samples = len(docs_ground)\n",
    "n_features = 1000\n",
    "n_components = 15\n",
    "n_top_words = 20\n",
    "\n",
    "def print_top_words(model, feature_names, n_top_words):\n",
    "    for topic_idx, topic in enumerate(model.components_):\n",
    "        message = \"Topic #%d: \" % topic_idx\n",
    "        message += \" \".join([feature_names[i]\n",
    "                             for i in topic.argsort()[:-n_top_words - 1:-1]])\n",
    "        print(message)\n",
    "    print()"
   ]
  },
  {
   "cell_type": "code",
   "execution_count": 156,
   "metadata": {
    "scrolled": true
   },
   "outputs": [
    {
     "data": {
      "text/plain": [
       "['woensdag',\n",
       " 'juli',\n",
       " 'jaargang',\n",
       " 'abonnees',\n",
       " 'limburgs',\n",
       " 'dagblad',\n",
       " 'directeur',\n",
       " 'drs',\n",
       " 'neerven',\n",
       " 'uitgave']"
      ]
     },
     "execution_count": 156,
     "metadata": {},
     "output_type": "execute_result"
    }
   ],
   "source": [
    "docs_ground[0][:10]"
   ]
  },
  {
   "cell_type": "code",
   "execution_count": 152,
   "metadata": {},
   "outputs": [
    {
     "name": "stdout",
     "output_type": "stream",
     "text": [
      "Extracting tf-idf features for NMF...\n",
      "done in 3.081s.\n",
      "Extracting tf features for LDA...\n",
      "done in 3.092s.\n",
      "\n"
     ]
    }
   ],
   "source": [
    "def dummy(doc):\n",
    "    \"\"\"We use this to use the same tonekization and pre-processing we already did\"\"\"\n",
    "    return doc\n",
    "\n",
    "# Get tf-idf features for NMF.\n",
    "print(\"Extracting tf-idf features for NMF...\")\n",
    "tfidf_vectorizer_g = TfidfVectorizer(max_features=n_features, lowercase=False, tokenizer=dummy, preprocessor=dummy)\n",
    "tfidf_vectorizer_o = TfidfVectorizer(max_features=n_features, lowercase=False, tokenizer=dummy, preprocessor=dummy)\n",
    "t0 = time()\n",
    "tfidf_g = tfidf_vectorizer_g.fit_transform(docs_ground)\n",
    "tfidf_o = tfidf_vectorizer_o.fit_transform(docs_ocr)\n",
    "print(\"done in %0.3fs.\" % (time() - t0))\n",
    "\n",
    "# Get tf (raw term count) features for LDA.\n",
    "print(\"Extracting tf features for LDA...\")\n",
    "tf_vectorizer_g = CountVectorizer(max_features=n_features, lowercase=False, tokenizer=dummy, preprocessor=dummy)\n",
    "tf_vectorizer_o = CountVectorizer(max_features=n_features, lowercase=False, tokenizer=dummy, preprocessor=dummy)\n",
    "t0 = time()\n",
    "tf_g = tf_vectorizer_g.fit_transform(docs_ground)\n",
    "tf_o = tf_vectorizer_o.fit_transform(docs_ocr)\n",
    "print(\"done in %0.3fs.\" % (time() - t0))\n",
    "print()"
   ]
  },
  {
   "cell_type": "code",
   "execution_count": 153,
   "metadata": {},
   "outputs": [
    {
     "name": "stdout",
     "output_type": "stream",
     "text": [
      "Fitting the NMF model (Frobenius norm) with tf-idf features, n_samples=1000 and n_features=1000...\n",
      "done in 1.324s.\n",
      "\n",
      "Topics in NMF model GROUND (Frobenius norm):\n",
      "Topic #0: den het zoo ten wordt onder groote welke ter ver per eenige van plaats een zullen zeer heer thans tusschen\n",
      "Topic #1: het regering grote wordt tussen amerikaanse jaar ver van nederlandse onder ten minister uur een twee hij weer per mensen\n",
      "Topic #2: zyn den ten schip heeren alle eenige hof des jan alhier schepen stad welke hunne zullen binnen brieven groot heden\n",
      "Topic #3: heer spr den_heer uur gemeente vergadering alhier voorzitter vereeniging ned school bestuur leden heeren mej kerk voorstel spreker amsterdam lid\n",
      "Topic #4: zoo gij maar hij god dat hebt zij hart leven waar zijne vrouw goed weet nooit zeide het vader heel\n",
      "Topic #5: nws journaal nos serie the nieuws film programma hilversum uur sport radio muziek duitsland die amerikaanse vandaag nederland der met\n",
      "Topic #6: art vereeniging leden artikel wet woorden algemeene doel gemeente lid bestuur hof ten vergadering juni ieder staten belang wordt den_raad\n",
      "Topic #7: besluit klasse minister bij gemeente april benoemd luitenant verleend enz ingang gravenhage marine ontslag kon financiën wet ministerie maart juli\n",
      "Topic #8: suriname gouverneur mei maatschappij ver bank the handel west staten bestuur ontwikkeling landen per moeten invloed het nederland vaak hunne\n",
      "Topic #9: dito pct koop jan november van schip des aug the witte pag mei amsterdam april nov ten heden zijnde brieven\n",
      "Topic #10: les des pas nationale ont nos beide schepen hunne premier uren con zullen goederen grens gravenhage gram graaf groep grond\n",
      "Topic #11: bew zwaar britse wind van_onze maan uur licht zon amerikaanse duitsland morgen sovjet europa buitenlandse half aug geheel londen rome\n",
      "Topic #12: sept oct pag september reuter aug dec alhier pct nov new italië october zake new_york gedood per londen week york\n",
      "Topic #13: duitsche regeering duitschland reuter fransche troepen italië frankrijk britsche engeland front oorlog berlijn engelsche londen vijand polen maart rusland het\n",
      "Topic #14: gram nws programma muziek hilversum maart radio vrouw berichten voor nieuws katholieke koop ned personeel algemeen mei heer grote terecht\n",
      "\n",
      "\n",
      "Topics in NMF model OCR (Frobenius norm):\n",
      "Topic #0: den het ten zoo wordt onder groote welke ter ver per eenige van plaats een des zeer zullen thans waar\n",
      "Topic #1: het regering grote wordt tussen amerikaanse ver jaar van nederlandse ten onder minister een twee uur per weer mensen nieuwe\n",
      "Topic #2: duitsche regeering duitschland fransche italië frankrijk britsche engeland reuter oorlog troepen engelsche polen berlijn rusland het londen tusschen parijs front\n",
      "Topic #3: zoo gij maar hij god dat hebt goed hart waar vrouw het zij vader leven weet nooit heel kwam onze\n",
      "Topic #4: zyn den ten schip heeren alle hof vaa alhier stad eenige jan schepen binnen brieven goederen zullen koning welke hunne\n",
      "Topic #5: journaal nos nws the serie nieuws film programma uur sport hilversum radio muziek duitsland die les amerikaanse vandaag nederland der\n",
      "Topic #6: gram nws hilversum programma muziek radio heer voor vrouw koop nieuws katholieke berichten algemeen personeel ned bedrag grote pet taak\n",
      "Topic #7: art besluit vereeniging minister gemeente wet artikel klasse enz verleend juli bij raad financiën leden ingang benoemd december ontslag zaken\n",
      "Topic #8: spr woord spreker vergadering hot prof voorzitter heer auto arbeiders motie strijd arbeid wegen noodig hilversum vervolgens organisatie schrijven actie\n",
      "Topic #9: bet vaa hot vau tan via zgn oen hel dal don von baar ten liet ziekte net tal batavia december\n",
      "Topic #10: dito pct koop des schip november jan aug witte van the april nov amsterdam mei per huis dezer ten kinderen\n",
      "Topic #11: maart april front der schepen officieel parijs londen duitsche reuter vau onze van dal berlijn schip ten alhier uur februari\n",
      "Topic #12: bew zwaar britse wind maan van_onze uur licht morgen amerikaanse zon sovjet duitsland rome nws geheel buitenlandse europa aug oost\n",
      "Topic #13: sept pag september reuter aug pct italië alhier zake new gedood week per londen zondag rechtbank president rome premier october\n",
      "Topic #14: heer den_heer gemeente alhier uur vergadering ned voorzitter vereeniging kerk school leden bestuur mej heeren amsterdam april nov voorstel lid\n",
      "\n"
     ]
    }
   ],
   "source": [
    "# Fit the NMF model\n",
    "print(\"Fitting the NMF model (Frobenius norm) with tf-idf features, \"\n",
    "      \"n_samples=%d and n_features=%d...\"\n",
    "      % (n_samples, n_features))\n",
    "\n",
    "t0 = time()\n",
    "nmf_g_fr = NMF(n_components=n_components, random_state=1,\n",
    "          alpha=.1, l1_ratio=.5).fit(tfidf_g)\n",
    "nmf_o_fr = NMF(n_components=n_components, random_state=1,\n",
    "          alpha=.1, l1_ratio=.5).fit(tfidf_o)\n",
    "print(\"done in %0.3fs.\" % (time() - t0))\n",
    "\n",
    "print(\"\\nTopics in NMF model GROUND (Frobenius norm):\")\n",
    "tfidf_feature_names = tfidf_vectorizer_g.get_feature_names()\n",
    "print_top_words(nmf_g_fr, tfidf_feature_names, n_top_words)\n",
    "print(\"\\nTopics in NMF model OCR (Frobenius norm):\")\n",
    "tfidf_feature_names = tfidf_vectorizer_o.get_feature_names()\n",
    "print_top_words(nmf_o_fr, tfidf_feature_names, n_top_words)"
   ]
  },
  {
   "cell_type": "code",
   "execution_count": 154,
   "metadata": {},
   "outputs": [
    {
     "name": "stdout",
     "output_type": "stream",
     "text": [
      "Fitting the NMF model (generalized Kullback-Leibler divergence) with tf-idf features, n_samples=1000 and n_features=1000...\n",
      "done in 11.738s.\n",
      "\n",
      "Topics in NMF model GROUND (generalized Kullback-Leibler divergence):\n",
      "Topic #0: den het zoo wordt groote ten ver onder welke eenige tusschen regeering plaats zeer een waar werden alle thans zullen\n",
      "Topic #1: het grote regering tussen amerikaanse nederlandse wordt mensen jaar ver zoals van onder twee franse enige pagina duitse hij britse\n",
      "Topic #2: den zyn dito schip ten jan des schepen welke hof alle stad eenige heeren zullen ter heden binnen alhier groot\n",
      "Topic #3: heer uur gemeente den_heer amsterdam alhier vereeniging rotterdam school spr vergadering ned mej voorzitter bestuur utrecht heeren jaar van leden\n",
      "Topic #4: maar hij vrouw het dat goed waar heel hebt zoo weet gij vader man kwam weer zien zij leven even\n",
      "Topic #5: duitsche nws duitschland journaal reuter fransche britsche frankrijk nos uur italië nieuws polen serie engeland the regeering oorlog londen parijs\n",
      "Topic #6: heer minister kamer stemmen commissie vergadering wet voorstel leden staten wordt welke raad tweede_kamer partij ontwerp ter regering kabinet generaal\n",
      "Topic #7: den zijne ten ter besluit dezer hunne generaal des wet enz hare art artikel van courant koning dier bij augustus\n",
      "Topic #8: per wordt het jaar ten arbeiders cent van gulden moeten voor onze plaats ter bedrag regel eerste ton millioen artikel\n",
      "Topic #9: mei suriname china the japan java per bank ver rusland koop prijzen new pct maatschappij een zeer batavia wordt thans\n",
      "Topic #10: kerk gij zijne god des les kerken volk zoo onze keizer hare woord engeland hart spr wereld onderwijs leven zegt\n",
      "Topic #11: bew indië batavia java indische uur water geheel nederland van wind mei zwaar kapitein oost heer europa maan licht directeur\n",
      "Topic #12: sept juli nov aug pag oct dec juni augustus berlijn londen staten new new_york york jan president september october november\n",
      "Topic #13: front art vijand maart klasse troepen december aanval luitenant vereeniging ten onze leger besluit leden juni duitsche cents januari augustus\n",
      "Topic #14: maart gram april pct febr prins heer boeren februari amsterdam utrecht minister kamer generaal luitenant thans officier justitie gisteren zuid\n",
      "\n",
      "\n",
      "Topics in NMF model OCR (generalized Kullback-Leibler divergence):\n",
      "Topic #0: den heer het onder zoo groote ver wordt den_heer werden plaats ten een ter eenige van twee jaar waar per\n",
      "Topic #1: het grote regering tussen amerikaanse nederlandse jaar ver wordt mensen zoals franse van twee enige onder hij britse pagina een\n",
      "Topic #2: duitsche den regeering engeland frankrijk duitschland oorlog fransche troepen italië het rusland londen reuter britsche engelsche parijs berlijn polen minister\n",
      "Topic #3: zoo maar gij hij dat het goed waar hebt god heel leven vrouw weer weet zien zij nooit wat even\n",
      "Topic #4: den zyn ten schip des schepen generaal koning alle prins stad hunne welke jan hof vaa ter binnen eenige zullen\n",
      "Topic #5: the journaal nos nws nieuws gram film programma serie muziek radio sport hilversum uur spel het duitsland ned nederland die\n",
      "Topic #6: heer wet kamer ten minister zijne welke zoo ter staten stemmen wordt art generaal regering wij partij tweede_kamer staat hunne\n",
      "Topic #7: artikel ten art juli enz ter ton per besluit klasse augustus december september minister kosten wordt marine gulden van jaar\n",
      "Topic #8: spr het wordt arbeiders voorzitter vergadering commissie leden voorstel welke comité nieuwe bestuur ten verband auto moeten arbeid sociale komen\n",
      "Topic #9: bet vaa hel zgn hot vau dal oen tan don liet mei von china lot tal ver via baar ziekte\n",
      "Topic #10: suriname uur dito mei heer les des koop per ten pct prijzen bank januari amsterdam vrijdag jan dames april ter\n",
      "Topic #11: maart kerk onze kerken van ten rotterdam utrecht onzer volk februari febr april mei gemeenten amsterdam cents onder school front\n",
      "Topic #12: bew indië per java batavia nederland indische geheel juni van onze japan millioen land zwaar wind europa oost regeering zeer\n",
      "Topic #13: sept aug nov vereeniging pag dec amsterdam mej gemeente leden arnhem vergadering rotterdam juli october augustus lid september utrecht november\n",
      "Topic #14: gemeente april benoemd besluit febr lid raad klasse ontslag ingang maart juni amsterdam utrecht ned officier generaal luitenant minister koningin\n",
      "\n"
     ]
    }
   ],
   "source": [
    "# Fit the NMF model\n",
    "print(\"Fitting the NMF model (generalized Kullback-Leibler divergence) with \"\n",
    "      \"tf-idf features, n_samples=%d and n_features=%d...\"\n",
    "      % (n_samples, n_features))\n",
    "t0 = time()\n",
    "\n",
    "nmf_g_kl = NMF(n_components=n_components, random_state=1,\n",
    "          beta_loss='kullback-leibler', solver='mu', max_iter=1000, alpha=.1,\n",
    "          l1_ratio=.5).fit(tfidf_g)\n",
    "nmf_o_kl = NMF(n_components=n_components, random_state=1,\n",
    "          beta_loss='kullback-leibler', solver='mu', max_iter=1000, alpha=.1,\n",
    "          l1_ratio=.5).fit(tfidf_o)\n",
    "print(\"done in %0.3fs.\" % (time() - t0))\n",
    "\n",
    "print(\"\\nTopics in NMF model GROUND (generalized Kullback-Leibler divergence):\")\n",
    "tfidf_feature_names = tfidf_vectorizer_g.get_feature_names()\n",
    "print_top_words(nmf_g_kl, tfidf_feature_names, n_top_words)\n",
    "print(\"\\nTopics in NMF model OCR (generalized Kullback-Leibler divergence):\")\n",
    "tfidf_feature_names = tfidf_vectorizer_o.get_feature_names()\n",
    "print_top_words(nmf_o_kl, tfidf_feature_names, n_top_words)"
   ]
  },
  {
   "cell_type": "code",
   "execution_count": 155,
   "metadata": {},
   "outputs": [
    {
     "name": "stdout",
     "output_type": "stream",
     "text": [
      "Fitting LDA models with tf features, n_samples=1000 and n_features=1000...\n",
      "done in 19.926s.\n",
      "\n",
      "Topics in LDA model GROUND:\n",
      "Topic #0: sept den het september pag eerste wordt oostenrijk werden een ten spanje reuter oct onder waar west ver nieuwe ter\n",
      "Topic #1: den het ten leden heer wordt ver minister onder van ter art plaats hof twee een werden volgens zullen maart\n",
      "Topic #2: het den wordt ver ten onder minister van zullen een jaar per land nieuwe regering twee volgens alle waar weer\n",
      "Topic #3: het uur van wordt den jaar een onder ver heer nieuws dag ten weer twee eerste nederland gen waar programma\n",
      "Topic #4: den dito per nov pct van dec amsterdam oct jan heden londen koop schip aug mei the huis november uur\n",
      "Topic #5: den het van onder ver wordt zoo ter ten heer groote staat thans onze minister per zeer hij welke zullen\n",
      "Topic #6: president overleg een het onder slechts twee ver ten wordt alleen toe wanneer grote amerikaanse maanden drie werden zullen ter\n",
      "Topic #7: den het van ten jaar zullen komen alle onze ver moeten weer twee wordt ter een minister eerste tijd nieuwe\n",
      "Topic #8: den het zoo maar hij waar wordt goed een ver weer dat onze ten zij alleen leven man gaan tijd\n",
      "Topic #9: suriname den een het twee ver onder wordt ten van zoo vaak heer drie kleine verschillende jaar woord waar gen\n",
      "Topic #10: geheel den water huis van staat weg jan ten gemeente het bekend ter rotterdam gravenhage zoo heer minister zullen onder\n",
      "Topic #11: het wordt van den ten thans toe onder nieuwe twee zullen onze nws waar jaar man hij regering slechts ter\n",
      "Topic #12: den zyn des ten alle zullen les welke onder eenige ter groot binnen hunne stad heeren twee keizer hof het\n",
      "Topic #13: den het frankrijk alle nov staat wordt duitschland twee van waar zoo man ten president zegt dat ver wanneer weer\n",
      "Topic #14: den heer het ten wordt zoo onder ter ver welke van groote een per plaats alle zullen zeer eenige den_heer\n",
      "\n",
      "\n",
      "Topics in LDA model OCR:\n",
      "Topic #0: den het wordt ten van ver twee werden welke eerste uur jaar onder regering president waar grote moeten minister nieuwe\n",
      "Topic #1: keizer hof den net mevrouw eer zyn antwoord zaal hart indien groot des prins bet waarde her zulk graaf hand\n",
      "Topic #2: den het onder ter ten wordt heer duitsche een ver zullen minister alle uur welke thans jaar zoo hot van\n",
      "Topic #3: mej nov juni geslaagd den werden gravenhage het schade groningen leden rotterdam mevr amsterdam een utrecht dames huis lid juli\n",
      "Topic #4: den het ver ten wordt onder zoo ter frankrijk van alle waar weer per moeten nieuwe minister zullen land thans\n",
      "Topic #5: les des den nos pas zullen beide ont nationale schepen alle onder ten hunne journaal het welke ter staten zoo\n",
      "Topic #6: artikel kosten ten ambtenaren wet personeel dienst den ter uitvoering gebruik verdere ver hen gen toe onder neder verband onderwijs\n",
      "Topic #7: van pagina het den rotterdam onze van_onze zie gisteren politie onder twee jaar per onzer amsterdam vrije minister wordt gulden\n",
      "Topic #8: sept dito per aug dec pct koop londen van amsterdam den heden pag huis jan nov markt uur mei the\n",
      "Topic #9: het wordt jaar den ver ten per heer onder een waar nieuwe van twee moeten zullen komen eerste onze ter\n",
      "Topic #10: het wordt ver uur den ten onder van een hij jaar weer grote twee regering waar minister amerikaanse land drie\n",
      "Topic #11: den ten een het thans man zoo ver onder alle maar eerste waar komen hij wordt zullen jaar ter toe\n",
      "Topic #12: den heer ten het wordt ter onder van ver welke den_heer jaar plaats zullen een uur werden amsterdam gemeente alle\n",
      "Topic #13: den het wordt ver alle onder ten van twee nieuwe per uur volgens regeering president weer waar ter jaar werden\n",
      "Topic #14: den het zoo wordt ten ver onder waar groote welke een alle zeer ter van heer per onze regeering zullen\n",
      "\n"
     ]
    }
   ],
   "source": [
    "# fit an LDA model with the same features for comparison\n",
    "print(\"Fitting LDA models with tf features, \"\n",
    "      \"n_samples=%d and n_features=%d...\"\n",
    "      % (n_samples, n_features))\n",
    "\n",
    "t0 = time()\n",
    "lda_g = LatentDirichletAllocation(n_components=n_components, max_iter=5,\n",
    "                                learning_method='online',\n",
    "                                learning_offset=50.,\n",
    "                                random_state=0)\n",
    "lda_g.fit(tf_g)\n",
    "lda_o = LatentDirichletAllocation(n_components=n_components, max_iter=5,\n",
    "                                learning_method='online',\n",
    "                                learning_offset=50.,\n",
    "                                random_state=0)\n",
    "lda_o.fit(tf_o)\n",
    "print(\"done in %0.3fs.\" % (time() - t0))\n",
    "\n",
    "print(\"\\nTopics in LDA model GROUND:\")\n",
    "tf_feature_names = tf_vectorizer_g.get_feature_names()\n",
    "print_top_words(lda_g, tf_feature_names, n_top_words)\n",
    "print(\"\\nTopics in LDA model OCR:\")\n",
    "tf_feature_names = tf_vectorizer_o.get_feature_names()\n",
    "print_top_words(lda_o, tf_feature_names, n_top_words)"
   ]
  },
  {
   "cell_type": "markdown",
   "metadata": {},
   "source": [
    "---"
   ]
  }
 ],
 "metadata": {
  "kernelspec": {
   "display_name": "Python 3",
   "language": "python",
   "name": "python3"
  },
  "language_info": {
   "codemirror_mode": {
    "name": "ipython",
    "version": 3
   },
   "file_extension": ".py",
   "mimetype": "text/x-python",
   "name": "python",
   "nbconvert_exporter": "python",
   "pygments_lexer": "ipython3",
   "version": "3.7.9"
  }
 },
 "nbformat": 4,
 "nbformat_minor": 2
}
