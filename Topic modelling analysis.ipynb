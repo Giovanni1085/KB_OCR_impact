{
 "cells": [
  {
   "cell_type": "markdown",
   "metadata": {},
   "source": [
    "# Topic modelling"
   ]
  },
  {
   "cell_type": "code",
   "execution_count": 1,
   "metadata": {},
   "outputs": [],
   "source": [
    "from glob import glob\n",
    "import jellyfish\n",
    "import numpy as np\n",
    "import os, codecs, re\n",
    "from tqdm import tqdm\n",
    "import pandas as pd\n",
    "from bs4 import BeautifulSoup"
   ]
  },
  {
   "cell_type": "code",
   "execution_count": 2,
   "metadata": {},
   "outputs": [],
   "source": [
    "%matplotlib inline\n",
    "import matplotlib.pyplot as plt\n",
    "\n",
    "# magics and warnings\n",
    "%load_ext autoreload\n",
    "%autoreload 2\n",
    "import warnings; warnings.simplefilter('ignore')\n",
    "\n",
    "import os, random\n",
    "from tqdm import tqdm\n",
    "import pandas as pd\n",
    "import numpy as np\n",
    "\n",
    "seed = 43\n",
    "random.seed(seed)\n",
    "np.random.seed(seed)\n",
    "\n",
    "import nltk, gensim, sklearn, spacy\n",
    "from gensim.models import CoherenceModel\n",
    "import matplotlib.pyplot as plt\n",
    "import pyLDAvis.gensim\n",
    "import seaborn as sns\n",
    "sns.set(style=\"white\")\n",
    "sns.set_context(\"notebook\", font_scale=1.2, rc={\"lines.linewidth\": 2.5})"
   ]
  },
  {
   "cell_type": "code",
   "execution_count": 5,
   "metadata": {},
   "outputs": [],
   "source": [
    "df = pd.read_csv(\"full_df.csv\", compression=\"gzip\")"
   ]
  },
  {
   "cell_type": "code",
   "execution_count": 13,
   "metadata": {},
   "outputs": [
    {
     "data": {
      "text/html": [
       "<div>\n",
       "<style scoped>\n",
       "    .dataframe tbody tr th:only-of-type {\n",
       "        vertical-align: middle;\n",
       "    }\n",
       "\n",
       "    .dataframe tbody tr th {\n",
       "        vertical-align: top;\n",
       "    }\n",
       "\n",
       "    .dataframe thead th {\n",
       "        text-align: right;\n",
       "    }\n",
       "</style>\n",
       "<table border=\"1\" class=\"dataframe\">\n",
       "  <thead>\n",
       "    <tr style=\"text-align: right;\">\n",
       "      <th></th>\n",
       "      <th>filename</th>\n",
       "      <th>text_ground</th>\n",
       "      <th>text_ocr</th>\n",
       "      <th>word_level_confidence_ocr</th>\n",
       "      <th>text_reocr</th>\n",
       "      <th>word_level_confidence_reocr</th>\n",
       "      <th>word_level_average_confidence_ocr</th>\n",
       "      <th>word_level_average_confidence_reocr</th>\n",
       "    </tr>\n",
       "  </thead>\n",
       "  <tbody>\n",
       "    <tr>\n",
       "      <th>0</th>\n",
       "      <td>DDD_010197037_001.jp2</td>\n",
       "      <td>['No.', '9922.', 'Tweede', 'Blad.', 'Vrijdag',...</td>\n",
       "      <td>['JSo.', '9822', 'xTweede', 'Blad.', 'Vrijdag'...</td>\n",
       "      <td>[0.27, 0.27, 0.29, 0.95, 0.98, 1.0, 0.97, 0.67...</td>\n",
       "      <td>['ISO.', '9922', '-Tweede', 'Blad.', 'ss*', 'V...</td>\n",
       "      <td>[0.94, 0.23, 0.97, 0.95, 0.16, 0.97, 0.96, 0.9...</td>\n",
       "      <td>0.719354</td>\n",
       "      <td>0.718463</td>\n",
       "    </tr>\n",
       "    <tr>\n",
       "      <th>1</th>\n",
       "      <td>DDD_011219339_001.jp2</td>\n",
       "      <td>['De', 'Surinamer', 'Redactie', 'J.', 'WILLEBR...</td>\n",
       "      <td>['De', 'Surinamer', '•v*', 'WILLEBRANDS:i^', '...</td>\n",
       "      <td>[0.96, 0.98, 0.46, 0.48, 0.99, 0.97, 0.99, 0.5...</td>\n",
       "      <td>['Whd^Mmumr', 'Redactie', 'J.', 'WILLEBRANDS',...</td>\n",
       "      <td>[0.25, 0.99, 0.83, 0.84, 0.98, 0.97, 0.99, 0.9...</td>\n",
       "      <td>0.765606</td>\n",
       "      <td>0.889051</td>\n",
       "    </tr>\n",
       "    <tr>\n",
       "      <th>2</th>\n",
       "      <td>DDD_011179281_001.jp2</td>\n",
       "      <td>['DE', 'GRONDWET.', 'Mrs.', 'L.', 'Mulder,', '...</td>\n",
       "      <td>['DE', 'GRONDWET.', 'Mrs.', '3L..', 'Mulder,',...</td>\n",
       "      <td>[0.96, 0.98, 0.95, 0.52, 0.97, 0.41, 0.34, 0.9...</td>\n",
       "      <td>['DE', 'GRONDWET.', 'Mrs.', 'Xj.', 'Melder,', ...</td>\n",
       "      <td>[0.76, 0.97, 0.5, 0.62, 0.97, 0.98, 0.97, 0.74...</td>\n",
       "      <td>0.836059</td>\n",
       "      <td>0.805909</td>\n",
       "    </tr>\n",
       "    <tr>\n",
       "      <th>3</th>\n",
       "      <td>DDD_010948945_001.jp2</td>\n",
       "      <td>['Het', 'Vrije', 'Volk', 'Maandag', '25', 'aug...</td>\n",
       "      <td>['Het', 'Vrije', 'Volk', 'Maandag', '25', 'aug...</td>\n",
       "      <td>[0.98, 0.98, 0.98, 1.0, 1.0, 0.98, 0.86, 0.63,...</td>\n",
       "      <td>['Ê', '•', ':&gt;', '%', 'V', 'f', 'A', 'i', '*',...</td>\n",
       "      <td>[0.27, 0.44, 0.14, 1.0, 0.13, 0.33, 1.0, 0.3, ...</td>\n",
       "      <td>0.881544</td>\n",
       "      <td>0.918112</td>\n",
       "    </tr>\n",
       "    <tr>\n",
       "      <th>4</th>\n",
       "      <td>MMGARO01_000177181_002_master.jp2</td>\n",
       "      <td>['De', 'troepen', 'vertrokken', '8', 'en', '9'...</td>\n",
       "      <td>['De', 'tioepen', 'vertrokken', '8', 'en', '9'...</td>\n",
       "      <td>[0.59, 0.32, 0.32, 0.78, 0.07, 1.0, 0.25, 0.18...</td>\n",
       "      <td>['De', 'troepen', 'vertrokken', '8', 'en', '9'...</td>\n",
       "      <td>[0.5, 0.98, 0.99, 0.41, 0.46, 0.76, 0.61, 0.96...</td>\n",
       "      <td>0.318412</td>\n",
       "      <td>0.877502</td>\n",
       "    </tr>\n",
       "  </tbody>\n",
       "</table>\n",
       "</div>"
      ],
      "text/plain": [
       "                            filename  \\\n",
       "0              DDD_010197037_001.jp2   \n",
       "1              DDD_011219339_001.jp2   \n",
       "2              DDD_011179281_001.jp2   \n",
       "3              DDD_010948945_001.jp2   \n",
       "4  MMGARO01_000177181_002_master.jp2   \n",
       "\n",
       "                                         text_ground  \\\n",
       "0  ['No.', '9922.', 'Tweede', 'Blad.', 'Vrijdag',...   \n",
       "1  ['De', 'Surinamer', 'Redactie', 'J.', 'WILLEBR...   \n",
       "2  ['DE', 'GRONDWET.', 'Mrs.', 'L.', 'Mulder,', '...   \n",
       "3  ['Het', 'Vrije', 'Volk', 'Maandag', '25', 'aug...   \n",
       "4  ['De', 'troepen', 'vertrokken', '8', 'en', '9'...   \n",
       "\n",
       "                                            text_ocr  \\\n",
       "0  ['JSo.', '9822', 'xTweede', 'Blad.', 'Vrijdag'...   \n",
       "1  ['De', 'Surinamer', '•v*', 'WILLEBRANDS:i^', '...   \n",
       "2  ['DE', 'GRONDWET.', 'Mrs.', '3L..', 'Mulder,',...   \n",
       "3  ['Het', 'Vrije', 'Volk', 'Maandag', '25', 'aug...   \n",
       "4  ['De', 'tioepen', 'vertrokken', '8', 'en', '9'...   \n",
       "\n",
       "                           word_level_confidence_ocr  \\\n",
       "0  [0.27, 0.27, 0.29, 0.95, 0.98, 1.0, 0.97, 0.67...   \n",
       "1  [0.96, 0.98, 0.46, 0.48, 0.99, 0.97, 0.99, 0.5...   \n",
       "2  [0.96, 0.98, 0.95, 0.52, 0.97, 0.41, 0.34, 0.9...   \n",
       "3  [0.98, 0.98, 0.98, 1.0, 1.0, 0.98, 0.86, 0.63,...   \n",
       "4  [0.59, 0.32, 0.32, 0.78, 0.07, 1.0, 0.25, 0.18...   \n",
       "\n",
       "                                          text_reocr  \\\n",
       "0  ['ISO.', '9922', '-Tweede', 'Blad.', 'ss*', 'V...   \n",
       "1  ['Whd^Mmumr', 'Redactie', 'J.', 'WILLEBRANDS',...   \n",
       "2  ['DE', 'GRONDWET.', 'Mrs.', 'Xj.', 'Melder,', ...   \n",
       "3  ['Ê', '•', ':>', '%', 'V', 'f', 'A', 'i', '*',...   \n",
       "4  ['De', 'troepen', 'vertrokken', '8', 'en', '9'...   \n",
       "\n",
       "                         word_level_confidence_reocr  \\\n",
       "0  [0.94, 0.23, 0.97, 0.95, 0.16, 0.97, 0.96, 0.9...   \n",
       "1  [0.25, 0.99, 0.83, 0.84, 0.98, 0.97, 0.99, 0.9...   \n",
       "2  [0.76, 0.97, 0.5, 0.62, 0.97, 0.98, 0.97, 0.74...   \n",
       "3  [0.27, 0.44, 0.14, 1.0, 0.13, 0.33, 1.0, 0.3, ...   \n",
       "4  [0.5, 0.98, 0.99, 0.41, 0.46, 0.76, 0.61, 0.96...   \n",
       "\n",
       "   word_level_average_confidence_ocr  word_level_average_confidence_reocr  \n",
       "0                           0.719354                             0.718463  \n",
       "1                           0.765606                             0.889051  \n",
       "2                           0.836059                             0.805909  \n",
       "3                           0.881544                             0.918112  \n",
       "4                           0.318412                             0.877502  "
      ]
     },
     "execution_count": 13,
     "metadata": {},
     "output_type": "execute_result"
    }
   ],
   "source": [
    "df.head()"
   ]
  },
  {
   "cell_type": "code",
   "execution_count": 9,
   "metadata": {},
   "outputs": [],
   "source": [
    "#from tabulate import tabulate"
   ]
  },
  {
   "cell_type": "code",
   "execution_count": 12,
   "metadata": {
    "scrolled": true
   },
   "outputs": [],
   "source": [
    "#print(tabulate(df.head(2), tablefmt=\"pipe\", headers=\"keys\"))"
   ]
  },
  {
   "cell_type": "markdown",
   "metadata": {},
   "source": [
    "### Basic exploration"
   ]
  },
  {
   "cell_type": "code",
   "execution_count": 7,
   "metadata": {},
   "outputs": [
    {
     "data": {
      "image/png": "[encoded data removed]",
      "text/plain": [
       "<Figure size 432x288 with 1 Axes>"
      ]
     },
     "metadata": {},
     "output_type": "display_data"
    }
   ],
   "source": [
    "sns.distplot(df[\"word_level_average_confidence_ocr\"].values, label=\"Original OCR\", kde=False, color=\"red\", bins=30)\n",
    "sns.distplot(df[\"word_level_average_confidence_reocr\"].values, label=\"Re-OCR\", kde=False, color=\"blue\", bins=30)\n",
    "plt.title(\"Word average confidence (document-level)\")\n",
    "plt.legend()\n",
    "plt.tight_layout()"
   ]
  },
  {
   "cell_type": "code",
   "execution_count": null,
   "metadata": {},
   "outputs": [],
   "source": []
  },
  {
   "cell_type": "code",
   "execution_count": null,
   "metadata": {},
   "outputs": [],
   "source": []
  },
  {
   "cell_type": "code",
   "execution_count": null,
   "metadata": {},
   "outputs": [],
   "source": []
  },
  {
   "cell_type": "code",
   "execution_count": null,
   "metadata": {},
   "outputs": [],
   "source": []
  }
 ],
 "metadata": {
  "kernelspec": {
   "display_name": "Python 3",
   "language": "python",
   "name": "python3"
  },
  "language_info": {
   "codemirror_mode": {
    "name": "ipython",
    "version": 3
   },
   "file_extension": ".py",
   "mimetype": "text/x-python",
   "name": "python",
   "nbconvert_exporter": "python",
   "pygments_lexer": "ipython3",
   "version": "3.7.6"
  }
 },
 "nbformat": 4,
 "nbformat_minor": 2
}
