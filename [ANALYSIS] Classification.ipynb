{
 "cells": [
  {
   "cell_type": "markdown",
   "metadata": {},
   "source": [
    "# Classification\n",
    "\n",
    "We have here document classification, using basic sklearn and pytorch, and named entity recognition using default settings from spacy and (optionally) Stanford NER. We use a variety of methods and find that:\n",
    "* Results are very stable between the ground truth and OCRed version of this dataset\n",
    "* Often, a classifier performs slightly better on the OCRed version of the dataset\n",
    "* These results are consistent over different text representations (e.g., count vertors, tf-idf, embeddings) and methods (Naive Bayes, SVM, Random Forests, MLP, deeper neural networks)"
   ]
  },
  {
   "cell_type": "code",
   "execution_count": 170,
   "metadata": {},
   "outputs": [],
   "source": [
    "from glob import glob\n",
    "import jellyfish\n",
    "import numpy as np\n",
    "import os, codecs, re\n",
    "from tqdm import tqdm\n",
    "import pandas as pd\n",
    "from bs4 import BeautifulSoup"
   ]
  },
  {
   "cell_type": "code",
   "execution_count": 171,
   "metadata": {},
   "outputs": [
    {
     "name": "stdout",
     "output_type": "stream",
     "text": [
      "The autoreload extension is already loaded. To reload it, use:\n",
      "  %reload_ext autoreload\n"
     ]
    }
   ],
   "source": [
    "%matplotlib inline\n",
    "import matplotlib.pyplot as plt\n",
    "\n",
    "# magics and warnings\n",
    "%load_ext autoreload\n",
    "%autoreload 2\n",
    "import warnings; warnings.simplefilter('ignore')\n",
    "\n",
    "import os, random\n",
    "from tqdm import tqdm\n",
    "import pandas as pd\n",
    "import numpy as np\n",
    "\n",
    "seed = 99\n",
    "random.seed(seed)\n",
    "np.random.seed(seed)\n",
    "\n",
    "import nltk, gensim, sklearn, spacy\n",
    "import matplotlib.pyplot as plt\n",
    "import seaborn as sns\n",
    "sns.set(style=\"white\")\n",
    "sns.set_context(\"notebook\", font_scale=1.2, rc={\"lines.linewidth\": 2.5})"
   ]
  },
  {
   "cell_type": "markdown",
   "metadata": {},
   "source": [
    "##### For this analysis we use the DBNL dataset"
   ]
  },
  {
   "cell_type": "code",
   "execution_count": 172,
   "metadata": {},
   "outputs": [],
   "source": [
    "df = pd.read_csv(\"data_frames/full_df_DBNL_OCR.csv\", compression=\"gzip\")"
   ]
  },
  {
   "cell_type": "code",
   "execution_count": 173,
   "metadata": {},
   "outputs": [
    {
     "data": {
      "text/html": [
       "<div>\n",
       "<style scoped>\n",
       "    .dataframe tbody tr th:only-of-type {\n",
       "        vertical-align: middle;\n",
       "    }\n",
       "\n",
       "    .dataframe tbody tr th {\n",
       "        vertical-align: top;\n",
       "    }\n",
       "\n",
       "    .dataframe thead th {\n",
       "        text-align: right;\n",
       "    }\n",
       "</style>\n",
       "<table border=\"1\" class=\"dataframe\">\n",
       "  <thead>\n",
       "    <tr style=\"text-align: right;\">\n",
       "      <th></th>\n",
       "      <th>filename</th>\n",
       "      <th>text_ground</th>\n",
       "      <th>genre</th>\n",
       "      <th>subgenre</th>\n",
       "      <th>text_ocr</th>\n",
       "      <th>title</th>\n",
       "      <th>year</th>\n",
       "      <th>edition</th>\n",
       "    </tr>\n",
       "  </thead>\n",
       "  <tbody>\n",
       "    <tr>\n",
       "      <th>0</th>\n",
       "      <td>_vad003182501</td>\n",
       "      <td>\\n\\n\\n\\n\\n\\nBoekbeschouwing.\\nDe gemoedsgestel...</td>\n",
       "      <td>sec - letterkunde,non-fictie</td>\n",
       "      <td>tijdschrift / jaarboek</td>\n",
       "      <td>SEM1N\\t9\\n(\\tSIS)\\ns..\\n\f",
       "B OEKBESCHOUWI ' ,\\nv...</td>\n",
       "      <td>Vaderlandsche letteroefeningen. Jaargang 1825</td>\n",
       "      <td>1825</td>\n",
       "      <td>1ste druk</td>\n",
       "    </tr>\n",
       "  </tbody>\n",
       "</table>\n",
       "</div>"
      ],
      "text/plain": [
       "        filename                                        text_ground  \\\n",
       "0  _vad003182501  \\n\\n\\n\\n\\n\\nBoekbeschouwing.\\nDe gemoedsgestel...   \n",
       "\n",
       "                          genre                subgenre  \\\n",
       "0  sec - letterkunde,non-fictie  tijdschrift / jaarboek   \n",
       "\n",
       "                                            text_ocr  \\\n",
       "0  SEM1N\\t9\\n(\\tSIS)\\ns..\\n\n",
       "B OEKBESCHOUWI ' ,\\nv...   \n",
       "\n",
       "                                           title  year    edition  \n",
       "0  Vaderlandsche letteroefeningen. Jaargang 1825  1825  1ste druk  "
      ]
     },
     "execution_count": 173,
     "metadata": {},
     "output_type": "execute_result"
    }
   ],
   "source": [
    "df.head(1)"
   ]
  },
  {
   "cell_type": "code",
   "execution_count": 174,
   "metadata": {},
   "outputs": [
    {
     "data": {
      "text/plain": [
       "sec - letterkunde,non-fictie         77\n",
       "poëzie                               46\n",
       "non-fictie                           31\n",
       "sec - taalkunde                      25\n",
       "proza,sec - letterkunde              17\n",
       "proza                                 9\n",
       "proza,poëzie,non-fictie               5\n",
       "sec - letterkunde                     3\n",
       "poëzie,sec - letterkunde              2\n",
       "poëzie,jeugdliteratuur                2\n",
       "sec - letterkunde,jeugdliteratuur     1\n",
       "proza,drama                           1\n",
       "Name: genre, dtype: int64"
      ]
     },
     "execution_count": 174,
     "metadata": {},
     "output_type": "execute_result"
    }
   ],
   "source": [
    "df[\"genre\"].value_counts()"
   ]
  },
  {
   "cell_type": "code",
   "execution_count": 175,
   "metadata": {},
   "outputs": [],
   "source": [
    "def consolidate_classes(original_class):\n",
    "    \"Put together the main classes\"\n",
    "    \n",
    "    if original_class in [\"sec - letterkunde,non-fictie\",\"proza,sec - letterkunde\",\"proza\"]:\n",
    "        return \"sec - letterkunde\"\n",
    "    elif \"poëzie\" in original_class:\n",
    "        return \"poëzie\"\n",
    "    elif original_class == \"sec - taalkunde\":\n",
    "        return \"sec - taalkunde\"\n",
    "    elif original_class == \"non-fictie\":\n",
    "        return \"non-fictie\"\n",
    "    return np.nan"
   ]
  },
  {
   "cell_type": "code",
   "execution_count": 176,
   "metadata": {},
   "outputs": [
    {
     "name": "stdout",
     "output_type": "stream",
     "text": [
      "CPU times: user 2.7 ms, sys: 295 µs, total: 3 ms\n",
      "Wall time: 3.05 ms\n"
     ]
    },
    {
     "data": {
      "text/plain": [
       "869"
      ]
     },
     "execution_count": 176,
     "metadata": {},
     "output_type": "execute_result"
    }
   ],
   "source": [
    "%%time\n",
    "# test the speed of the levenshtein distance\n",
    "\n",
    "jellyfish.levenshtein_distance(df[\"text_ground\"].values[0][:1000],df[\"text_ocr\"].values[0][:1000])"
   ]
  },
  {
   "cell_type": "code",
   "execution_count": 177,
   "metadata": {},
   "outputs": [],
   "source": [
    "df[\"consolidated_genre\"] = df[\"genre\"].apply(consolidate_classes)"
   ]
  },
  {
   "cell_type": "code",
   "execution_count": 178,
   "metadata": {},
   "outputs": [
    {
     "data": {
      "text/html": [
       "<div>\n",
       "<style scoped>\n",
       "    .dataframe tbody tr th:only-of-type {\n",
       "        vertical-align: middle;\n",
       "    }\n",
       "\n",
       "    .dataframe tbody tr th {\n",
       "        vertical-align: top;\n",
       "    }\n",
       "\n",
       "    .dataframe thead th {\n",
       "        text-align: right;\n",
       "    }\n",
       "</style>\n",
       "<table border=\"1\" class=\"dataframe\">\n",
       "  <thead>\n",
       "    <tr style=\"text-align: right;\">\n",
       "      <th></th>\n",
       "      <th>filename</th>\n",
       "      <th>text_ground</th>\n",
       "      <th>genre</th>\n",
       "      <th>subgenre</th>\n",
       "      <th>text_ocr</th>\n",
       "      <th>title</th>\n",
       "      <th>year</th>\n",
       "      <th>edition</th>\n",
       "      <th>consolidated_genre</th>\n",
       "    </tr>\n",
       "  </thead>\n",
       "  <tbody>\n",
       "    <tr>\n",
       "      <th>0</th>\n",
       "      <td>_vad003182501</td>\n",
       "      <td>\\n\\n\\n\\n\\n\\nBoekbeschouwing.\\nDe gemoedsgestel...</td>\n",
       "      <td>sec - letterkunde,non-fictie</td>\n",
       "      <td>tijdschrift / jaarboek</td>\n",
       "      <td>SEM1N\\t9\\n(\\tSIS)\\ns..\\n\f",
       "B OEKBESCHOUWI ' ,\\nv...</td>\n",
       "      <td>Vaderlandsche letteroefeningen. Jaargang 1825</td>\n",
       "      <td>1825</td>\n",
       "      <td>1ste druk</td>\n",
       "      <td>sec - letterkunde</td>\n",
       "    </tr>\n",
       "  </tbody>\n",
       "</table>\n",
       "</div>"
      ],
      "text/plain": [
       "        filename                                        text_ground  \\\n",
       "0  _vad003182501  \\n\\n\\n\\n\\n\\nBoekbeschouwing.\\nDe gemoedsgestel...   \n",
       "\n",
       "                          genre                subgenre  \\\n",
       "0  sec - letterkunde,non-fictie  tijdschrift / jaarboek   \n",
       "\n",
       "                                            text_ocr  \\\n",
       "0  SEM1N\\t9\\n(\\tSIS)\\ns..\\n\n",
       "B OEKBESCHOUWI ' ,\\nv...   \n",
       "\n",
       "                                           title  year    edition  \\\n",
       "0  Vaderlandsche letteroefeningen. Jaargang 1825  1825  1ste druk   \n",
       "\n",
       "  consolidated_genre  \n",
       "0  sec - letterkunde  "
      ]
     },
     "execution_count": 178,
     "metadata": {},
     "output_type": "execute_result"
    }
   ],
   "source": [
    "df.head(1)"
   ]
  },
  {
   "cell_type": "code",
   "execution_count": 179,
   "metadata": {},
   "outputs": [],
   "source": [
    "df.dropna(subset=['consolidated_genre'], inplace=True)"
   ]
  },
  {
   "cell_type": "code",
   "execution_count": 180,
   "metadata": {},
   "outputs": [
    {
     "data": {
      "text/plain": [
       "(214, 9)"
      ]
     },
     "execution_count": 180,
     "metadata": {},
     "output_type": "execute_result"
    }
   ],
   "source": [
    "df.shape"
   ]
  },
  {
   "cell_type": "markdown",
   "metadata": {},
   "source": [
    "### Setup and pre-processing"
   ]
  },
  {
   "cell_type": "code",
   "execution_count": 136,
   "metadata": {
    "scrolled": true
   },
   "outputs": [
    {
     "name": "stdout",
     "output_type": "stream",
     "text": [
      "Collecting nl_core_news_sm==2.0.0\n",
      "  Downloading https://github.com/explosion/spacy-models/releases/download/nl_core_news_sm-2.0.0/nl_core_news_sm-2.0.0.tar.gz (36.7 MB)\n",
      "\u001b[K     |████████████████████████████████| 36.7 MB 2.7 MB/s eta 0:00:01\n",
      "\u001b[?25h\n",
      "\u001b[93m    Linking successful\u001b[0m\n",
      "    /anaconda3/envs/ocr_lm/lib/python3.7/site-packages/nl_core_news_sm -->\n",
      "    /anaconda3/envs/ocr_lm/lib/python3.7/site-packages/spacy/data/nl\n",
      "\n",
      "    You can now load the model via spacy.load('nl')\n",
      "\n"
     ]
    }
   ],
   "source": [
    "!python -m spacy download nl"
   ]
  },
  {
   "cell_type": "code",
   "execution_count": 181,
   "metadata": {},
   "outputs": [],
   "source": [
    "sample_ground = df[\"text_ground\"].values\n",
    "sample_ocr = df[\"text_ocr\"].values\n",
    "labels = df[\"consolidated_genre\"].values"
   ]
  },
  {
   "cell_type": "code",
   "execution_count": 182,
   "metadata": {},
   "outputs": [
    {
     "name": "stdout",
     "output_type": "stream",
     "text": [
      "214\n"
     ]
    }
   ],
   "source": [
    "print(len(sample_ground))"
   ]
  },
  {
   "cell_type": "code",
   "execution_count": 183,
   "metadata": {},
   "outputs": [
    {
     "data": {
      "image/png": "[encoded data removed]",
      "text/plain": [
       "<Figure size 432x288 with 1 Axes>"
      ]
     },
     "metadata": {},
     "output_type": "display_data"
    }
   ],
   "source": [
    "sns.distplot([len(x.split()) for x in sample_ground], label=\"Ground\", kde=False, color=\"green\", bins=30)\n",
    "sns.distplot([len(x.split()) for x in sample_ocr], label=\"OCR\", kde=False, color=\"red\", bins=30)\n",
    "plt.title(\"Document length\")\n",
    "plt.legend()\n",
    "plt.tight_layout()"
   ]
  },
  {
   "cell_type": "code",
   "execution_count": 184,
   "metadata": {},
   "outputs": [],
   "source": [
    "# trim the number of characters in use for each document\n",
    "\n",
    "LIMIT = 100000\n",
    "\n",
    "sample_ground = [x[:LIMIT] for x in sample_ground]\n",
    "sample_ocr = [x[:LIMIT] for x in sample_ocr]"
   ]
  },
  {
   "cell_type": "code",
   "execution_count": 185,
   "metadata": {},
   "outputs": [
    {
     "data": {
      "image/png": "[encoded data removed]",
      "text/plain": [
       "<Figure size 432x288 with 1 Axes>"
      ]
     },
     "metadata": {},
     "output_type": "display_data"
    }
   ],
   "source": [
    "sns.distplot([len(x) for x in sample_ground], label=\"Ground\", kde=False, color=\"green\", bins=30)\n",
    "sns.distplot([len(x) for x in sample_ocr], label=\"OCR\", kde=False, color=\"red\", bins=30)\n",
    "plt.title(\"Document length\")\n",
    "plt.legend()\n",
    "plt.tight_layout()"
   ]
  },
  {
   "cell_type": "markdown",
   "metadata": {},
   "source": [
    "#### Pre-processing\n",
    "We apply a canonical pre-processing pipeline, including the following steps:\n",
    "\n",
    "* Remove stop-words\n",
    "* Lemmatize\n",
    "* Lowercase\n",
    "* Remove tokens shorter than 3 characters"
   ]
  },
  {
   "cell_type": "code",
   "execution_count": 22,
   "metadata": {},
   "outputs": [],
   "source": [
    "nlp = spacy.load('nl')\n",
    "STOPWORDS = spacy.lang.nl.stop_words.STOP_WORDS\n",
    "STOPWORDS.add(\"eene\")"
   ]
  },
  {
   "cell_type": "code",
   "execution_count": 23,
   "metadata": {},
   "outputs": [
    {
     "name": "stdout",
     "output_type": "stream",
     "text": [
      "CPU times: user 17min 39s, sys: 4min 55s, total: 22min 35s\n",
      "Wall time: 15min 21s\n"
     ]
    }
   ],
   "source": [
    "%%time\n",
    "\n",
    "processed_docs = list()\n",
    "for doc in nlp.pipe(sample_ocr, n_threads=5, batch_size=10):\n",
    "\n",
    "    # Process document using Spacy NLP pipeline.\n",
    "    #ents = doc.ents  # Named entities\n",
    "\n",
    "    # Keep only words (no numbers, no punctuation).\n",
    "    # Lemmatize tokens, remove punctuation and remove stopwords.\n",
    "    doc = [token.lemma_ for token in doc if token.is_alpha and not token.is_stop]\n",
    "\n",
    "    # Remove common words from a stopword list and keep only words of length 3 or more.\n",
    "    doc = [token.lower() for token in doc if token not in STOPWORDS and len(token) > 2]\n",
    "\n",
    "    # Add named entities, but only if they are a compound of more than one word.\n",
    "    #doc.extend([str(entity) for entity in ents if len(entity) > 1])\n",
    "\n",
    "    processed_docs.append(doc)"
   ]
  },
  {
   "cell_type": "code",
   "execution_count": 25,
   "metadata": {},
   "outputs": [],
   "source": [
    "docs = processed_docs\n",
    "del processed_docs"
   ]
  },
  {
   "cell_type": "code",
   "execution_count": 26,
   "metadata": {},
   "outputs": [],
   "source": [
    "# You will need to run the same pipeline twice, for ground truth and OCR documents. Comment/uncomment this part each time:\n",
    "#docs_ground = docs\n",
    "docs_ocr = docs"
   ]
  },
  {
   "cell_type": "code",
   "execution_count": 134,
   "metadata": {},
   "outputs": [],
   "source": [
    "# save corpora\n",
    "import pickle\n",
    "\n",
    "with open('folder_classification/docs_ground.pkl', 'wb') as handle:\n",
    "    pickle.dump(docs_ground, handle)\n",
    "with open('folder_classification/docs_ocr.pkl', 'wb') as handle:\n",
    "    pickle.dump(docs_ocr, handle)\n",
    "with open('folder_classification/labels.pkl', 'wb') as handle:\n",
    "    pickle.dump(labels, handle)"
   ]
  },
  {
   "cell_type": "markdown",
   "metadata": {},
   "source": [
    "#### Start from the pre-processed corpus"
   ]
  },
  {
   "cell_type": "code",
   "execution_count": 186,
   "metadata": {},
   "outputs": [],
   "source": [
    "# load corpora\n",
    "import pickle\n",
    "\n",
    "docs_ground = list()\n",
    "docs_ocr = list()\n",
    "labels = list()\n",
    "\n",
    "with open('folder_classification/docs_ground.pkl', 'rb') as handle:\n",
    "    docs_ground = pickle.load(handle)\n",
    "with open('folder_classification/docs_ocr.pkl', 'rb') as handle:\n",
    "    docs_ocr = pickle.load(handle)\n",
    "with open('folder_classification/labels.pkl', 'rb') as handle:\n",
    "    labels = pickle.load(handle)"
   ]
  },
  {
   "cell_type": "code",
   "execution_count": 187,
   "metadata": {},
   "outputs": [
    {
     "data": {
      "text/plain": [
       "['boekbeschouwing',\n",
       " 'gemoedsgesteldheid',\n",
       " 'david',\n",
       " 'onder',\n",
       " 'zijne',\n",
       " 'verschillende',\n",
       " 'lotgevallen',\n",
       " 'zijne',\n",
       " 'psalmen',\n",
       " 'opgemaakt']"
      ]
     },
     "execution_count": 187,
     "metadata": {},
     "output_type": "execute_result"
    }
   ],
   "source": [
    "docs_ground[0][:10]"
   ]
  },
  {
   "cell_type": "code",
   "execution_count": 188,
   "metadata": {},
   "outputs": [
    {
     "data": {
      "text/plain": [
       "['sis',\n",
       " 'oekbeschouwi',\n",
       " 'voor',\n",
       " 'erland',\n",
       " 'scfie',\n",
       " 'letteroefeningen',\n",
       " 'tij',\n",
       " 'schr',\n",
       " 'van',\n",
       " 'kunsten']"
      ]
     },
     "execution_count": 188,
     "metadata": {},
     "output_type": "execute_result"
    }
   ],
   "source": [
    "docs_ocr[0][:10]"
   ]
  },
  {
   "cell_type": "markdown",
   "metadata": {},
   "source": [
    "## Simple classifiers with Sklearn"
   ]
  },
  {
   "cell_type": "code",
   "execution_count": 189,
   "metadata": {},
   "outputs": [
    {
     "data": {
      "text/plain": [
       "Counter({'sec - letterkunde': 103,\n",
       "         'sec - taalkunde': 25,\n",
       "         'non-fictie': 31,\n",
       "         'poëzie': 55})"
      ]
     },
     "execution_count": 189,
     "metadata": {},
     "output_type": "execute_result"
    }
   ],
   "source": [
    "from collections import Counter\n",
    "\n",
    "# these are the labels\n",
    "c = Counter(labels)\n",
    "c"
   ]
  },
  {
   "cell_type": "code",
   "execution_count": 190,
   "metadata": {},
   "outputs": [],
   "source": [
    "# train/test split\n",
    "from sklearn.model_selection import train_test_split\n",
    "\n",
    "train_g, test_g, labels_train_g, labels_test_g = train_test_split(docs_ground, labels, test_size=0.2, random_state=seed)\n",
    "train_o, test_o, labels_train_o, labels_test_o = train_test_split(docs_ocr, labels, test_size=0.2, random_state=seed)"
   ]
  },
  {
   "cell_type": "code",
   "execution_count": 191,
   "metadata": {},
   "outputs": [],
   "source": [
    "# save as csv (used later on for PyTorch)\n",
    "\n",
    "with open('folder_classification/train_g.csv', 'w') as handle:\n",
    "    for t,l in zip(train_g,labels_train_g):\n",
    "        handle.write(\"\\\"\"+\" \".join(t)+\"\\\",\"+l+\"\\n\")\n",
    "with open('folder_classification/train_o.csv', 'w') as handle:\n",
    "    for t,l in zip(train_o,labels_train_o):\n",
    "        handle.write(\"\\\"\"+\" \".join(t)+\"\\\",\"+l+\"\\n\")\n",
    "with open('folder_classification/test_g.csv', 'w') as handle:\n",
    "    for t,l in zip(test_g,labels_test_g):\n",
    "        handle.write(\"\\\"\"+\" \".join(t)+\"\\\",\"+l+\"\\n\")\n",
    "with open('folder_classification/test_o.csv', 'w') as handle:\n",
    "    for t,l in zip(test_o,labels_test_o):\n",
    "        handle.write(\"\\\"\"+\" \".join(t)+\"\\\",\"+l+\"\\n\")"
   ]
  },
  {
   "cell_type": "code",
   "execution_count": 192,
   "metadata": {},
   "outputs": [
    {
     "data": {
      "text/plain": [
       "(171, 58477)"
      ]
     },
     "execution_count": 192,
     "metadata": {},
     "output_type": "execute_result"
    }
   ],
   "source": [
    "# Feature extractors\n",
    "\n",
    "from sklearn.feature_extraction.text import CountVectorizer, TfidfVectorizer\n",
    "# remove terms only in one doc and turn off prepocessing (which we did already)\n",
    "count_vect_g = CountVectorizer(min_df=2, analyzer=lambda x: x)\n",
    "tfidf_vect_g = TfidfVectorizer(min_df=2, analyzer=lambda x: x) \n",
    "count_vect_o = CountVectorizer(min_df=2, analyzer=lambda x: x) \n",
    "tfidf_vect_o = TfidfVectorizer(min_df=2, analyzer=lambda x: x) \n",
    "\n",
    "count_tr_g = count_vect_g.fit(train_g)\n",
    "count_tr_o = count_vect_o.fit(train_o)\n",
    "tfidf_tr_g = tfidf_vect_g.fit(train_g)\n",
    "tfidf_tr_o = tfidf_vect_o.fit(train_o)\n",
    "\n",
    "X_train_g_counts = count_tr_g.transform(train_g)\n",
    "X_train_g_counts.shape\n",
    "X_train_o_counts = count_tr_o.transform(train_o)\n",
    "X_train_o_counts.shape\n",
    "\n",
    "X_train_g_tfidf = tfidf_tr_g.transform(train_g)\n",
    "X_train_o_tfidf = tfidf_tr_o.transform(train_o)\n",
    "X_train_o_tfidf.shape"
   ]
  },
  {
   "cell_type": "code",
   "execution_count": 193,
   "metadata": {},
   "outputs": [
    {
     "data": {
      "text/plain": [
       "(171, 54907)"
      ]
     },
     "execution_count": 193,
     "metadata": {},
     "output_type": "execute_result"
    }
   ],
   "source": [
    "X_train_g_tfidf.shape"
   ]
  },
  {
   "cell_type": "markdown",
   "metadata": {},
   "source": [
    "### Baseline classifiers: NB, SVC, RF, MLP\n",
    "\n",
    "#### Count-based features"
   ]
  },
  {
   "cell_type": "code",
   "execution_count": 194,
   "metadata": {},
   "outputs": [],
   "source": [
    "classifiers = list()"
   ]
  },
  {
   "cell_type": "code",
   "execution_count": 195,
   "metadata": {},
   "outputs": [],
   "source": [
    "from sklearn.naive_bayes import MultinomialNB\n",
    "\n",
    "clf_g_NB = MultinomialNB().fit(X_train_g_counts, labels_train_g)\n",
    "clf_o_NB = MultinomialNB().fit(X_train_o_counts, labels_train_o)\n",
    "classifiers.append((\"NB\",clf_g_NB,clf_o_NB))"
   ]
  },
  {
   "cell_type": "code",
   "execution_count": 196,
   "metadata": {},
   "outputs": [],
   "source": [
    "from sklearn import svm\n",
    "\n",
    "clf_g_SVM = svm.SVC(decision_function_shape='ovr').fit(X_train_g_counts, labels_train_g)\n",
    "clf_o_SVM = svm.SVC(decision_function_shape='ovr').fit(X_train_o_counts, labels_train_o)\n",
    "classifiers.append((\"SVM\",clf_g_SVM,clf_o_SVM))"
   ]
  },
  {
   "cell_type": "code",
   "execution_count": 197,
   "metadata": {},
   "outputs": [],
   "source": [
    "from sklearn.ensemble import RandomForestClassifier\n",
    "\n",
    "clf_g_RF = RandomForestClassifier(max_depth=10, n_estimators=20, max_features=100).fit(X_train_g_counts, labels_train_g)\n",
    "clf_o_RF = RandomForestClassifier(max_depth=10, n_estimators=20, max_features=100).fit(X_train_o_counts, labels_train_o)\n",
    "classifiers.append((\"RF\",clf_g_RF,clf_o_RF))"
   ]
  },
  {
   "cell_type": "code",
   "execution_count": 198,
   "metadata": {},
   "outputs": [],
   "source": [
    "from sklearn.neural_network import MLPClassifier\n",
    "\n",
    "clf_g_MLP = MLPClassifier(hidden_layer_sizes=(100, 50, 25)).fit(X_train_g_counts, labels_train_g)\n",
    "clf_o_MLP = MLPClassifier(hidden_layer_sizes=(100, 50, 25)).fit(X_train_o_counts, labels_train_o)\n",
    "classifiers.append((\"MLP\",clf_g_MLP,clf_o_MLP))"
   ]
  },
  {
   "cell_type": "markdown",
   "metadata": {},
   "source": [
    "##### Ground truth"
   ]
  },
  {
   "cell_type": "code",
   "execution_count": 199,
   "metadata": {},
   "outputs": [
    {
     "name": "stdout",
     "output_type": "stream",
     "text": [
      "Ground truth\n",
      "------\n",
      "\n",
      "NB\n",
      "0.8604651162790697\n",
      "                   precision    recall  f1-score   support\n",
      "\n",
      "       non-fictie       1.00      0.86      0.92         7\n",
      "           poëzie       0.85      0.73      0.79        15\n",
      "sec - letterkunde       0.81      1.00      0.89        17\n",
      "  sec - taalkunde       1.00      0.75      0.86         4\n",
      "\n",
      "         accuracy                           0.86        43\n",
      "        macro avg       0.91      0.84      0.87        43\n",
      "     weighted avg       0.87      0.86      0.86        43\n",
      "\n",
      "[[ 6  1  0  0]\n",
      " [ 0 11  4  0]\n",
      " [ 0  0 17  0]\n",
      " [ 0  1  0  3]]\n",
      "\n",
      "------\n",
      "\n",
      "SVM\n",
      "0.813953488372093\n",
      "                   precision    recall  f1-score   support\n",
      "\n",
      "       non-fictie       1.00      0.86      0.92         7\n",
      "           poëzie       0.82      0.60      0.69        15\n",
      "sec - letterkunde       0.74      1.00      0.85        17\n",
      "  sec - taalkunde       1.00      0.75      0.86         4\n",
      "\n",
      "         accuracy                           0.81        43\n",
      "        macro avg       0.89      0.80      0.83        43\n",
      "     weighted avg       0.83      0.81      0.81        43\n",
      "\n",
      "[[ 6  1  0  0]\n",
      " [ 0  9  6  0]\n",
      " [ 0  0 17  0]\n",
      " [ 0  1  0  3]]\n",
      "\n",
      "------\n",
      "\n",
      "RF\n",
      "0.7441860465116279\n",
      "                   precision    recall  f1-score   support\n",
      "\n",
      "       non-fictie       1.00      0.86      0.92         7\n",
      "           poëzie       0.82      0.60      0.69        15\n",
      "sec - letterkunde       0.68      1.00      0.81        17\n",
      "  sec - taalkunde       0.00      0.00      0.00         4\n",
      "\n",
      "         accuracy                           0.74        43\n",
      "        macro avg       0.62      0.61      0.61        43\n",
      "     weighted avg       0.72      0.74      0.71        43\n",
      "\n",
      "[[ 6  1  0  0]\n",
      " [ 0  9  5  1]\n",
      " [ 0  0 17  0]\n",
      " [ 0  1  3  0]]\n",
      "\n",
      "------\n",
      "\n",
      "MLP\n",
      "0.8604651162790697\n",
      "                   precision    recall  f1-score   support\n",
      "\n",
      "       non-fictie       1.00      0.86      0.92         7\n",
      "           poëzie       0.85      0.73      0.79        15\n",
      "sec - letterkunde       0.81      1.00      0.89        17\n",
      "  sec - taalkunde       1.00      0.75      0.86         4\n",
      "\n",
      "         accuracy                           0.86        43\n",
      "        macro avg       0.91      0.84      0.87        43\n",
      "     weighted avg       0.87      0.86      0.86        43\n",
      "\n",
      "[[ 6  1  0  0]\n",
      " [ 0 11  4  0]\n",
      " [ 0  0 17  0]\n",
      " [ 0  1  0  3]]\n",
      "\n",
      "------\n",
      "\n"
     ]
    }
   ],
   "source": [
    "from sklearn import metrics\n",
    "X_test_g_counts = count_tr_g.transform(test_g)\n",
    "\n",
    "print(\"Ground truth\\n------\\n\")\n",
    "for cl in classifiers:\n",
    "    print(cl[0])\n",
    "    predicted = cl[1].predict(X_test_g_counts)\n",
    "    print(np.mean(predicted == labels_test_g))\n",
    "    print(metrics.classification_report(labels_test_g, predicted))\n",
    "    print(metrics.confusion_matrix(labels_test_g, predicted))\n",
    "    print(\"\\n------\\n\")"
   ]
  },
  {
   "cell_type": "markdown",
   "metadata": {},
   "source": [
    "##### OCR"
   ]
  },
  {
   "cell_type": "code",
   "execution_count": 200,
   "metadata": {},
   "outputs": [
    {
     "name": "stdout",
     "output_type": "stream",
     "text": [
      "OCR\n",
      "------\n",
      "\n",
      "NB\n",
      "0.8837209302325582\n",
      "                   precision    recall  f1-score   support\n",
      "\n",
      "       non-fictie       1.00      0.86      0.92         7\n",
      "           poëzie       0.86      0.80      0.83        15\n",
      "sec - letterkunde       0.85      1.00      0.92        17\n",
      "  sec - taalkunde       1.00      0.75      0.86         4\n",
      "\n",
      "         accuracy                           0.88        43\n",
      "        macro avg       0.93      0.85      0.88        43\n",
      "     weighted avg       0.89      0.88      0.88        43\n",
      "\n",
      "[[ 6  1  0  0]\n",
      " [ 0 12  3  0]\n",
      " [ 0  0 17  0]\n",
      " [ 0  1  0  3]]\n",
      "\n",
      "------\n",
      "\n",
      "SVM\n",
      "0.8604651162790697\n",
      "                   precision    recall  f1-score   support\n",
      "\n",
      "       non-fictie       1.00      0.86      0.92         7\n",
      "           poëzie       0.85      0.73      0.79        15\n",
      "sec - letterkunde       0.81      1.00      0.89        17\n",
      "  sec - taalkunde       1.00      0.75      0.86         4\n",
      "\n",
      "         accuracy                           0.86        43\n",
      "        macro avg       0.91      0.84      0.87        43\n",
      "     weighted avg       0.87      0.86      0.86        43\n",
      "\n",
      "[[ 6  1  0  0]\n",
      " [ 0 11  4  0]\n",
      " [ 0  0 17  0]\n",
      " [ 0  1  0  3]]\n",
      "\n",
      "------\n",
      "\n",
      "RF\n",
      "0.813953488372093\n",
      "                   precision    recall  f1-score   support\n",
      "\n",
      "       non-fictie       1.00      0.86      0.92         7\n",
      "           poëzie       0.85      0.73      0.79        15\n",
      "sec - letterkunde       0.77      1.00      0.87        17\n",
      "  sec - taalkunde       0.50      0.25      0.33         4\n",
      "\n",
      "         accuracy                           0.81        43\n",
      "        macro avg       0.78      0.71      0.73        43\n",
      "     weighted avg       0.81      0.81      0.80        43\n",
      "\n",
      "[[ 6  1  0  0]\n",
      " [ 0 11  3  1]\n",
      " [ 0  0 17  0]\n",
      " [ 0  1  2  1]]\n",
      "\n",
      "------\n",
      "\n",
      "MLP\n",
      "0.8604651162790697\n",
      "                   precision    recall  f1-score   support\n",
      "\n",
      "       non-fictie       1.00      0.86      0.92         7\n",
      "           poëzie       0.85      0.73      0.79        15\n",
      "sec - letterkunde       0.85      1.00      0.92        17\n",
      "  sec - taalkunde       0.75      0.75      0.75         4\n",
      "\n",
      "         accuracy                           0.86        43\n",
      "        macro avg       0.86      0.84      0.84        43\n",
      "     weighted avg       0.86      0.86      0.86        43\n",
      "\n",
      "[[ 6  1  0  0]\n",
      " [ 0 11  3  1]\n",
      " [ 0  0 17  0]\n",
      " [ 0  1  0  3]]\n",
      "\n",
      "------\n",
      "\n"
     ]
    }
   ],
   "source": [
    "X_test_o_counts = count_tr_o.transform(test_o)\n",
    "\n",
    "print(\"OCR\\n------\\n\")\n",
    "for cl in classifiers:\n",
    "    print(cl[0])\n",
    "    predicted = cl[2].predict(X_test_o_counts)\n",
    "    print(np.mean(predicted == labels_test_o))\n",
    "    print(metrics.classification_report(labels_test_o, predicted))\n",
    "    print(metrics.confusion_matrix(labels_test_o, predicted))\n",
    "    print(\"\\n------\\n\")"
   ]
  },
  {
   "cell_type": "markdown",
   "metadata": {},
   "source": [
    "#### Tf-Idf features"
   ]
  },
  {
   "cell_type": "code",
   "execution_count": 201,
   "metadata": {},
   "outputs": [],
   "source": [
    "classifiers = list()"
   ]
  },
  {
   "cell_type": "code",
   "execution_count": 202,
   "metadata": {},
   "outputs": [],
   "source": [
    "from sklearn.naive_bayes import MultinomialNB\n",
    "\n",
    "clf_g_NB = MultinomialNB().fit(X_train_g_tfidf, labels_train_g)\n",
    "clf_o_NB = MultinomialNB().fit(X_train_o_tfidf, labels_train_o)\n",
    "classifiers.append((\"NB\",clf_g_NB,clf_o_NB))"
   ]
  },
  {
   "cell_type": "code",
   "execution_count": 203,
   "metadata": {},
   "outputs": [],
   "source": [
    "from sklearn import svm\n",
    "\n",
    "clf_g_SVM = svm.SVC(gamma=2, C=1, decision_function_shape='ovr').fit(X_train_g_tfidf, labels_train_g)\n",
    "clf_o_SVM = svm.SVC(gamma=2, C=1, decision_function_shape='ovr').fit(X_train_o_tfidf, labels_train_o)\n",
    "classifiers.append((\"SVM\",clf_g_SVM,clf_o_SVM))"
   ]
  },
  {
   "cell_type": "code",
   "execution_count": 204,
   "metadata": {},
   "outputs": [],
   "source": [
    "from sklearn.ensemble import RandomForestClassifier\n",
    "\n",
    "clf_g_RF = RandomForestClassifier(max_depth=10, n_estimators=20, max_features=100).fit(X_train_g_tfidf, labels_train_g)\n",
    "clf_o_RF = RandomForestClassifier(max_depth=10, n_estimators=20, max_features=100).fit(X_train_o_tfidf, labels_train_o)\n",
    "classifiers.append((\"RF\",clf_g_RF,clf_o_RF))"
   ]
  },
  {
   "cell_type": "code",
   "execution_count": 205,
   "metadata": {},
   "outputs": [],
   "source": [
    "from sklearn.neural_network import MLPClassifier\n",
    "\n",
    "clf_g_MLP = MLPClassifier(hidden_layer_sizes=(100, 50, 25)).fit(X_train_g_tfidf, labels_train_g)\n",
    "clf_o_MLP = MLPClassifier(hidden_layer_sizes=(100, 50, 25)).fit(X_train_o_tfidf, labels_train_o)\n",
    "classifiers.append((\"MLP\",clf_g_MLP,clf_o_MLP))"
   ]
  },
  {
   "cell_type": "markdown",
   "metadata": {},
   "source": [
    "##### Ground truth"
   ]
  },
  {
   "cell_type": "code",
   "execution_count": 206,
   "metadata": {},
   "outputs": [
    {
     "name": "stdout",
     "output_type": "stream",
     "text": [
      "Ground truth\n",
      "------\n",
      "\n",
      "NB\n",
      "0.4186046511627907\n",
      "                   precision    recall  f1-score   support\n",
      "\n",
      "       non-fictie       0.00      0.00      0.00         7\n",
      "           poëzie       1.00      0.07      0.12        15\n",
      "sec - letterkunde       0.40      1.00      0.58        17\n",
      "  sec - taalkunde       0.00      0.00      0.00         4\n",
      "\n",
      "         accuracy                           0.42        43\n",
      "        macro avg       0.35      0.27      0.18        43\n",
      "     weighted avg       0.51      0.42      0.27        43\n",
      "\n",
      "[[ 0  0  7  0]\n",
      " [ 0  1 14  0]\n",
      " [ 0  0 17  0]\n",
      " [ 0  0  4  0]]\n",
      "\n",
      "------\n",
      "\n",
      "SVM\n",
      "0.7906976744186046\n",
      "                   precision    recall  f1-score   support\n",
      "\n",
      "       non-fictie       1.00      0.86      0.92         7\n",
      "           poëzie       0.82      0.60      0.69        15\n",
      "sec - letterkunde       0.71      1.00      0.83        17\n",
      "  sec - taalkunde       1.00      0.50      0.67         4\n",
      "\n",
      "         accuracy                           0.79        43\n",
      "        macro avg       0.88      0.74      0.78        43\n",
      "     weighted avg       0.82      0.79      0.78        43\n",
      "\n",
      "[[ 6  1  0  0]\n",
      " [ 0  9  6  0]\n",
      " [ 0  0 17  0]\n",
      " [ 0  1  1  2]]\n",
      "\n",
      "------\n",
      "\n",
      "RF\n",
      "0.813953488372093\n",
      "                   precision    recall  f1-score   support\n",
      "\n",
      "       non-fictie       1.00      0.86      0.92         7\n",
      "           poëzie       0.79      0.73      0.76        15\n",
      "sec - letterkunde       0.76      0.94      0.84        17\n",
      "  sec - taalkunde       1.00      0.50      0.67         4\n",
      "\n",
      "         accuracy                           0.81        43\n",
      "        macro avg       0.89      0.76      0.80        43\n",
      "     weighted avg       0.83      0.81      0.81        43\n",
      "\n",
      "[[ 6  1  0  0]\n",
      " [ 0 11  4  0]\n",
      " [ 0  1 16  0]\n",
      " [ 0  1  1  2]]\n",
      "\n",
      "------\n",
      "\n",
      "MLP\n",
      "0.8837209302325582\n",
      "                   precision    recall  f1-score   support\n",
      "\n",
      "       non-fictie       0.86      0.86      0.86         7\n",
      "           poëzie       0.86      0.80      0.83        15\n",
      "sec - letterkunde       0.89      1.00      0.94        17\n",
      "  sec - taalkunde       1.00      0.75      0.86         4\n",
      "\n",
      "         accuracy                           0.88        43\n",
      "        macro avg       0.90      0.85      0.87        43\n",
      "     weighted avg       0.89      0.88      0.88        43\n",
      "\n",
      "[[ 6  1  0  0]\n",
      " [ 1 12  2  0]\n",
      " [ 0  0 17  0]\n",
      " [ 0  1  0  3]]\n",
      "\n",
      "------\n",
      "\n"
     ]
    }
   ],
   "source": [
    "from sklearn import metrics\n",
    "X_test_g_tfidf = tfidf_tr_g.transform(test_g)\n",
    "\n",
    "print(\"Ground truth\\n------\\n\")\n",
    "for cl in classifiers:\n",
    "    print(cl[0])\n",
    "    predicted = cl[1].predict(X_test_g_tfidf)\n",
    "    print(np.mean(predicted == labels_test_g))\n",
    "    print(metrics.classification_report(labels_test_g, predicted))\n",
    "    print(metrics.confusion_matrix(labels_test_g, predicted))\n",
    "    print(\"\\n------\\n\")"
   ]
  },
  {
   "cell_type": "markdown",
   "metadata": {},
   "source": [
    "##### OCR"
   ]
  },
  {
   "cell_type": "code",
   "execution_count": 207,
   "metadata": {},
   "outputs": [
    {
     "name": "stdout",
     "output_type": "stream",
     "text": [
      "Ground truth\n",
      "------\n",
      "\n",
      "NB\n",
      "0.4186046511627907\n",
      "                   precision    recall  f1-score   support\n",
      "\n",
      "       non-fictie       0.00      0.00      0.00         7\n",
      "           poëzie       1.00      0.07      0.12        15\n",
      "sec - letterkunde       0.40      1.00      0.58        17\n",
      "  sec - taalkunde       0.00      0.00      0.00         4\n",
      "\n",
      "         accuracy                           0.42        43\n",
      "        macro avg       0.35      0.27      0.18        43\n",
      "     weighted avg       0.51      0.42      0.27        43\n",
      "\n",
      "[[ 0  0  7  0]\n",
      " [ 0  1 14  0]\n",
      " [ 0  0 17  0]\n",
      " [ 0  0  4  0]]\n",
      "\n",
      "------\n",
      "\n",
      "SVM\n",
      "0.7674418604651163\n",
      "                   precision    recall  f1-score   support\n",
      "\n",
      "       non-fictie       1.00      0.86      0.92         7\n",
      "           poëzie       0.83      0.67      0.74        15\n",
      "sec - letterkunde       0.68      1.00      0.81        17\n",
      "  sec - taalkunde       0.00      0.00      0.00         4\n",
      "\n",
      "         accuracy                           0.77        43\n",
      "        macro avg       0.63      0.63      0.62        43\n",
      "     weighted avg       0.72      0.77      0.73        43\n",
      "\n",
      "[[ 6  1  0  0]\n",
      " [ 0 10  5  0]\n",
      " [ 0  0 17  0]\n",
      " [ 0  1  3  0]]\n",
      "\n",
      "------\n",
      "\n",
      "RF\n",
      "0.7674418604651163\n",
      "                   precision    recall  f1-score   support\n",
      "\n",
      "       non-fictie       1.00      0.86      0.92         7\n",
      "           poëzie       0.77      0.67      0.71        15\n",
      "sec - letterkunde       0.70      0.94      0.80        17\n",
      "  sec - taalkunde       1.00      0.25      0.40         4\n",
      "\n",
      "         accuracy                           0.77        43\n",
      "        macro avg       0.87      0.68      0.71        43\n",
      "     weighted avg       0.80      0.77      0.75        43\n",
      "\n",
      "[[ 6  1  0  0]\n",
      " [ 0 10  5  0]\n",
      " [ 0  1 16  0]\n",
      " [ 0  1  2  1]]\n",
      "\n",
      "------\n",
      "\n",
      "MLP\n",
      "0.8837209302325582\n",
      "                   precision    recall  f1-score   support\n",
      "\n",
      "       non-fictie       1.00      0.86      0.92         7\n",
      "           poëzie       0.86      0.80      0.83        15\n",
      "sec - letterkunde       0.85      1.00      0.92        17\n",
      "  sec - taalkunde       1.00      0.75      0.86         4\n",
      "\n",
      "         accuracy                           0.88        43\n",
      "        macro avg       0.93      0.85      0.88        43\n",
      "     weighted avg       0.89      0.88      0.88        43\n",
      "\n",
      "[[ 6  1  0  0]\n",
      " [ 0 12  3  0]\n",
      " [ 0  0 17  0]\n",
      " [ 0  1  0  3]]\n",
      "\n",
      "------\n",
      "\n"
     ]
    }
   ],
   "source": [
    "X_test_o_tfidf = tfidf_tr_o.transform(test_o)\n",
    "\n",
    "print(\"OCR\\n------\\n\")\n",
    "for cl in classifiers:\n",
    "    print(cl[0])\n",
    "    predicted = cl[2].predict(X_test_o_tfidf)\n",
    "    print(np.mean(predicted == labels_test_o))\n",
    "    print(metrics.classification_report(labels_test_o, predicted))\n",
    "    print(metrics.confusion_matrix(labels_test_o, predicted))\n",
    "    print(\"\\n------\\n\")"
   ]
  },
  {
   "cell_type": "markdown",
   "metadata": {},
   "source": [
    "---"
   ]
  },
  {
   "cell_type": "markdown",
   "metadata": {},
   "source": [
    "## PyTorch\n",
    "\n",
    "We here use a more advanced classifier based on neural networks, using PyTorch."
   ]
  },
  {
   "cell_type": "code",
   "execution_count": 208,
   "metadata": {},
   "outputs": [],
   "source": [
    "import torch\n",
    "import torchtext\n",
    "from torchtext import data"
   ]
  },
  {
   "cell_type": "code",
   "execution_count": 209,
   "metadata": {},
   "outputs": [],
   "source": [
    "# load data\n",
    "\n",
    "from torchtext.data import Field, LabelField\n",
    "\n",
    "tokenize = lambda x: x.split()\n",
    "TEXT_g = Field(sequential=True, tokenize=tokenize, lower=False)\n",
    "LABEL_g = LabelField(sequential=False)\n",
    "datafields_g = [(\"text\", TEXT_g), (\"label\", LABEL_g)]\n",
    "\n",
    "TEXT_o = Field(sequential=True, tokenize=tokenize, lower=False)\n",
    "LABEL_o = LabelField(sequential=False)\n",
    "datafields_o = [(\"text\", TEXT_o), (\"label\", LABEL_o)]\n",
    "\n",
    "torch_train_g, torch_test_g = data.TabularDataset.splits(\n",
    "               path=\"folder_classification\", # the root directory where the data lies\n",
    "               train='train_g.csv', validation=\"test_g.csv\",\n",
    "               format='csv',\n",
    "               skip_header=False,\n",
    "               fields=datafields_g)\n",
    "torch_train_o, torch_test_o = data.TabularDataset.splits(\n",
    "               path=\"folder_classification\", # the root directory where the data lies\n",
    "               train='train_o.csv', validation=\"test_o.csv\",\n",
    "               format='csv',\n",
    "               skip_header=False,\n",
    "               fields=datafields_o)"
   ]
  },
  {
   "cell_type": "code",
   "execution_count": 210,
   "metadata": {},
   "outputs": [],
   "source": [
    "# build vocabs\n",
    "TEXT_g.build_vocab(torch_train_g)\n",
    "TEXT_o.build_vocab(torch_train_o)\n",
    "LABEL_g.build_vocab(torch_train_g)\n",
    "LABEL_o.build_vocab(torch_train_o)"
   ]
  },
  {
   "cell_type": "code",
   "execution_count": 211,
   "metadata": {},
   "outputs": [
    {
     "data": {
      "text/plain": [
       "Counter({'sec - letterkunde': 86,\n",
       "         'poëzie': 40,\n",
       "         'non-fictie': 24,\n",
       "         'sec - taalkunde': 21})"
      ]
     },
     "execution_count": 211,
     "metadata": {},
     "output_type": "execute_result"
    }
   ],
   "source": [
    "LABEL_g.vocab.freqs"
   ]
  },
  {
   "cell_type": "code",
   "execution_count": 212,
   "metadata": {},
   "outputs": [
    {
     "data": {
      "text/plain": [
       "defaultdict(None,\n",
       "            {'sec - letterkunde': 0,\n",
       "             'poëzie': 1,\n",
       "             'non-fictie': 2,\n",
       "             'sec - taalkunde': 3})"
      ]
     },
     "execution_count": 212,
     "metadata": {},
     "output_type": "execute_result"
    }
   ],
   "source": [
    "LABEL_g.vocab.stoi"
   ]
  },
  {
   "cell_type": "code",
   "execution_count": 213,
   "metadata": {},
   "outputs": [
    {
     "data": {
      "text/plain": [
       "dict_keys(['text', 'label'])"
      ]
     },
     "execution_count": 213,
     "metadata": {},
     "output_type": "execute_result"
    }
   ],
   "source": [
    "torch_train_g[0].__dict__.keys()"
   ]
  },
  {
   "cell_type": "code",
   "execution_count": 214,
   "metadata": {},
   "outputs": [
    {
     "data": {
      "text/plain": [
       "'sec - letterkunde'"
      ]
     },
     "execution_count": 214,
     "metadata": {},
     "output_type": "execute_result"
    }
   ],
   "source": [
    "torch_train_g[0].label"
   ]
  },
  {
   "cell_type": "code",
   "execution_count": 215,
   "metadata": {},
   "outputs": [
    {
     "data": {
      "text/plain": [
       "['boekbeschouwing',\n",
       " 'voorlezingen',\n",
       " 'geschiedenis',\n",
       " 'opvoeding',\n",
       " 'des',\n",
       " 'menschdoms',\n",
       " 'god',\n",
       " 'komst',\n",
       " 'jezus',\n",
       " 'christus']"
      ]
     },
     "execution_count": 215,
     "metadata": {},
     "output_type": "execute_result"
    }
   ],
   "source": [
    "torch_train_g[0].text[:10]"
   ]
  },
  {
   "cell_type": "code",
   "execution_count": 216,
   "metadata": {},
   "outputs": [],
   "source": [
    "# define model\n",
    "# This one is largely taken from: https://pytorch.org/tutorials/beginner/text_sentiment_ngrams_tutorial.html\n",
    "\n",
    "import torch.nn as nn\n",
    "import torch.nn.functional as F\n",
    "\n",
    "class TextClass(nn.Module):\n",
    "    def __init__(self, vocab_size, embed_dim, num_class):\n",
    "        super().__init__()\n",
    "        self.embedding = nn.EmbeddingBag(vocab_size, embed_dim, sparse=False) # embedding bag + linear layer method. With sparese=True we need to use SparseAdam below\n",
    "        self.fc = nn.Linear(embed_dim, num_class)\n",
    "        self.init_weights()\n",
    "\n",
    "    def init_weights(self):\n",
    "        initrange = 0.5\n",
    "        self.embedding.weight.data.uniform_(-initrange, initrange)\n",
    "        self.fc.weight.data.uniform_(-initrange, initrange)\n",
    "        self.fc.bias.data.zero_()\n",
    "\n",
    "    def forward(self, text):\n",
    "        embedded = self.embedding(text.permute(1, 0))\n",
    "        preds = self.fc(embedded)\n",
    "        #preds = F.log_softmax(preds, dim=-1) #NB to be removed for some losses!\n",
    "        return preds\n",
    "\n",
    "# from: https://mlexplained.com/2018/02/08/a-comprehensive-tutorial-to-torchtext/\n",
    "class SimpleLSTMBaseline(nn.Module):\n",
    "    def __init__(self, vocab_size, hidden_dim, emb_dim, num_class, num_linear=1):\n",
    "        super().__init__()\n",
    "        self.embedding = nn.Embedding(vocab_size, emb_dim)\n",
    "        self.encoder = nn.LSTM(emb_dim, hidden_dim, num_layers=1)\n",
    "        self.linear_layers = []\n",
    "        for _ in range(num_linear - 1):\n",
    "            self.linear_layers.append(nn.Linear(hidden_dim, hidden_dim))\n",
    "            self.linear_layers = nn.ModuleList(self.linear_layers)\n",
    "        self.fc = nn.Linear(hidden_dim, num_class)\n",
    "        self.init_weights()\n",
    "\n",
    "    def init_weights(self):\n",
    "        initrange = 0.5\n",
    "        self.embedding.weight.data.uniform_(-initrange, initrange)\n",
    "        self.fc.weight.data.uniform_(-initrange, initrange)\n",
    "        self.fc.bias.data.zero_()\n",
    "\n",
    "    def forward(self, seq):\n",
    "        hdn, _ = self.encoder(self.embedding(seq))\n",
    "        feature = hdn[-1, :, :]\n",
    "        for layer in self.linear_layers:\n",
    "            feature = layer(feature)\n",
    "        preds = self.fc(feature)\n",
    "        #preds = F.log_softmax(preds, dim=-1) #NB to be removed for some losses!\n",
    "        return preds"
   ]
  },
  {
   "cell_type": "code",
   "execution_count": 217,
   "metadata": {},
   "outputs": [],
   "source": [
    "BATCH_SIZE = 15\n",
    "device = torch.device(\"cuda\" if torch.cuda.is_available() else \"cpu\")"
   ]
  },
  {
   "cell_type": "markdown",
   "metadata": {},
   "source": [
    "#### Train and test\n",
    "\n",
    "Choose here which version of the dataset to use."
   ]
  },
  {
   "cell_type": "code",
   "execution_count": 249,
   "metadata": {},
   "outputs": [],
   "source": [
    "WHICH_DATASET = \"ground\" # \"ocr\" \"ground\"\n",
    "VOCAB_SIZE = len(TEXT_g.vocab)\n",
    "if WHICH_DATASET == \"ocr\":\n",
    "    VOCAB_SIZE = len(TEXT_o.vocab)\n",
    "EMBED_DIM = 128\n",
    "HIDDEN_DIM = 256\n",
    "NUM_CLASS = len(c)\n",
    "model = TextClass(VOCAB_SIZE, EMBED_DIM, NUM_CLASS).to(device)"
   ]
  },
  {
   "cell_type": "code",
   "execution_count": 250,
   "metadata": {},
   "outputs": [
    {
     "data": {
      "text/plain": [
       "Counter({'sec - letterkunde': 103,\n",
       "         'sec - taalkunde': 25,\n",
       "         'non-fictie': 31,\n",
       "         'poëzie': 55})"
      ]
     },
     "execution_count": 250,
     "metadata": {},
     "output_type": "execute_result"
    }
   ],
   "source": [
    "c"
   ]
  },
  {
   "cell_type": "code",
   "execution_count": 251,
   "metadata": {},
   "outputs": [
    {
     "data": {
      "text/plain": [
       "4"
      ]
     },
     "execution_count": 251,
     "metadata": {},
     "output_type": "execute_result"
    }
   ],
   "source": [
    "NUM_CLASS"
   ]
  },
  {
   "cell_type": "code",
   "execution_count": 252,
   "metadata": {},
   "outputs": [],
   "source": [
    "# iterators\n",
    "# largely from: https://mlexplained.com/2018/02/08/a-comprehensive-tutorial-to-torchtext/\n",
    "\n",
    "from torchtext.data import Iterator, BucketIterator\n",
    "\n",
    "train_g_iter, test_g_iter = BucketIterator.splits(\n",
    "    (torch_train_g, torch_test_g), # we pass in the datasets we want the iterator to draw data from\n",
    "    batch_sizes=(BATCH_SIZE, BATCH_SIZE),\n",
    "    device=device, # if you want to use the GPU, specify the GPU number here\n",
    "    sort_key=lambda x: len(x.text), # the BucketIterator needs to be told what function it should use to group the data.\n",
    "    sort_within_batch=False,\n",
    "    repeat=False # we pass repeat=False because we want to wrap this Iterator layer.\n",
    ")\n",
    "train_o_iter, test_o_iter = BucketIterator.splits(\n",
    "    (torch_train_o, torch_test_o), # we pass in the datasets we want the iterator to draw data from\n",
    "    batch_sizes=(BATCH_SIZE, BATCH_SIZE),\n",
    "    device=device, # if you want to use the GPU, specify the GPU number here\n",
    "    sort_key=lambda x: len(x.text), # the BucketIterator needs to be told what function it should use to group the data.\n",
    "    sort_within_batch=False,\n",
    "    repeat=False # we pass repeat=False because we want to wrap this Iterator layer.\n",
    ")"
   ]
  },
  {
   "cell_type": "code",
   "execution_count": 253,
   "metadata": {},
   "outputs": [],
   "source": [
    "batch_test = next(iter(train_g_iter))"
   ]
  },
  {
   "cell_type": "code",
   "execution_count": 254,
   "metadata": {},
   "outputs": [
    {
     "data": {
      "text/plain": [
       "tensor([[  4502,    229,   9844,  ...,    125,    127,   5385],\n",
       "        [   554,    582,  10197,  ...,    229,   1040,     25],\n",
       "        [ 26358,   1048,   2275,  ...,    582,    260,    514],\n",
       "        ...,\n",
       "        [     1,      1,      1,  ...,      1,      1,    928],\n",
       "        [     1,      1,      1,  ...,      1,      1,   9045],\n",
       "        [     1,      1,      1,  ...,      1,      1, 115133]])"
      ]
     },
     "execution_count": 254,
     "metadata": {},
     "output_type": "execute_result"
    }
   ],
   "source": [
    "batch_test.text"
   ]
  },
  {
   "cell_type": "code",
   "execution_count": 255,
   "metadata": {},
   "outputs": [
    {
     "data": {
      "text/plain": [
       "tensor([0, 0, 3, 2, 2, 2, 0, 1, 1, 0, 0, 0, 0, 1, 1])"
      ]
     },
     "execution_count": 255,
     "metadata": {},
     "output_type": "execute_result"
    }
   ],
   "source": [
    "batch_test.label"
   ]
  },
  {
   "cell_type": "code",
   "execution_count": 256,
   "metadata": {},
   "outputs": [],
   "source": [
    "class BatchWrapper:\n",
    "    def __init__(self, dl, x_var, y_var):\n",
    "        self.dl, self.x_var, self.y_var = dl, x_var, y_var # we pass in the list of attributes for x \n",
    "\n",
    "    def __iter__(self):\n",
    "        for batch in self.dl:\n",
    "            x = getattr(batch, self.x_var) # we assume only one input in this wrapper\n",
    "            y = getattr(batch, self.y_var)\n",
    "            \n",
    "            \"\"\"\n",
    "            if self.y_vars is not None: # we will concatenate y into a single tensor\n",
    "                y = torch.cat([getattr(batch, feat).unsqueeze(1) for feat in self.y_vars], dim=1).float()\n",
    "            else:\n",
    "                y = torch.zeros((1))\n",
    "            \"\"\"\n",
    "            \n",
    "            yield (x, y)\n",
    "\n",
    "    def __len__(self):\n",
    "        return len(self.dl)"
   ]
  },
  {
   "cell_type": "code",
   "execution_count": 257,
   "metadata": {},
   "outputs": [],
   "source": [
    "TRAIN_LEN = len(torch_train_g)\n",
    "TEST_LEN = len(torch_test_g)\n",
    "train_dl = BatchWrapper(train_g_iter, \"text\", \"label\")\n",
    "test_dl = BatchWrapper(test_g_iter, \"text\", \"label\")\n",
    "if WHICH_DATASET == \"ocr\":\n",
    "    TRAIN_LEN = len(torch_train_o)\n",
    "    TEST_LEN = len(torch_test_o)\n",
    "    train_dl = BatchWrapper(train_o_iter, \"text\", \"label\")\n",
    "    test_dl = BatchWrapper(test_o_iter, \"text\", \"label\")"
   ]
  },
  {
   "cell_type": "code",
   "execution_count": 258,
   "metadata": {
    "scrolled": false
   },
   "outputs": [
    {
     "data": {
      "application/vnd.jupyter.widget-view+json": {
       "model_id": "3c592c7d8abb4631b02ef19817b9e7c5",
       "version_major": 2,
       "version_minor": 0
      },
      "text/plain": [
       "  0%|          | 0/12 [00:00<?, ?it/s]"
      ]
     },
     "metadata": {},
     "output_type": "display_data"
    },
    {
     "name": "stdout",
     "output_type": "stream",
     "text": [
      "Epoch: 1, Training Loss: 0.0783, Validation Loss: 0.0693; Train acc: 0.5029, Validation acc: 0.4419.\n"
     ]
    },
    {
     "data": {
      "application/vnd.jupyter.widget-view+json": {
       "model_id": "ee6241db5b584933878593c1f072a9ef",
       "version_major": 2,
       "version_minor": 0
      },
      "text/plain": [
       "  0%|          | 0/12 [00:00<?, ?it/s]"
      ]
     },
     "metadata": {},
     "output_type": "display_data"
    },
    {
     "name": "stdout",
     "output_type": "stream",
     "text": [
      "Epoch: 2, Training Loss: 0.0452, Validation Loss: 0.0475; Train acc: 0.7485, Validation acc: 0.7674.\n"
     ]
    },
    {
     "data": {
      "application/vnd.jupyter.widget-view+json": {
       "model_id": "c603d1e6c97b46d7b37dc96618dda6a3",
       "version_major": 2,
       "version_minor": 0
      },
      "text/plain": [
       "  0%|          | 0/12 [00:00<?, ?it/s]"
      ]
     },
     "metadata": {},
     "output_type": "display_data"
    },
    {
     "name": "stdout",
     "output_type": "stream",
     "text": [
      "Epoch: 3, Training Loss: 0.0252, Validation Loss: 0.0363; Train acc: 0.9240, Validation acc: 0.7907.\n"
     ]
    },
    {
     "data": {
      "application/vnd.jupyter.widget-view+json": {
       "model_id": "350086da95014ba5a4f95a97607c7cfe",
       "version_major": 2,
       "version_minor": 0
      },
      "text/plain": [
       "  0%|          | 0/12 [00:00<?, ?it/s]"
      ]
     },
     "metadata": {},
     "output_type": "display_data"
    },
    {
     "name": "stdout",
     "output_type": "stream",
     "text": [
      "Epoch: 4, Training Loss: 0.0143, Validation Loss: 0.0326; Train acc: 0.9591, Validation acc: 0.8372.\n"
     ]
    },
    {
     "data": {
      "application/vnd.jupyter.widget-view+json": {
       "model_id": "a25aeaf88ca745b488b3ff87522824da",
       "version_major": 2,
       "version_minor": 0
      },
      "text/plain": [
       "  0%|          | 0/12 [00:00<?, ?it/s]"
      ]
     },
     "metadata": {},
     "output_type": "display_data"
    },
    {
     "name": "stdout",
     "output_type": "stream",
     "text": [
      "Epoch: 5, Training Loss: 0.0086, Validation Loss: 0.0300; Train acc: 0.9883, Validation acc: 0.8605.\n"
     ]
    },
    {
     "data": {
      "application/vnd.jupyter.widget-view+json": {
       "model_id": "8fc8c841b2554944b9a7516ac38c49e2",
       "version_major": 2,
       "version_minor": 0
      },
      "text/plain": [
       "  0%|          | 0/12 [00:00<?, ?it/s]"
      ]
     },
     "metadata": {},
     "output_type": "display_data"
    },
    {
     "name": "stdout",
     "output_type": "stream",
     "text": [
      "Epoch: 6, Training Loss: 0.0046, Validation Loss: 0.0311; Train acc: 0.9942, Validation acc: 0.8605.\n"
     ]
    },
    {
     "data": {
      "application/vnd.jupyter.widget-view+json": {
       "model_id": "4a099b5f43044ac0afb5833b41eb6121",
       "version_major": 2,
       "version_minor": 0
      },
      "text/plain": [
       "  0%|          | 0/12 [00:00<?, ?it/s]"
      ]
     },
     "metadata": {},
     "output_type": "display_data"
    },
    {
     "name": "stdout",
     "output_type": "stream",
     "text": [
      "Epoch: 7, Training Loss: 0.0029, Validation Loss: 0.0298; Train acc: 1.0000, Validation acc: 0.8605.\n"
     ]
    },
    {
     "data": {
      "application/vnd.jupyter.widget-view+json": {
       "model_id": "275926978a0141e2a909b43cc9756ba9",
       "version_major": 2,
       "version_minor": 0
      },
      "text/plain": [
       "  0%|          | 0/12 [00:00<?, ?it/s]"
      ]
     },
     "metadata": {},
     "output_type": "display_data"
    },
    {
     "name": "stdout",
     "output_type": "stream",
     "text": [
      "Epoch: 8, Training Loss: 0.0018, Validation Loss: 0.0303; Train acc: 1.0000, Validation acc: 0.8605.\n"
     ]
    },
    {
     "data": {
      "application/vnd.jupyter.widget-view+json": {
       "model_id": "0a5de1d8443a471885de65f2830e9af1",
       "version_major": 2,
       "version_minor": 0
      },
      "text/plain": [
       "  0%|          | 0/12 [00:00<?, ?it/s]"
      ]
     },
     "metadata": {},
     "output_type": "display_data"
    },
    {
     "name": "stdout",
     "output_type": "stream",
     "text": [
      "Epoch: 9, Training Loss: 0.0014, Validation Loss: 0.0299; Train acc: 1.0000, Validation acc: 0.8605.\n"
     ]
    },
    {
     "data": {
      "application/vnd.jupyter.widget-view+json": {
       "model_id": "81499ac4975441da8f11a24e6a572d61",
       "version_major": 2,
       "version_minor": 0
      },
      "text/plain": [
       "  0%|          | 0/12 [00:00<?, ?it/s]"
      ]
     },
     "metadata": {},
     "output_type": "display_data"
    },
    {
     "name": "stdout",
     "output_type": "stream",
     "text": [
      "Epoch: 10, Training Loss: 0.0011, Validation Loss: 0.0294; Train acc: 1.0000, Validation acc: 0.8605.\n"
     ]
    }
   ],
   "source": [
    "# train\n",
    "\n",
    "import tqdm\n",
    "import torch.optim as optim\n",
    "from torch.autograd import Variable\n",
    "\n",
    "opt = optim.Adam(model.parameters(), lr=1e-2)\n",
    "#loss_func = nn.BCEWithLogitsLoss()\n",
    "loss_func = nn.CrossEntropyLoss()\n",
    "#loss_func = nn.NLLLoss()\n",
    "\n",
    "epochs = 10\n",
    "\n",
    "for epoch in range(1, epochs + 1):\n",
    "    running_loss = 0.0\n",
    "    train_acc = 0.0\n",
    "    running_batch = 1\n",
    "    model.train() # turn on training mode\n",
    "    for x, y in tqdm.tqdm_notebook(train_dl): # thanks to our wrapper, we can intuitively iterate over our data!\n",
    "        opt.zero_grad()\n",
    "        #print(x.shape)\n",
    "\n",
    "        preds = model(x)\n",
    "        #print(preds.shape)\n",
    "        #print(y.view(-1,1).shape)\n",
    "        #print(y.view(-1,1).dtype)\n",
    "        #print(y.view(-1,1))\n",
    "        #print(preds)\n",
    "        loss = loss_func(preds,y)\n",
    "        loss.backward()\n",
    "        opt.step()\n",
    "\n",
    "        running_loss += loss.item()\n",
    "        train_acc += (preds.argmax(1) == y).sum().item()\n",
    "        #print('Batch Training loss: {:.4f}, Train acc: {:.4f}.'.format(loss.item(), train_acc / (BATCH_SIZE*running_batch)))\n",
    "        #running_loss += loss.data * x.size(0)\n",
    "        \n",
    "        running_batch += 1\n",
    "\n",
    "    epoch_loss = running_loss / TRAIN_LEN\n",
    "\n",
    "    # calculate the validation loss for this epoch\n",
    "    val_loss = 0.0\n",
    "    val_acc = 0.0\n",
    "    model.eval() # turn on evaluation mode\n",
    "    for x, y in test_dl:\n",
    "        preds = model(x)\n",
    "        #print(preds)\n",
    "        #print(y)\n",
    "        loss = loss_func(preds,y)\n",
    "        val_loss += loss.item()\n",
    "        val_acc += (preds.argmax(1) == y).sum().item()\n",
    "\n",
    "    val_loss /= TEST_LEN\n",
    "    print('Epoch: {}, Training Loss: {:.4f}, Validation Loss: {:.4f}; Train acc: {:.4f}, Validation acc: {:.4f}.'.format(epoch, epoch_loss, val_loss, train_acc/TRAIN_LEN, val_acc/TEST_LEN))"
   ]
  },
  {
   "cell_type": "code",
   "execution_count": null,
   "metadata": {},
   "outputs": [],
   "source": [
    "# OCR:\n",
    "# Epoch: 10, Training Loss: 0.0009, Validation Loss: 0.0251; Train acc: 1.0000, Validation acc: 0.9302.\n",
    "\n",
    "# Ground:\n",
    "# Epoch: 10, Training Loss: 0.0011, Validation Loss: 0.0294; Train acc: 1.0000, Validation acc: 0.8605."
   ]
  },
  {
   "cell_type": "markdown",
   "metadata": {},
   "source": [
    "---"
   ]
  },
  {
   "cell_type": "markdown",
   "metadata": {},
   "source": [
    "## Named Entity Recognition\n",
    "\n",
    "Work in progress on assessinng the overlap of a NER pipeline on the two versions of the dataset is here for future work."
   ]
  },
  {
   "cell_type": "code",
   "execution_count": 185,
   "metadata": {},
   "outputs": [],
   "source": [
    "nlp = spacy.load('nl')\n",
    "STOPWORDS = spacy.lang.nl.stop_words.STOP_WORDS\n",
    "STOPWORDS.add(\"eene\")"
   ]
  },
  {
   "cell_type": "code",
   "execution_count": 191,
   "metadata": {},
   "outputs": [
    {
     "name": "stdout",
     "output_type": "stream",
     "text": [
      "CPU times: user 31min 18s, sys: 8min 7s, total: 39min 26s\n",
      "Wall time: 25min 52s\n"
     ]
    }
   ],
   "source": [
    "%%time\n",
    "\n",
    "processed_ents_g = list()\n",
    "for doc in nlp.pipe(sample_ground, n_threads=5, batch_size=10):\n",
    "    processed_ents_g.append(doc.ents)\n",
    "processed_ents_o = list()\n",
    "for doc in nlp.pipe(sample_ocr, n_threads=5, batch_size=10):\n",
    "    processed_ents_o.append(doc.ents)"
   ]
  },
  {
   "cell_type": "markdown",
   "metadata": {},
   "source": [
    "#### Assess Jaccard coeff overlap\n",
    "* MACRO\n",
    "consider all ents together\n",
    "* MICRO\n",
    "consider all documents separately and then average\n",
    "* Surface and/or entity type\n",
    "* Consider repetitions or not"
   ]
  },
  {
   "cell_type": "code",
   "execution_count": 213,
   "metadata": {},
   "outputs": [],
   "source": [
    "def jaccard(a,b):\n",
    "    return len(set(a).intersection(set(b)))/len(set(a).union(set(b)))\n",
    "def left_jaccard(a,b):\n",
    "    return len(set(a).intersection(set(b)))/len(set(a))"
   ]
  },
  {
   "cell_type": "code",
   "execution_count": 214,
   "metadata": {},
   "outputs": [],
   "source": [
    "all_surfs_surface_g = [[e.text.strip() for e in doc] for doc in processed_ents_g]\n",
    "all_surfs_surface_o = [[e.text.strip() for e in doc] for doc in processed_ents_o]\n",
    "all_ents_surface_g = [[e.text.strip() +\"-\"+ e.label_ for e in doc] for doc in processed_ents_g]\n",
    "all_ents_surface_o = [[e.text.strip() +\"-\"+ e.label_ for e in doc] for doc in processed_ents_o]"
   ]
  },
  {
   "cell_type": "code",
   "execution_count": 215,
   "metadata": {},
   "outputs": [
    {
     "data": {
      "text/plain": [
       "\"SEM1N\\t9\\n(\\tSIS)\\ns..\\n\\x0cB OEKBESCHOUWI ' ,\\nvOOR\\n1 8 US.\\n\\x0c\\n\\x0cV AD ERLAND SCFIE\\nLETTEROEFENINGEN , \\nor\\nTIJ D SCHR IF T\\nVAN\\nKUNSTEN EN WETENSCHAPPFN,\\nWAARIN DR\\nBOEKEN EN SCHRIFTEN,\\nDIE DAGELIJKS IN ONS VADERL\""
      ]
     },
     "execution_count": 215,
     "metadata": {},
     "output_type": "execute_result"
    }
   ],
   "source": [
    "sample_ocr[0][:200]"
   ]
  },
  {
   "cell_type": "code",
   "execution_count": 216,
   "metadata": {},
   "outputs": [
    {
     "data": {
      "text/plain": [
       "['SEM1N\\t9-LOC',\n",
       " 'SIS-LOC',\n",
       " 's..\\n\\x0cB-ORG',\n",
       " 'vOOR-ORG',\n",
       " 'US-LOC',\n",
       " 'AD ERLAND-MISC',\n",
       " 'SCFIE-ORG',\n",
       " 'LETTEROEFENINGEN-ORG',\n",
       " 'or-ORG',\n",
       " 'TIJ D-MISC']"
      ]
     },
     "execution_count": 216,
     "metadata": {},
     "output_type": "execute_result"
    }
   ],
   "source": [
    "all_ents_surface_o[0][:10]"
   ]
  },
  {
   "cell_type": "code",
   "execution_count": 217,
   "metadata": {},
   "outputs": [
    {
     "data": {
      "text/plain": [
       "['SEM1N\\t9',\n",
       " 'SIS',\n",
       " 's..\\n\\x0cB',\n",
       " 'vOOR',\n",
       " 'US',\n",
       " 'AD ERLAND',\n",
       " 'SCFIE',\n",
       " 'LETTEROEFENINGEN',\n",
       " 'or',\n",
       " 'TIJ D']"
      ]
     },
     "execution_count": 217,
     "metadata": {},
     "output_type": "execute_result"
    }
   ],
   "source": [
    "all_surfs_surface_o[0][:10]"
   ]
  },
  {
   "cell_type": "code",
   "execution_count": 207,
   "metadata": {},
   "outputs": [],
   "source": [
    "# per document and overall\n",
    "jaccard_surf_doc = list()\n",
    "jaccard_ent_doc = list()\n",
    "for doc_g,doc_o in zip(all_surfs_surface_g,all_surfs_surface_o):\n",
    "    jac = jaccard(doc_g,doc_o)\n",
    "    jaccard_surf_doc.append(jac)\n",
    "for doc_g,doc_o in zip(all_ents_surface_g,all_ents_surface_o):\n",
    "    jac = jaccard(doc_g,doc_o)\n",
    "    jaccard_ent_doc.append(jac)\n",
    "    \n",
    "jaccard_surf = jaccard([e for doc_g in all_surfs_surface_g for e in doc_g],[e for doc_o in all_surfs_surface_o for e in doc_o])\n",
    "jaccard_ent = jaccard([e for doc_g in all_ents_surface_g for e in doc_g],[e for doc_o in all_ents_surface_o for e in doc_o])"
   ]
  },
  {
   "cell_type": "code",
   "execution_count": 208,
   "metadata": {},
   "outputs": [
    {
     "data": {
      "text/plain": [
       "0.2332332873219926"
      ]
     },
     "execution_count": 208,
     "metadata": {},
     "output_type": "execute_result"
    }
   ],
   "source": [
    "jaccard_surf"
   ]
  },
  {
   "cell_type": "code",
   "execution_count": 209,
   "metadata": {},
   "outputs": [
    {
     "data": {
      "text/plain": [
       "0.20393713784326162"
      ]
     },
     "execution_count": 209,
     "metadata": {},
     "output_type": "execute_result"
    }
   ],
   "source": [
    "jaccard_ent"
   ]
  },
  {
   "cell_type": "code",
   "execution_count": 211,
   "metadata": {},
   "outputs": [
    {
     "data": {
      "text/plain": [
       "0.2912726467613969"
      ]
     },
     "execution_count": 211,
     "metadata": {},
     "output_type": "execute_result"
    }
   ],
   "source": [
    "np.mean(jaccard_surf_doc)"
   ]
  },
  {
   "cell_type": "code",
   "execution_count": 212,
   "metadata": {
    "scrolled": true
   },
   "outputs": [
    {
     "data": {
      "text/plain": [
       "0.2364678732298048"
      ]
     },
     "execution_count": 212,
     "metadata": {},
     "output_type": "execute_result"
    }
   ],
   "source": [
    "np.mean(jaccard_ent_doc)"
   ]
  },
  {
   "cell_type": "code",
   "execution_count": 218,
   "metadata": {},
   "outputs": [],
   "source": [
    "# per document and overall\n",
    "jaccard_surf_doc = list()\n",
    "jaccard_ent_doc = list()\n",
    "for doc_g,doc_o in zip(all_surfs_surface_g,all_surfs_surface_o):\n",
    "    jac = left_jaccard(doc_g,doc_o)\n",
    "    jaccard_surf_doc.append(jac)\n",
    "for doc_g,doc_o in zip(all_ents_surface_g,all_ents_surface_o):\n",
    "    jac = left_jaccard(doc_g,doc_o)\n",
    "    jaccard_ent_doc.append(jac)\n",
    "    \n",
    "jaccard_surf = left_jaccard([e for doc_g in all_surfs_surface_g for e in doc_g],[e for doc_o in all_surfs_surface_o for e in doc_o])\n",
    "jaccard_ent = left_jaccard([e for doc_g in all_ents_surface_g for e in doc_g],[e for doc_o in all_ents_surface_o for e in doc_o])"
   ]
  },
  {
   "cell_type": "code",
   "execution_count": 219,
   "metadata": {},
   "outputs": [
    {
     "data": {
      "text/plain": [
       "0.4424729278884685"
      ]
     },
     "execution_count": 219,
     "metadata": {},
     "output_type": "execute_result"
    }
   ],
   "source": [
    "jaccard_surf"
   ]
  },
  {
   "cell_type": "code",
   "execution_count": 220,
   "metadata": {},
   "outputs": [
    {
     "data": {
      "text/plain": [
       "0.39325560357824907"
      ]
     },
     "execution_count": 220,
     "metadata": {},
     "output_type": "execute_result"
    }
   ],
   "source": [
    "jaccard_ent"
   ]
  },
  {
   "cell_type": "code",
   "execution_count": 221,
   "metadata": {},
   "outputs": [
    {
     "data": {
      "text/plain": [
       "0.48417520584959933"
      ]
     },
     "execution_count": 221,
     "metadata": {},
     "output_type": "execute_result"
    }
   ],
   "source": [
    "np.mean(jaccard_surf_doc)"
   ]
  },
  {
   "cell_type": "code",
   "execution_count": 222,
   "metadata": {},
   "outputs": [
    {
     "data": {
      "text/plain": [
       "0.40832415499910385"
      ]
     },
     "execution_count": 222,
     "metadata": {},
     "output_type": "execute_result"
    }
   ],
   "source": [
    "np.mean(jaccard_ent_doc)"
   ]
  },
  {
   "cell_type": "markdown",
   "metadata": {},
   "source": [
    "---"
   ]
  }
 ],
 "metadata": {
  "kernelspec": {
   "display_name": "Python 3",
   "language": "python",
   "name": "python3"
  },
  "language_info": {
   "codemirror_mode": {
    "name": "ipython",
    "version": 3
   },
   "file_extension": ".py",
   "mimetype": "text/x-python",
   "name": "python",
   "nbconvert_exporter": "python",
   "pygments_lexer": "ipython3",
   "version": "3.7.9"
  }
 },
 "nbformat": 4,
 "nbformat_minor": 2
}
