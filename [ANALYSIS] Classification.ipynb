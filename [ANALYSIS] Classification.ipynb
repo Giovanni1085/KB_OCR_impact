{
 "cells": [
  {
   "cell_type": "markdown",
   "metadata": {},
   "source": [
    "# Classification"
   ]
  },
  {
   "cell_type": "code",
   "execution_count": 1,
   "metadata": {},
   "outputs": [],
   "source": [
    "from glob import glob\n",
    "import jellyfish\n",
    "import numpy as np\n",
    "import os, codecs, re\n",
    "from tqdm import tqdm\n",
    "import pandas as pd\n",
    "from bs4 import BeautifulSoup"
   ]
  },
  {
   "cell_type": "code",
   "execution_count": 2,
   "metadata": {},
   "outputs": [],
   "source": [
    "%matplotlib inline\n",
    "import matplotlib.pyplot as plt\n",
    "\n",
    "# magics and warnings\n",
    "%load_ext autoreload\n",
    "%autoreload 2\n",
    "import warnings; warnings.simplefilter('ignore')\n",
    "\n",
    "import os, random\n",
    "from tqdm import tqdm\n",
    "import pandas as pd\n",
    "import numpy as np\n",
    "\n",
    "seed = 99\n",
    "random.seed(seed)\n",
    "np.random.seed(seed)\n",
    "\n",
    "import nltk, gensim, sklearn, spacy\n",
    "import matplotlib.pyplot as plt\n",
    "import seaborn as sns\n",
    "sns.set(style=\"white\")\n",
    "sns.set_context(\"notebook\", font_scale=1.2, rc={\"lines.linewidth\": 2.5})"
   ]
  },
  {
   "cell_type": "code",
   "execution_count": 3,
   "metadata": {},
   "outputs": [],
   "source": [
    "df = pd.read_csv(\"data_frames/full_df_DBNL_OCR.csv\", compression=\"gzip\")"
   ]
  },
  {
   "cell_type": "code",
   "execution_count": 4,
   "metadata": {},
   "outputs": [
    {
     "data": {
      "text/html": [
       "<div>\n",
       "<style scoped>\n",
       "    .dataframe tbody tr th:only-of-type {\n",
       "        vertical-align: middle;\n",
       "    }\n",
       "\n",
       "    .dataframe tbody tr th {\n",
       "        vertical-align: top;\n",
       "    }\n",
       "\n",
       "    .dataframe thead th {\n",
       "        text-align: right;\n",
       "    }\n",
       "</style>\n",
       "<table border=\"1\" class=\"dataframe\">\n",
       "  <thead>\n",
       "    <tr style=\"text-align: right;\">\n",
       "      <th></th>\n",
       "      <th>filename</th>\n",
       "      <th>text_ground</th>\n",
       "      <th>genre</th>\n",
       "      <th>subgenre</th>\n",
       "      <th>text_ocr</th>\n",
       "      <th>title</th>\n",
       "      <th>year</th>\n",
       "      <th>edition</th>\n",
       "    </tr>\n",
       "  </thead>\n",
       "  <tbody>\n",
       "    <tr>\n",
       "      <th>0</th>\n",
       "      <td>_vad003182501</td>\n",
       "      <td>\\n\\n\\n\\n\\n\\nBoekbeschouwing.\\nDe gemoedsgestel...</td>\n",
       "      <td>sec - letterkunde,non-fictie</td>\n",
       "      <td>tijdschrift / jaarboek</td>\n",
       "      <td>SEM1N\\t9\\n(\\tSIS)\\ns..\\n\f",
       "B OEKBESCHOUWI ' ,\\nv...</td>\n",
       "      <td>Vaderlandsche letteroefeningen. Jaargang 1825</td>\n",
       "      <td>1825</td>\n",
       "      <td>1ste druk</td>\n",
       "    </tr>\n",
       "    <tr>\n",
       "      <th>1</th>\n",
       "      <td>_vad003182401</td>\n",
       "      <td>\\n\\n\\n\\n\\n\\nBoekbeschouwing.\\nMijne Gronden vo...</td>\n",
       "      <td>sec - letterkunde,non-fictie</td>\n",
       "      <td>tijdschrift / jaarboek</td>\n",
       "      <td>\\n\\nBOIKBESCHOUWING \\n\\nVOOR \\ni824. \\n\\n\\nVAR...</td>\n",
       "      <td>Vaderlandsche letteroefeningen. Jaargang 1824</td>\n",
       "      <td>1824</td>\n",
       "      <td>1ste druk</td>\n",
       "    </tr>\n",
       "    <tr>\n",
       "      <th>2</th>\n",
       "      <td>_taa001taal01</td>\n",
       "      <td>\\n\\n\\n\\n\\nVoorbericht.\\nIndien de waarde eener...</td>\n",
       "      <td>sec - taalkunde</td>\n",
       "      <td>tijdschrift / jaarboek</td>\n",
       "      <td>﻿D ETA ALG I D S.\\r\\n\\r\\nD ETA ALG I D S.\\r\\nT...</td>\n",
       "      <td>De Taalgids. Jaargang 1</td>\n",
       "      <td>1859</td>\n",
       "      <td>1ste druk</td>\n",
       "    </tr>\n",
       "    <tr>\n",
       "      <th>3</th>\n",
       "      <td>_vad003179201</td>\n",
       "      <td>\\n\\n\\n\\n\\n\\nAlgemeene Vaderlandsche Letter-oef...</td>\n",
       "      <td>sec - letterkunde,non-fictie</td>\n",
       "      <td>tijdschrift / jaarboek</td>\n",
       "      <td>LETTEROEFENINGEN\\r\\n-\\r\\n\\r\\nv 0 0 R \\r\\n1 792...</td>\n",
       "      <td>Vaderlandsche letteroefeningen. Jaargang 1792</td>\n",
       "      <td>1792</td>\n",
       "      <td>1ste druk</td>\n",
       "    </tr>\n",
       "    <tr>\n",
       "      <th>4</th>\n",
       "      <td>_vad003179301</td>\n",
       "      <td>\\n\\n\\n\\n\\n\\nAlgemeene Vaderlandsche Letter-oef...</td>\n",
       "      <td>sec - letterkunde,non-fictie</td>\n",
       "      <td>tijdschrift / jaarboek</td>\n",
       "      <td>LETTER -OEFENINGEN \\r\\n\\r\\n\\r\\nVOOR \\r\\n\\r\\n79...</td>\n",
       "      <td>Vaderlandsche letteroefeningen. Jaargang 1793</td>\n",
       "      <td>1793</td>\n",
       "      <td>1ste druk</td>\n",
       "    </tr>\n",
       "  </tbody>\n",
       "</table>\n",
       "</div>"
      ],
      "text/plain": [
       "        filename                                        text_ground  \\\n",
       "0  _vad003182501  \\n\\n\\n\\n\\n\\nBoekbeschouwing.\\nDe gemoedsgestel...   \n",
       "1  _vad003182401  \\n\\n\\n\\n\\n\\nBoekbeschouwing.\\nMijne Gronden vo...   \n",
       "2  _taa001taal01  \\n\\n\\n\\n\\nVoorbericht.\\nIndien de waarde eener...   \n",
       "3  _vad003179201  \\n\\n\\n\\n\\n\\nAlgemeene Vaderlandsche Letter-oef...   \n",
       "4  _vad003179301  \\n\\n\\n\\n\\n\\nAlgemeene Vaderlandsche Letter-oef...   \n",
       "\n",
       "                          genre                subgenre  \\\n",
       "0  sec - letterkunde,non-fictie  tijdschrift / jaarboek   \n",
       "1  sec - letterkunde,non-fictie  tijdschrift / jaarboek   \n",
       "2               sec - taalkunde  tijdschrift / jaarboek   \n",
       "3  sec - letterkunde,non-fictie  tijdschrift / jaarboek   \n",
       "4  sec - letterkunde,non-fictie  tijdschrift / jaarboek   \n",
       "\n",
       "                                            text_ocr  \\\n",
       "0  SEM1N\\t9\\n(\\tSIS)\\ns..\\n\n",
       "B OEKBESCHOUWI ' ,\\nv...   \n",
       "1  \\n\\nBOIKBESCHOUWING \\n\\nVOOR \\ni824. \\n\\n\\nVAR...   \n",
       "2  ﻿D ETA ALG I D S.\\r\\n\\r\\nD ETA ALG I D S.\\r\\nT...   \n",
       "3  LETTEROEFENINGEN\\r\\n-\\r\\n\\r\\nv 0 0 R \\r\\n1 792...   \n",
       "4  LETTER -OEFENINGEN \\r\\n\\r\\n\\r\\nVOOR \\r\\n\\r\\n79...   \n",
       "\n",
       "                                           title  year    edition  \n",
       "0  Vaderlandsche letteroefeningen. Jaargang 1825  1825  1ste druk  \n",
       "1  Vaderlandsche letteroefeningen. Jaargang 1824  1824  1ste druk  \n",
       "2                        De Taalgids. Jaargang 1  1859  1ste druk  \n",
       "3  Vaderlandsche letteroefeningen. Jaargang 1792  1792  1ste druk  \n",
       "4  Vaderlandsche letteroefeningen. Jaargang 1793  1793  1ste druk  "
      ]
     },
     "execution_count": 4,
     "metadata": {},
     "output_type": "execute_result"
    }
   ],
   "source": [
    "df.head()"
   ]
  },
  {
   "cell_type": "code",
   "execution_count": 5,
   "metadata": {},
   "outputs": [
    {
     "data": {
      "text/plain": [
       "sec - letterkunde,non-fictie         77\n",
       "poëzie                               46\n",
       "non-fictie                           31\n",
       "sec - taalkunde                      25\n",
       "proza,sec - letterkunde              17\n",
       "proza                                 9\n",
       "proza,poëzie,non-fictie               5\n",
       "sec - letterkunde                     3\n",
       "poëzie,jeugdliteratuur                2\n",
       "poëzie,sec - letterkunde              2\n",
       "sec - letterkunde,jeugdliteratuur     1\n",
       "proza,drama                           1\n",
       "Name: genre, dtype: int64"
      ]
     },
     "execution_count": 5,
     "metadata": {},
     "output_type": "execute_result"
    }
   ],
   "source": [
    "df[\"genre\"].value_counts()"
   ]
  },
  {
   "cell_type": "code",
   "execution_count": 6,
   "metadata": {},
   "outputs": [],
   "source": [
    "def consolidate_classes(original_class):\n",
    "    \"Put together the main classes\"\n",
    "    \n",
    "    if original_class in [\"sec - letterkunde,non-fictie\",\"proza,sec - letterkunde\",\"proza\"]:\n",
    "        return \"sec - letterkunde\"\n",
    "    elif \"poëzie\" in original_class:\n",
    "        return \"poëzie\"\n",
    "    elif original_class == \"sec - taalkunde\":\n",
    "        return \"sec - taalkunde\"\n",
    "    elif original_class == \"non-fictie\":\n",
    "        return \"non-fictie\"\n",
    "    return np.nan"
   ]
  },
  {
   "cell_type": "code",
   "execution_count": 9,
   "metadata": {},
   "outputs": [
    {
     "name": "stdout",
     "output_type": "stream",
     "text": [
      "CPU times: user 2.61 ms, sys: 278 µs, total: 2.89 ms\n",
      "Wall time: 2.92 ms\n"
     ]
    },
    {
     "data": {
      "text/plain": [
       "869"
      ]
     },
     "execution_count": 9,
     "metadata": {},
     "output_type": "execute_result"
    }
   ],
   "source": [
    "%%time\n",
    "jellyfish.levenshtein_distance(df[\"text_ground\"].values[0][:1000],df[\"text_ocr\"].values[0][:1000])"
   ]
  },
  {
   "cell_type": "code",
   "execution_count": null,
   "metadata": {},
   "outputs": [],
   "source": [
    "#TODO: add a distance to get an idea of OCR quality. Note there is a mismatch at the beginning of the texts."
   ]
  },
  {
   "cell_type": "code",
   "execution_count": null,
   "metadata": {},
   "outputs": [],
   "source": []
  },
  {
   "cell_type": "code",
   "execution_count": 9,
   "metadata": {},
   "outputs": [],
   "source": [
    "df[\"consolidated_genre\"] = df[\"genre\"].apply(consolidate_classes)"
   ]
  },
  {
   "cell_type": "code",
   "execution_count": 10,
   "metadata": {},
   "outputs": [
    {
     "data": {
      "text/html": [
       "<div>\n",
       "<style scoped>\n",
       "    .dataframe tbody tr th:only-of-type {\n",
       "        vertical-align: middle;\n",
       "    }\n",
       "\n",
       "    .dataframe tbody tr th {\n",
       "        vertical-align: top;\n",
       "    }\n",
       "\n",
       "    .dataframe thead th {\n",
       "        text-align: right;\n",
       "    }\n",
       "</style>\n",
       "<table border=\"1\" class=\"dataframe\">\n",
       "  <thead>\n",
       "    <tr style=\"text-align: right;\">\n",
       "      <th></th>\n",
       "      <th>filename</th>\n",
       "      <th>text_ground</th>\n",
       "      <th>genre</th>\n",
       "      <th>subgenre</th>\n",
       "      <th>text_ocr</th>\n",
       "      <th>title</th>\n",
       "      <th>year</th>\n",
       "      <th>edition</th>\n",
       "      <th>consolidated_genre</th>\n",
       "    </tr>\n",
       "  </thead>\n",
       "  <tbody>\n",
       "    <tr>\n",
       "      <th>0</th>\n",
       "      <td>_vad003182501</td>\n",
       "      <td>\\n\\n\\n\\n\\n\\nBoekbeschouwing.\\nDe gemoedsgestel...</td>\n",
       "      <td>sec - letterkunde,non-fictie</td>\n",
       "      <td>tijdschrift / jaarboek</td>\n",
       "      <td>SEM1N\\t9\\n(\\tSIS)\\ns..\\n\f",
       "B OEKBESCHOUWI ' ,\\nv...</td>\n",
       "      <td>Vaderlandsche letteroefeningen. Jaargang 1825</td>\n",
       "      <td>1825</td>\n",
       "      <td>1ste druk</td>\n",
       "      <td>sec - letterkunde</td>\n",
       "    </tr>\n",
       "    <tr>\n",
       "      <th>1</th>\n",
       "      <td>_vad003182401</td>\n",
       "      <td>\\n\\n\\n\\n\\n\\nBoekbeschouwing.\\nMijne Gronden vo...</td>\n",
       "      <td>sec - letterkunde,non-fictie</td>\n",
       "      <td>tijdschrift / jaarboek</td>\n",
       "      <td>\\n\\nBOIKBESCHOUWING \\n\\nVOOR \\ni824. \\n\\n\\nVAR...</td>\n",
       "      <td>Vaderlandsche letteroefeningen. Jaargang 1824</td>\n",
       "      <td>1824</td>\n",
       "      <td>1ste druk</td>\n",
       "      <td>sec - letterkunde</td>\n",
       "    </tr>\n",
       "    <tr>\n",
       "      <th>2</th>\n",
       "      <td>_taa001taal01</td>\n",
       "      <td>\\n\\n\\n\\n\\nVoorbericht.\\nIndien de waarde eener...</td>\n",
       "      <td>sec - taalkunde</td>\n",
       "      <td>tijdschrift / jaarboek</td>\n",
       "      <td>﻿D ETA ALG I D S.\\r\\n\\r\\nD ETA ALG I D S.\\r\\nT...</td>\n",
       "      <td>De Taalgids. Jaargang 1</td>\n",
       "      <td>1859</td>\n",
       "      <td>1ste druk</td>\n",
       "      <td>sec - taalkunde</td>\n",
       "    </tr>\n",
       "    <tr>\n",
       "      <th>3</th>\n",
       "      <td>_vad003179201</td>\n",
       "      <td>\\n\\n\\n\\n\\n\\nAlgemeene Vaderlandsche Letter-oef...</td>\n",
       "      <td>sec - letterkunde,non-fictie</td>\n",
       "      <td>tijdschrift / jaarboek</td>\n",
       "      <td>LETTEROEFENINGEN\\r\\n-\\r\\n\\r\\nv 0 0 R \\r\\n1 792...</td>\n",
       "      <td>Vaderlandsche letteroefeningen. Jaargang 1792</td>\n",
       "      <td>1792</td>\n",
       "      <td>1ste druk</td>\n",
       "      <td>sec - letterkunde</td>\n",
       "    </tr>\n",
       "    <tr>\n",
       "      <th>4</th>\n",
       "      <td>_vad003179301</td>\n",
       "      <td>\\n\\n\\n\\n\\n\\nAlgemeene Vaderlandsche Letter-oef...</td>\n",
       "      <td>sec - letterkunde,non-fictie</td>\n",
       "      <td>tijdschrift / jaarboek</td>\n",
       "      <td>LETTER -OEFENINGEN \\r\\n\\r\\n\\r\\nVOOR \\r\\n\\r\\n79...</td>\n",
       "      <td>Vaderlandsche letteroefeningen. Jaargang 1793</td>\n",
       "      <td>1793</td>\n",
       "      <td>1ste druk</td>\n",
       "      <td>sec - letterkunde</td>\n",
       "    </tr>\n",
       "  </tbody>\n",
       "</table>\n",
       "</div>"
      ],
      "text/plain": [
       "        filename                                        text_ground  \\\n",
       "0  _vad003182501  \\n\\n\\n\\n\\n\\nBoekbeschouwing.\\nDe gemoedsgestel...   \n",
       "1  _vad003182401  \\n\\n\\n\\n\\n\\nBoekbeschouwing.\\nMijne Gronden vo...   \n",
       "2  _taa001taal01  \\n\\n\\n\\n\\nVoorbericht.\\nIndien de waarde eener...   \n",
       "3  _vad003179201  \\n\\n\\n\\n\\n\\nAlgemeene Vaderlandsche Letter-oef...   \n",
       "4  _vad003179301  \\n\\n\\n\\n\\n\\nAlgemeene Vaderlandsche Letter-oef...   \n",
       "\n",
       "                          genre                subgenre  \\\n",
       "0  sec - letterkunde,non-fictie  tijdschrift / jaarboek   \n",
       "1  sec - letterkunde,non-fictie  tijdschrift / jaarboek   \n",
       "2               sec - taalkunde  tijdschrift / jaarboek   \n",
       "3  sec - letterkunde,non-fictie  tijdschrift / jaarboek   \n",
       "4  sec - letterkunde,non-fictie  tijdschrift / jaarboek   \n",
       "\n",
       "                                            text_ocr  \\\n",
       "0  SEM1N\\t9\\n(\\tSIS)\\ns..\\n\n",
       "B OEKBESCHOUWI ' ,\\nv...   \n",
       "1  \\n\\nBOIKBESCHOUWING \\n\\nVOOR \\ni824. \\n\\n\\nVAR...   \n",
       "2  ﻿D ETA ALG I D S.\\r\\n\\r\\nD ETA ALG I D S.\\r\\nT...   \n",
       "3  LETTEROEFENINGEN\\r\\n-\\r\\n\\r\\nv 0 0 R \\r\\n1 792...   \n",
       "4  LETTER -OEFENINGEN \\r\\n\\r\\n\\r\\nVOOR \\r\\n\\r\\n79...   \n",
       "\n",
       "                                           title  year    edition  \\\n",
       "0  Vaderlandsche letteroefeningen. Jaargang 1825  1825  1ste druk   \n",
       "1  Vaderlandsche letteroefeningen. Jaargang 1824  1824  1ste druk   \n",
       "2                        De Taalgids. Jaargang 1  1859  1ste druk   \n",
       "3  Vaderlandsche letteroefeningen. Jaargang 1792  1792  1ste druk   \n",
       "4  Vaderlandsche letteroefeningen. Jaargang 1793  1793  1ste druk   \n",
       "\n",
       "  consolidated_genre  \n",
       "0  sec - letterkunde  \n",
       "1  sec - letterkunde  \n",
       "2    sec - taalkunde  \n",
       "3  sec - letterkunde  \n",
       "4  sec - letterkunde  "
      ]
     },
     "execution_count": 10,
     "metadata": {},
     "output_type": "execute_result"
    }
   ],
   "source": [
    "df.head()"
   ]
  },
  {
   "cell_type": "code",
   "execution_count": 11,
   "metadata": {},
   "outputs": [],
   "source": [
    "df.dropna(subset=['consolidated_genre'], inplace=True)"
   ]
  },
  {
   "cell_type": "code",
   "execution_count": 12,
   "metadata": {},
   "outputs": [
    {
     "data": {
      "text/plain": [
       "(214, 9)"
      ]
     },
     "execution_count": 12,
     "metadata": {},
     "output_type": "execute_result"
    }
   ],
   "source": [
    "df.shape"
   ]
  },
  {
   "cell_type": "markdown",
   "metadata": {},
   "source": [
    "### Setup and pre-processing"
   ]
  },
  {
   "cell_type": "code",
   "execution_count": 13,
   "metadata": {
    "scrolled": true
   },
   "outputs": [
    {
     "name": "stdout",
     "output_type": "stream",
     "text": [
      "Requirement already satisfied: nl_core_news_sm==2.0.0 from https://github.com/explosion/spacy-models/releases/download/nl_core_news_sm-2.0.0/nl_core_news_sm-2.0.0.tar.gz#egg=nl_core_news_sm==2.0.0 in /anaconda3/envs/ocr_lm/lib/python3.7/site-packages (2.0.0)\n",
      "\n",
      "\u001b[93m    Linking successful\u001b[0m\n",
      "    /anaconda3/envs/ocr_lm/lib/python3.7/site-packages/nl_core_news_sm -->\n",
      "    /anaconda3/envs/ocr_lm/lib/python3.7/site-packages/spacy/data/nl\n",
      "\n",
      "    You can now load the model via spacy.load('nl')\n",
      "\n"
     ]
    }
   ],
   "source": [
    "!python -m spacy download nl"
   ]
  },
  {
   "cell_type": "code",
   "execution_count": 14,
   "metadata": {},
   "outputs": [
    {
     "data": {
      "text/plain": [
       "'\\nsample_ground = df[\"text_ground\"].sample(n=sample_size, random_state=seed)\\nsample_ocr = df[\"text_ocr\"].sample(n=sample_size, random_state=seed)\\nlabels = df[\"consolidated_genre\"].sample(n=sample_size, random_state=seed)\\n'"
      ]
     },
     "execution_count": 14,
     "metadata": {},
     "output_type": "execute_result"
    }
   ],
   "source": [
    "\"\"\"\n",
    "sample_ground = df[\"text_ground\"].sample(n=sample_size, random_state=seed)\n",
    "sample_ocr = df[\"text_ocr\"].sample(n=sample_size, random_state=seed)\n",
    "labels = df[\"consolidated_genre\"].sample(n=sample_size, random_state=seed)\n",
    "\"\"\""
   ]
  },
  {
   "cell_type": "code",
   "execution_count": 121,
   "metadata": {},
   "outputs": [],
   "source": [
    "sample_ground = df[\"text_ground\"].values\n",
    "sample_ocr = df[\"text_ocr\"].values\n",
    "labels = df[\"consolidated_genre\"].values"
   ]
  },
  {
   "cell_type": "code",
   "execution_count": 122,
   "metadata": {},
   "outputs": [
    {
     "name": "stdout",
     "output_type": "stream",
     "text": [
      "214\n"
     ]
    }
   ],
   "source": [
    "print(len(sample_ground))"
   ]
  },
  {
   "cell_type": "code",
   "execution_count": 123,
   "metadata": {},
   "outputs": [
    {
     "data": {
      "image/png": "[encoded data removed]",
      "text/plain": [
       "<Figure size 432x288 with 1 Axes>"
      ]
     },
     "metadata": {},
     "output_type": "display_data"
    }
   ],
   "source": [
    "sns.distplot([len(x.split()) for x in sample_ground], label=\"Ground\", kde=False, color=\"green\", bins=30)\n",
    "sns.distplot([len(x.split()) for x in sample_ocr], label=\"OCR\", kde=False, color=\"red\", bins=30)\n",
    "plt.title(\"Document length\")\n",
    "plt.legend()\n",
    "plt.tight_layout()"
   ]
  },
  {
   "cell_type": "code",
   "execution_count": 124,
   "metadata": {},
   "outputs": [],
   "source": [
    "# trim, just to speed up experiments\n",
    "\n",
    "LIMIT = 100000\n",
    "\n",
    "sample_ground = [x[:LIMIT] for x in sample_ground]\n",
    "sample_ocr = [x[:LIMIT] for x in sample_ocr]"
   ]
  },
  {
   "cell_type": "code",
   "execution_count": 125,
   "metadata": {},
   "outputs": [
    {
     "data": {
      "image/png": "[encoded data removed]",
      "text/plain": [
       "<Figure size 432x288 with 1 Axes>"
      ]
     },
     "metadata": {},
     "output_type": "display_data"
    }
   ],
   "source": [
    "sns.distplot([len(x) for x in sample_ground], label=\"Ground\", kde=False, color=\"green\", bins=30)\n",
    "sns.distplot([len(x) for x in sample_ocr], label=\"OCR\", kde=False, color=\"red\", bins=30)\n",
    "plt.title(\"Document length\")\n",
    "plt.legend()\n",
    "plt.tight_layout()"
   ]
  },
  {
   "cell_type": "markdown",
   "metadata": {},
   "source": [
    "#### Pre-processing\n",
    "\n",
    "* Remove stop-words\n",
    "* Lemmatize\n",
    "* Lowercase\n",
    "* Remove tokens shorter than 3 characters\n",
    "* Add frequent bigrams\n",
    "\n",
    "*TODO: test without pre-processing.*"
   ]
  },
  {
   "cell_type": "code",
   "execution_count": 126,
   "metadata": {},
   "outputs": [],
   "source": [
    "nlp = spacy.load('nl')\n",
    "STOPWORDS = spacy.lang.nl.stop_words.STOP_WORDS\n",
    "STOPWORDS.add(\"eene\")"
   ]
  },
  {
   "cell_type": "code",
   "execution_count": 131,
   "metadata": {},
   "outputs": [
    {
     "name": "stdout",
     "output_type": "stream",
     "text": [
      "CPU times: user 21min 23s, sys: 4min 31s, total: 25min 55s\n",
      "Wall time: 11min 56s\n"
     ]
    }
   ],
   "source": [
    "%%time\n",
    "\n",
    "processed_docs = list()\n",
    "for doc in nlp.pipe(sample_ocr, n_threads=5, batch_size=10):\n",
    "\n",
    "    # Process document using Spacy NLP pipeline.\n",
    "    #ents = doc.ents  # Named entities\n",
    "\n",
    "    # Keep only words (no numbers, no punctuation).\n",
    "    # Lemmatize tokens, remove punctuation and remove stopwords.\n",
    "    doc = [token.lemma_ for token in doc if token.is_alpha and not token.is_stop]\n",
    "\n",
    "    # Remove common words from a stopword list and keep only words of length 3 or more.\n",
    "    doc = [token.lower() for token in doc if token not in STOPWORDS and len(token) > 2]\n",
    "\n",
    "    # Add named entities, but only if they are a compound of more than one word.\n",
    "    #doc.extend([str(entity) for entity in ents if len(entity) > 1])\n",
    "\n",
    "    processed_docs.append(doc)"
   ]
  },
  {
   "cell_type": "code",
   "execution_count": 132,
   "metadata": {},
   "outputs": [
    {
     "data": {
      "text/plain": [
       "\"\\n# Add bigrams\\nfrom gensim.models.phrases import Phrases\\n# Add bigrams to docs (only ones that appear 20 times or more). A better approach would be to use a chi_sq test.\\nbigram = Phrases(docs, min_count=25)\\nfor idx in range(len(docs)):\\n    for token in bigram[docs[idx]]:\\n        if '_' in token:\\n            # Token is a bigram, add to document.\\n            docs[idx].append(token)\\n\""
      ]
     },
     "execution_count": 132,
     "metadata": {},
     "output_type": "execute_result"
    }
   ],
   "source": [
    "docs = processed_docs\n",
    "del processed_docs\n",
    "\n",
    "\"\"\"\n",
    "# Add bigrams\n",
    "from gensim.models.phrases import Phrases\n",
    "# Add bigrams to docs (only ones that appear 20 times or more). A better approach would be to use a chi_sq test.\n",
    "bigram = Phrases(docs, min_count=25)\n",
    "for idx in range(len(docs)):\n",
    "    for token in bigram[docs[idx]]:\n",
    "        if '_' in token:\n",
    "            # Token is a bigram, add to document.\n",
    "            docs[idx].append(token)\n",
    "\"\"\""
   ]
  },
  {
   "cell_type": "code",
   "execution_count": 133,
   "metadata": {},
   "outputs": [],
   "source": [
    "# CHANGE this\n",
    "#docs_ground = docs\n",
    "docs_ocr = docs"
   ]
  },
  {
   "cell_type": "code",
   "execution_count": 134,
   "metadata": {},
   "outputs": [],
   "source": [
    "# save corpora\n",
    "import pickle\n",
    "\n",
    "with open('WORK_IN_PROGRESS_classification/docs_ground.pkl', 'wb') as handle:\n",
    "    pickle.dump(docs_ground, handle)\n",
    "with open('WORK_IN_PROGRESS_classification/docs_ocr.pkl', 'wb') as handle:\n",
    "    pickle.dump(docs_ocr, handle)\n",
    "with open('WORK_IN_PROGRESS_classification/labels.pkl', 'wb') as handle:\n",
    "    pickle.dump(labels, handle)"
   ]
  },
  {
   "cell_type": "markdown",
   "metadata": {},
   "source": [
    "#### Start from the pre-processed corpus"
   ]
  },
  {
   "cell_type": "code",
   "execution_count": 135,
   "metadata": {},
   "outputs": [],
   "source": [
    "# load corpora\n",
    "import pickle\n",
    "\n",
    "docs_ground = list()\n",
    "docs_ocr = list()\n",
    "labels = list\n",
    "\n",
    "with open('WORK_IN_PROGRESS_classification/docs_ground.pkl', 'rb') as handle:\n",
    "    docs_ground = pickle.load(handle)\n",
    "with open('WORK_IN_PROGRESS_classification/docs_ocr.pkl', 'rb') as handle:\n",
    "    docs_ocr = pickle.load(handle)\n",
    "with open('WORK_IN_PROGRESS_classification/labels.pkl', 'rb') as handle:\n",
    "    labels = pickle.load(handle)"
   ]
  },
  {
   "cell_type": "code",
   "execution_count": 136,
   "metadata": {},
   "outputs": [
    {
     "data": {
      "text/plain": [
       "['boekbeschouwing',\n",
       " 'gemoedsgesteldheid',\n",
       " 'david',\n",
       " 'onder',\n",
       " 'zijne',\n",
       " 'verschillende',\n",
       " 'lotgevallen',\n",
       " 'zijne',\n",
       " 'psalmen',\n",
       " 'opgemaakt']"
      ]
     },
     "execution_count": 136,
     "metadata": {},
     "output_type": "execute_result"
    }
   ],
   "source": [
    "docs_ground[0][:10]"
   ]
  },
  {
   "cell_type": "code",
   "execution_count": 137,
   "metadata": {},
   "outputs": [
    {
     "data": {
      "text/plain": [
       "['sis',\n",
       " 'oekbeschouwi',\n",
       " 'voor',\n",
       " 'erland',\n",
       " 'scfie',\n",
       " 'letteroefeningen',\n",
       " 'tij',\n",
       " 'schr',\n",
       " 'van',\n",
       " 'kunsten']"
      ]
     },
     "execution_count": 137,
     "metadata": {},
     "output_type": "execute_result"
    }
   ],
   "source": [
    "docs_ocr[0][:10]"
   ]
  },
  {
   "cell_type": "markdown",
   "metadata": {},
   "source": [
    "## Basic Sklearn"
   ]
  },
  {
   "cell_type": "code",
   "execution_count": 138,
   "metadata": {},
   "outputs": [
    {
     "data": {
      "text/plain": [
       "Counter({'sec - letterkunde': 103,\n",
       "         'sec - taalkunde': 25,\n",
       "         'non-fictie': 31,\n",
       "         'poëzie': 55})"
      ]
     },
     "execution_count": 138,
     "metadata": {},
     "output_type": "execute_result"
    }
   ],
   "source": [
    "from collections import Counter\n",
    "\n",
    "c = Counter(labels)\n",
    "c"
   ]
  },
  {
   "cell_type": "code",
   "execution_count": 139,
   "metadata": {},
   "outputs": [],
   "source": [
    "from sklearn.model_selection import train_test_split\n",
    "\n",
    "train_g, test_g, labels_train_g, labels_test_g = train_test_split(sample_ground, labels, test_size=0.2, random_state=seed)\n",
    "train_o, test_o, labels_train_o, labels_test_o = train_test_split(sample_ocr, labels, test_size=0.2, random_state=seed)"
   ]
  },
  {
   "cell_type": "code",
   "execution_count": 140,
   "metadata": {},
   "outputs": [
    {
     "data": {
      "text/plain": [
       "(171, 63317)"
      ]
     },
     "execution_count": 140,
     "metadata": {},
     "output_type": "execute_result"
    }
   ],
   "source": [
    "# Feature extractors\n",
    "\n",
    "from sklearn.feature_extraction.text import CountVectorizer, TfidfVectorizer\n",
    "count_vect_g = CountVectorizer(min_df=2) # remove terms only in one doc, useless\n",
    "tfidf_vect_g = TfidfVectorizer(min_df=2) # remove terms only in one doc, useless\n",
    "count_vect_o = CountVectorizer(min_df=2) # remove terms only in one doc, useless\n",
    "tfidf_vect_o = TfidfVectorizer(min_df=2) # remove terms only in one doc, useless\n",
    "\n",
    "count_tr_g = count_vect_g.fit(train_g)\n",
    "count_tr_o = count_vect_o.fit(train_o)\n",
    "tfidf_tr_g = tfidf_vect_g.fit(train_g)\n",
    "tfidf_tr_o = tfidf_vect_o.fit(train_o)\n",
    "\n",
    "X_train_g_counts = count_tr_g.transform(train_g)\n",
    "X_train_g_counts.shape\n",
    "X_train_o_counts = count_tr_o.transform(train_o)\n",
    "X_train_o_counts.shape\n",
    "\n",
    "X_train_g_tfidf = tfidf_tr_g.transform(train_g)\n",
    "X_train_o_tfidf = tfidf_tr_o.transform(train_o)\n",
    "X_train_o_tfidf.shape"
   ]
  },
  {
   "cell_type": "code",
   "execution_count": 141,
   "metadata": {},
   "outputs": [
    {
     "data": {
      "text/plain": [
       "(171, 57500)"
      ]
     },
     "execution_count": 141,
     "metadata": {},
     "output_type": "execute_result"
    }
   ],
   "source": [
    "X_train_g_tfidf.shape"
   ]
  },
  {
   "cell_type": "markdown",
   "metadata": {},
   "source": [
    "##### Counts"
   ]
  },
  {
   "cell_type": "code",
   "execution_count": 142,
   "metadata": {},
   "outputs": [],
   "source": [
    "from sklearn.naive_bayes import MultinomialNB\n",
    "\n",
    "clf_g = MultinomialNB().fit(X_train_g_counts, labels_train_g)\n",
    "clf_o = MultinomialNB().fit(X_train_o_counts, labels_train_o)"
   ]
  },
  {
   "cell_type": "code",
   "execution_count": 164,
   "metadata": {},
   "outputs": [],
   "source": [
    "from sklearn import svm\n",
    "\n",
    "# linear works well here\n",
    "clf_g = svm.SVC(decision_function_shape='ovr').fit(X_train_g_counts, labels_train_g)\n",
    "clf_o = svm.SVC(decision_function_shape='ovr').fit(X_train_o_counts, labels_train_o)"
   ]
  },
  {
   "cell_type": "code",
   "execution_count": 181,
   "metadata": {},
   "outputs": [],
   "source": [
    "from sklearn.ensemble import RandomForestClassifier\n",
    "\n",
    "clf_g = RandomForestClassifier(max_depth=10, n_estimators=20, max_features=100).fit(X_train_g_counts, labels_train_g)\n",
    "clf_o = RandomForestClassifier(max_depth=10, n_estimators=20, max_features=100).fit(X_train_o_counts, labels_train_o)"
   ]
  },
  {
   "cell_type": "code",
   "execution_count": 186,
   "metadata": {},
   "outputs": [],
   "source": [
    "from sklearn.neural_network import MLPClassifier\n",
    "\n",
    "clf_g = MLPClassifier(hidden_layer_sizes=(100, 50, 25)).fit(X_train_g_counts, labels_train_g)\n",
    "clf_o = MLPClassifier(hidden_layer_sizes=(100, 50, 25)).fit(X_train_o_counts, labels_train_o)"
   ]
  },
  {
   "cell_type": "code",
   "execution_count": 187,
   "metadata": {},
   "outputs": [
    {
     "data": {
      "text/plain": [
       "0.8372093023255814"
      ]
     },
     "execution_count": 187,
     "metadata": {},
     "output_type": "execute_result"
    }
   ],
   "source": [
    "X_test_g_counts = count_tr_g.transform(test_g)\n",
    "X_test_g_tfidf = tfidf_tr_g.transform(test_g)\n",
    "\n",
    "predicted = clf_g.predict(X_test_g_counts)\n",
    "np.mean(predicted == labels_test_g)"
   ]
  },
  {
   "cell_type": "code",
   "execution_count": 188,
   "metadata": {},
   "outputs": [
    {
     "name": "stdout",
     "output_type": "stream",
     "text": [
      "                   precision    recall  f1-score   support\n",
      "\n",
      "       non-fictie       0.86      0.86      0.86         7\n",
      "           poëzie       0.79      0.73      0.76        15\n",
      "sec - letterkunde       1.00      0.94      0.97        17\n",
      "  sec - taalkunde       0.50      0.75      0.60         4\n",
      "\n",
      "        micro avg       0.84      0.84      0.84        43\n",
      "        macro avg       0.79      0.82      0.80        43\n",
      "     weighted avg       0.86      0.84      0.84        43\n",
      "\n",
      "[[ 6  1  0  0]\n",
      " [ 1 11  0  3]\n",
      " [ 0  1 16  0]\n",
      " [ 0  1  0  3]]\n"
     ]
    }
   ],
   "source": [
    "from sklearn import metrics\n",
    "print(metrics.classification_report(labels_test_g, predicted))\n",
    "print(metrics.confusion_matrix(labels_test_g, predicted))"
   ]
  },
  {
   "cell_type": "code",
   "execution_count": 189,
   "metadata": {},
   "outputs": [
    {
     "data": {
      "text/plain": [
       "0.9069767441860465"
      ]
     },
     "execution_count": 189,
     "metadata": {},
     "output_type": "execute_result"
    }
   ],
   "source": [
    "X_test_o_counts = count_tr_o.transform(test_o)\n",
    "X_test_o_tfidf = tfidf_tr_o.transform(test_o)\n",
    "\n",
    "predicted = clf_o.predict(X_test_o_counts)\n",
    "np.mean(predicted == labels_test_o)"
   ]
  },
  {
   "cell_type": "code",
   "execution_count": 190,
   "metadata": {
    "scrolled": true
   },
   "outputs": [
    {
     "name": "stdout",
     "output_type": "stream",
     "text": [
      "                   precision    recall  f1-score   support\n",
      "\n",
      "       non-fictie       0.78      1.00      0.88         7\n",
      "           poëzie       0.92      0.80      0.86        15\n",
      "sec - letterkunde       0.94      1.00      0.97        17\n",
      "  sec - taalkunde       1.00      0.75      0.86         4\n",
      "\n",
      "        micro avg       0.91      0.91      0.91        43\n",
      "        macro avg       0.91      0.89      0.89        43\n",
      "     weighted avg       0.92      0.91      0.91        43\n",
      "\n",
      "[[ 7  0  0  0]\n",
      " [ 2 12  1  0]\n",
      " [ 0  0 17  0]\n",
      " [ 0  1  0  3]]\n"
     ]
    }
   ],
   "source": [
    "from sklearn import metrics\n",
    "print(metrics.classification_report(labels_test_g, predicted))\n",
    "print(metrics.confusion_matrix(labels_test_g, predicted))"
   ]
  },
  {
   "cell_type": "markdown",
   "metadata": {},
   "source": [
    "##### TfIdf"
   ]
  },
  {
   "cell_type": "code",
   "execution_count": 148,
   "metadata": {},
   "outputs": [],
   "source": [
    "from sklearn.naive_bayes import MultinomialNB\n",
    "\n",
    "clf_g = MultinomialNB().fit(X_train_g_tfidf, labels_train_g)\n",
    "clf_o = MultinomialNB().fit(X_train_o_tfidf, labels_train_o)"
   ]
  },
  {
   "cell_type": "code",
   "execution_count": 154,
   "metadata": {},
   "outputs": [],
   "source": [
    "from sklearn import svm\n",
    "\n",
    "# RBF works well here\n",
    "clf_g = svm.SVC(gamma=2, C=1, decision_function_shape='ovr').fit(X_train_g_tfidf, labels_train_g)\n",
    "clf_o = svm.SVC(gamma=2, C=1, decision_function_shape='ovr').fit(X_train_o_tfidf, labels_train_o)"
   ]
  },
  {
   "cell_type": "code",
   "execution_count": 175,
   "metadata": {},
   "outputs": [],
   "source": [
    "from sklearn.ensemble import RandomForestClassifier\n",
    "\n",
    "clf_g = RandomForestClassifier(max_depth=10, n_estimators=20, max_features=100).fit(X_train_g_tfidf, labels_train_g)\n",
    "clf_o = RandomForestClassifier(max_depth=10, n_estimators=20, max_features=100).fit(X_train_o_tfidf, labels_train_o)"
   ]
  },
  {
   "cell_type": "code",
   "execution_count": 191,
   "metadata": {},
   "outputs": [],
   "source": [
    "from sklearn.neural_network import MLPClassifier\n",
    "\n",
    "clf_g = MLPClassifier(hidden_layer_sizes=(100, 50, 25)).fit(X_train_g_tfidf, labels_train_g)\n",
    "clf_o = MLPClassifier(hidden_layer_sizes=(100, 50, 25)).fit(X_train_o_tfidf, labels_train_o)"
   ]
  },
  {
   "cell_type": "code",
   "execution_count": 192,
   "metadata": {},
   "outputs": [
    {
     "data": {
      "text/plain": [
       "0.8604651162790697"
      ]
     },
     "execution_count": 192,
     "metadata": {},
     "output_type": "execute_result"
    }
   ],
   "source": [
    "X_test_g_counts = count_tr_g.transform(test_g)\n",
    "X_test_g_tfidf = tfidf_tr_g.transform(test_g)\n",
    "\n",
    "predicted = clf_g.predict(X_test_g_tfidf)\n",
    "np.mean(predicted == labels_test_g)"
   ]
  },
  {
   "cell_type": "code",
   "execution_count": 193,
   "metadata": {},
   "outputs": [
    {
     "name": "stdout",
     "output_type": "stream",
     "text": [
      "                   precision    recall  f1-score   support\n",
      "\n",
      "       non-fictie       1.00      0.86      0.92         7\n",
      "           poëzie       0.85      0.73      0.79        15\n",
      "sec - letterkunde       0.81      1.00      0.89        17\n",
      "  sec - taalkunde       1.00      0.75      0.86         4\n",
      "\n",
      "        micro avg       0.86      0.86      0.86        43\n",
      "        macro avg       0.91      0.84      0.87        43\n",
      "     weighted avg       0.87      0.86      0.86        43\n",
      "\n",
      "[[ 6  1  0  0]\n",
      " [ 0 11  4  0]\n",
      " [ 0  0 17  0]\n",
      " [ 0  1  0  3]]\n"
     ]
    }
   ],
   "source": [
    "from sklearn import metrics\n",
    "print(metrics.classification_report(labels_test_g, predicted))\n",
    "print(metrics.confusion_matrix(labels_test_g, predicted))"
   ]
  },
  {
   "cell_type": "code",
   "execution_count": 194,
   "metadata": {},
   "outputs": [
    {
     "data": {
      "text/plain": [
       "0.8837209302325582"
      ]
     },
     "execution_count": 194,
     "metadata": {},
     "output_type": "execute_result"
    }
   ],
   "source": [
    "X_test_o_counts = count_tr_o.transform(test_o)\n",
    "X_test_o_tfidf = tfidf_tr_o.transform(test_o)\n",
    "\n",
    "predicted = clf_o.predict(X_test_o_tfidf)\n",
    "np.mean(predicted == labels_test_o)"
   ]
  },
  {
   "cell_type": "code",
   "execution_count": 195,
   "metadata": {
    "scrolled": true
   },
   "outputs": [
    {
     "name": "stdout",
     "output_type": "stream",
     "text": [
      "                   precision    recall  f1-score   support\n",
      "\n",
      "       non-fictie       1.00      0.86      0.92         7\n",
      "           poëzie       0.86      0.80      0.83        15\n",
      "sec - letterkunde       0.85      1.00      0.92        17\n",
      "  sec - taalkunde       1.00      0.75      0.86         4\n",
      "\n",
      "        micro avg       0.88      0.88      0.88        43\n",
      "        macro avg       0.93      0.85      0.88        43\n",
      "     weighted avg       0.89      0.88      0.88        43\n",
      "\n",
      "[[ 6  1  0  0]\n",
      " [ 0 12  3  0]\n",
      " [ 0  0 17  0]\n",
      " [ 0  1  0  3]]\n"
     ]
    }
   ],
   "source": [
    "from sklearn import metrics\n",
    "print(metrics.classification_report(labels_test_g, predicted))\n",
    "print(metrics.confusion_matrix(labels_test_g, predicted))"
   ]
  },
  {
   "cell_type": "code",
   "execution_count": null,
   "metadata": {},
   "outputs": [],
   "source": []
  }
 ],
 "metadata": {
  "kernelspec": {
   "display_name": "Python 3",
   "language": "python",
   "name": "python3"
  },
  "language_info": {
   "codemirror_mode": {
    "name": "ipython",
    "version": 3
   },
   "file_extension": ".py",
   "mimetype": "text/x-python",
   "name": "python",
   "nbconvert_exporter": "python",
   "pygments_lexer": "ipython3",
   "version": "3.7.6"
  }
 },
 "nbformat": 4,
 "nbformat_minor": 2
}
