{
 "cells": [
  {
   "cell_type": "markdown",
   "metadata": {},
   "source": [
    "# Create dataframes from raw data\n",
    "\n",
    "This notebook shows how a dataframe was created for two of the datasets we used for this project (2kIMPACT and DBNL). See more info, see the [Wiki page](https://github.com/Giovanni1085/KB_OCR_impact/wiki/Datasets).\n",
    "\n",
    "Please note this notebook is only illustrative of the procedure we have followed to prepare the datasets. Throughout the project, we have made use of the [dataframes with evaluation data](evaluation/) provided by the KB. These contain the same dataset but include an extensive [assessment of OCR quality](https://github.com/Giovanni1085/KB_OCR_impact/wiki/Evaluations)."
   ]
  },
  {
   "cell_type": "code",
   "execution_count": 2,
   "metadata": {},
   "outputs": [],
   "source": [
    "from glob import glob\n",
    "import jellyfish\n",
    "import numpy as np\n",
    "import os, codecs, re\n",
    "import pandas as pd\n",
    "from bs4 import BeautifulSoup"
   ]
  },
  {
   "cell_type": "code",
   "execution_count": 5,
   "metadata": {},
   "outputs": [
    {
     "name": "stdout",
     "output_type": "stream",
     "text": [
      "The autoreload extension is already loaded. To reload it, use:\n",
      "  %reload_ext autoreload\n"
     ]
    }
   ],
   "source": [
    "%matplotlib inline\n",
    "import matplotlib.pyplot as plt\n",
    "\n",
    "# magics and warnings\n",
    "%load_ext autoreload\n",
    "%autoreload 2\n",
    "import warnings; warnings.simplefilter('ignore')\n",
    "\n",
    "import random\n",
    "from tqdm.notebook import tqdm\n",
    "import pandas as pd\n",
    "import numpy as np\n",
    "\n",
    "seed = 43\n",
    "random.seed(seed)\n",
    "np.random.seed(seed)\n",
    "\n",
    "import nltk, gensim, sklearn, spacy\n",
    "from gensim.models import CoherenceModel\n",
    "import matplotlib.pyplot as plt\n",
    "import seaborn as sns\n",
    "sns.set(style=\"white\")\n",
    "sns.set_context(\"notebook\", font_scale=1.2, rc={\"lines.linewidth\": 2.5})"
   ]
  },
  {
   "cell_type": "markdown",
   "metadata": {},
   "source": [
    "## 2k IMPACT"
   ]
  },
  {
   "cell_type": "code",
   "execution_count": 7,
   "metadata": {},
   "outputs": [],
   "source": [
    "# you will need to change this to your own location.\n",
    "folder = os.path.join(os.environ['HOME'],\"surfdrive/Shared/OCR\")\n",
    "\n",
    "# data folders\n",
    "ocr_original_folder = \"Original ALTO files \" # ABBY 8\n",
    "ocr_new_folder = \"ReOCRed (FR11)\" # ABBY 11\n",
    "ground_folder = \"Reordered Ground-truth\""
   ]
  },
  {
   "cell_type": "code",
   "execution_count": 8,
   "metadata": {},
   "outputs": [],
   "source": [
    "def get_contents(soup):\n",
    "    \"\"\"\n",
    "    This function reads a file and gets original filename, tokens and their confidence out of an alto xml file\n",
    "    \"\"\"\n",
    "    filename = soup.find(\"filename\").text\n",
    "    # find all strings (== tokens) and get text plus word-level confidence\n",
    "    word_level_confidence = list()\n",
    "    text = list()\n",
    "    for match in soup.findAll(\"string\"):\n",
    "        word_level_confidence.append(float(match[\"wc\"]))\n",
    "        text.append(match[\"content\"])\n",
    "    return filename, text, word_level_confidence"
   ]
  },
  {
   "cell_type": "code",
   "execution_count": 10,
   "metadata": {},
   "outputs": [],
   "source": [
    "# limits how many files to load\n",
    "# this dataset has 2000 files, so any number above it loads them all\n",
    "LIMIT = 3000"
   ]
  },
  {
   "cell_type": "markdown",
   "metadata": {},
   "source": [
    "#### LOAD ground truth texts"
   ]
  },
  {
   "cell_type": "code",
   "execution_count": 11,
   "metadata": {},
   "outputs": [
    {
     "data": {
      "application/vnd.jupyter.widget-view+json": {
       "model_id": "f96fc06d38864cef8ca551ccbfbea5cf",
       "version_major": 2,
       "version_minor": 0
      },
      "text/plain": [
       "  0%|          | 0/2000 [00:00<?, ?it/s]"
      ]
     },
     "metadata": {},
     "output_type": "display_data"
    }
   ],
   "source": [
    "data_dict = {'filename':list(),'text_ground':list()}\n",
    "\n",
    "# load xml files and get data out\n",
    "for root, dirnames, filenames in os.walk(os.path.join(folder,ground_folder)):\n",
    "    for f in tqdm(filenames[:LIMIT]):\n",
    "        if \".xml\" in f:\n",
    "            full_path = os.path.join(root,f)\n",
    "            soup = BeautifulSoup(codecs.open(full_path,encoding=\"utf8\"))\n",
    "            filename, text, word_level_confidence = get_contents(soup)\n",
    "            data_dict['filename'].append(filename)\n",
    "            data_dict['text_ground'].append(text)"
   ]
  },
  {
   "cell_type": "code",
   "execution_count": 12,
   "metadata": {},
   "outputs": [],
   "source": [
    "# create a dataframe\n",
    "df_ground = pd.DataFrame.from_dict(data_dict)\n",
    "df_ground = df_ground.set_index('filename')"
   ]
  },
  {
   "cell_type": "code",
   "execution_count": 13,
   "metadata": {},
   "outputs": [
    {
     "data": {
      "text/html": [
       "<div>\n",
       "<style scoped>\n",
       "    .dataframe tbody tr th:only-of-type {\n",
       "        vertical-align: middle;\n",
       "    }\n",
       "\n",
       "    .dataframe tbody tr th {\n",
       "        vertical-align: top;\n",
       "    }\n",
       "\n",
       "    .dataframe thead th {\n",
       "        text-align: right;\n",
       "    }\n",
       "</style>\n",
       "<table border=\"1\" class=\"dataframe\">\n",
       "  <thead>\n",
       "    <tr style=\"text-align: right;\">\n",
       "      <th></th>\n",
       "      <th>text_ground</th>\n",
       "    </tr>\n",
       "    <tr>\n",
       "      <th>filename</th>\n",
       "      <th></th>\n",
       "    </tr>\n",
       "  </thead>\n",
       "  <tbody>\n",
       "    <tr>\n",
       "      <th>DDD_010197037_001.jp2</th>\n",
       "      <td>[No., 9922., Tweede, Blad., Vrijdag, 29, Juli,...</td>\n",
       "    </tr>\n",
       "    <tr>\n",
       "      <th>DDD_011219339_001.jp2</th>\n",
       "      <td>[De, Surinamer, Redactie, J., WILLEBRANDS, Dag...</td>\n",
       "    </tr>\n",
       "    <tr>\n",
       "      <th>DDD_011179281_001.jp2</th>\n",
       "      <td>[DE, GRONDWET., Mrs., L., Mulder,, Uitgeefster...</td>\n",
       "    </tr>\n",
       "    <tr>\n",
       "      <th>DDD_010948945_001.jp2</th>\n",
       "      <td>[Het, Vrije, Volk, Maandag, 25, augustus, 1986...</td>\n",
       "    </tr>\n",
       "    <tr>\n",
       "      <th>MMGARO01_000177181_002_master.jp2</th>\n",
       "      <td>[De, troepen, vertrokken, 8, en, 9, Sept,, uit...</td>\n",
       "    </tr>\n",
       "  </tbody>\n",
       "</table>\n",
       "</div>"
      ],
      "text/plain": [
       "                                                                         text_ground\n",
       "filename                                                                            \n",
       "DDD_010197037_001.jp2              [No., 9922., Tweede, Blad., Vrijdag, 29, Juli,...\n",
       "DDD_011219339_001.jp2              [De, Surinamer, Redactie, J., WILLEBRANDS, Dag...\n",
       "DDD_011179281_001.jp2              [DE, GRONDWET., Mrs., L., Mulder,, Uitgeefster...\n",
       "DDD_010948945_001.jp2              [Het, Vrije, Volk, Maandag, 25, augustus, 1986...\n",
       "MMGARO01_000177181_002_master.jp2  [De, troepen, vertrokken, 8, en, 9, Sept,, uit..."
      ]
     },
     "execution_count": 13,
     "metadata": {},
     "output_type": "execute_result"
    }
   ],
   "source": [
    "df_ground.head()"
   ]
  },
  {
   "cell_type": "markdown",
   "metadata": {},
   "source": [
    "#### LOAD OCR texts"
   ]
  },
  {
   "cell_type": "code",
   "execution_count": 14,
   "metadata": {},
   "outputs": [
    {
     "data": {
      "application/vnd.jupyter.widget-view+json": {
       "model_id": "191e2b6ef195441cb3a7577450fbb099",
       "version_major": 2,
       "version_minor": 0
      },
      "text/plain": [
       "  0%|          | 0/2000 [00:00<?, ?it/s]"
      ]
     },
     "metadata": {},
     "output_type": "display_data"
    },
    {
     "data": {
      "application/vnd.jupyter.widget-view+json": {
       "model_id": "a0e2bcc65d504263b5bd3c65228cf33d",
       "version_major": 2,
       "version_minor": 0
      },
      "text/plain": [
       "  0%|          | 0/2000 [00:00<?, ?it/s]"
      ]
     },
     "metadata": {},
     "output_type": "display_data"
    }
   ],
   "source": [
    "data_dict_ocr_1 = {'filename':list(),'text_ocr':list(),'word_level_confidence_ocr':list()}\n",
    "data_dict_ocr_2 = {'filename':list(),'text_reocr':list(),'word_level_confidence_reocr':list()}\n",
    "\n",
    "# load xml files and get data out\n",
    "for root, dirnames, filenames in os.walk(os.path.join(folder,ocr_original_folder)):\n",
    "    for f in tqdm(filenames[:LIMIT]):\n",
    "        if \".xml\" in f:\n",
    "            full_path = os.path.join(root,f)\n",
    "            soup = BeautifulSoup(codecs.open(full_path,encoding=\"utf8\"))\n",
    "            filename, text, word_level_confidence = get_contents(soup)\n",
    "            data_dict_ocr_1['filename'].append(filename)\n",
    "            data_dict_ocr_1['word_level_confidence_ocr'].append(word_level_confidence)\n",
    "            data_dict_ocr_1['text_ocr'].append(text)\n",
    "for root, dirnames, filenames in os.walk(os.path.join(folder,ocr_new_folder)):\n",
    "    for f in tqdm(filenames[:LIMIT]):\n",
    "        if \".xml\" in f:\n",
    "            full_path = os.path.join(root,f)\n",
    "            soup = BeautifulSoup(codecs.open(full_path,encoding=\"utf8\"))\n",
    "            filename, text, word_level_confidence = get_contents(soup)\n",
    "            data_dict_ocr_2['filename'].append(filename)\n",
    "            data_dict_ocr_2['word_level_confidence_reocr'].append(word_level_confidence)\n",
    "            data_dict_ocr_2['text_reocr'].append(text)"
   ]
  },
  {
   "cell_type": "code",
   "execution_count": 15,
   "metadata": {},
   "outputs": [
    {
     "data": {
      "image/png": "[encoded data removed]",
      "text/plain": [
       "<Figure size 432x288 with 1 Axes>"
      ]
     },
     "metadata": {},
     "output_type": "display_data"
    }
   ],
   "source": [
    "flatten = lambda l: [item for sublist in l for item in sublist]\n",
    "l = flatten(data_dict_ocr_1['word_level_confidence_ocr'])\n",
    "sns.distplot(l, label=\"Word confidence oroginal OCR\", kde=False, color=\"red\")\n",
    "plt.legend()\n",
    "plt.tight_layout()\n",
    "plt.savefig(\"figures/2kIMPACT_word_confidence_orOCR.pdf\")"
   ]
  },
  {
   "cell_type": "code",
   "execution_count": 16,
   "metadata": {},
   "outputs": [
    {
     "data": {
      "image/png": "[encoded data removed]",
      "text/plain": [
       "<Figure size 432x288 with 1 Axes>"
      ]
     },
     "metadata": {},
     "output_type": "display_data"
    }
   ],
   "source": [
    "l2 = flatten(data_dict_ocr_2['word_level_confidence_reocr'])\n",
    "sns.distplot(l2, label=\"Word confidence re-OCR\", kde=False, color=\"blue\")\n",
    "plt.legend()\n",
    "plt.tight_layout()\n",
    "plt.savefig(\"figures/2kIMPACT_word_confidence_reOCR.pdf\")"
   ]
  },
  {
   "cell_type": "code",
   "execution_count": 17,
   "metadata": {},
   "outputs": [],
   "source": [
    "# create dataframes\n",
    "df_ocr = pd.DataFrame.from_dict(data_dict_ocr_1)\n",
    "df_ocr = df_ocr.set_index('filename')\n",
    "df_reocr = pd.DataFrame.from_dict(data_dict_ocr_2)\n",
    "df_reocr = df_reocr.set_index('filename')"
   ]
  },
  {
   "cell_type": "code",
   "execution_count": 18,
   "metadata": {},
   "outputs": [
    {
     "data": {
      "text/html": [
       "<div>\n",
       "<style scoped>\n",
       "    .dataframe tbody tr th:only-of-type {\n",
       "        vertical-align: middle;\n",
       "    }\n",
       "\n",
       "    .dataframe tbody tr th {\n",
       "        vertical-align: top;\n",
       "    }\n",
       "\n",
       "    .dataframe thead th {\n",
       "        text-align: right;\n",
       "    }\n",
       "</style>\n",
       "<table border=\"1\" class=\"dataframe\">\n",
       "  <thead>\n",
       "    <tr style=\"text-align: right;\">\n",
       "      <th></th>\n",
       "      <th>text_ocr</th>\n",
       "      <th>word_level_confidence_ocr</th>\n",
       "    </tr>\n",
       "    <tr>\n",
       "      <th>filename</th>\n",
       "      <th></th>\n",
       "      <th></th>\n",
       "    </tr>\n",
       "  </thead>\n",
       "  <tbody>\n",
       "    <tr>\n",
       "      <th>DDD_010033326_001.jp2</th>\n",
       "      <td>[NIEUWE, ROTTERDAMSCHE, COURANT., », «.&lt;.»«««,...</td>\n",
       "      <td>[0.98, 0.96, 0.98, 0.98, 0.96, 0.98, 0.96, 1.0...</td>\n",
       "    </tr>\n",
       "    <tr>\n",
       "      <th>DDD_010541077_002.jp2</th>\n",
       "      <td>[Kolom, Links, mensen, ♦, De, acteur, Edward, ...</td>\n",
       "      <td>[0.96, 0.96, 0.99, 0.2, 0.39, 0.99, 0.91, 0.97...</td>\n",
       "    </tr>\n",
       "    <tr>\n",
       "      <th>MMDA03_000114653_002_master.jp2</th>\n",
       "      <td>[SPORTNIEUWS, Drentsche, Voetbalbond., OFFICIE...</td>\n",
       "      <td>[0.3, 0.24, 0.31, 0.32, 0.34, 0.33, 0.38, 0.22...</td>\n",
       "    </tr>\n",
       "    <tr>\n",
       "      <th>MMKB08_000166020_002_master.jp2</th>\n",
       "      <td>[Verder, behandelt, de, Resolutie, technisch,,...</td>\n",
       "      <td>[0.4, 0.22, 0.26, 0.29, 0.3, 0.23, 0.24, 0.36,...</td>\n",
       "    </tr>\n",
       "    <tr>\n",
       "      <th>DDD_010219949_001.jp2</th>\n",
       "      <td>[Dit, nummer, bestaat, uit, vier, bladen, Eers...</td>\n",
       "      <td>[0.96, 1.0, 0.98, 0.97, 0.97, 0.96, 0.99, 0.26...</td>\n",
       "    </tr>\n",
       "  </tbody>\n",
       "</table>\n",
       "</div>"
      ],
      "text/plain": [
       "                                                                          text_ocr  \\\n",
       "filename                                                                             \n",
       "DDD_010033326_001.jp2            [NIEUWE, ROTTERDAMSCHE, COURANT., », «.<.»«««,...   \n",
       "DDD_010541077_002.jp2            [Kolom, Links, mensen, ♦, De, acteur, Edward, ...   \n",
       "MMDA03_000114653_002_master.jp2  [SPORTNIEUWS, Drentsche, Voetbalbond., OFFICIE...   \n",
       "MMKB08_000166020_002_master.jp2  [Verder, behandelt, de, Resolutie, technisch,,...   \n",
       "DDD_010219949_001.jp2            [Dit, nummer, bestaat, uit, vier, bladen, Eers...   \n",
       "\n",
       "                                                         word_level_confidence_ocr  \n",
       "filename                                                                            \n",
       "DDD_010033326_001.jp2            [0.98, 0.96, 0.98, 0.98, 0.96, 0.98, 0.96, 1.0...  \n",
       "DDD_010541077_002.jp2            [0.96, 0.96, 0.99, 0.2, 0.39, 0.99, 0.91, 0.97...  \n",
       "MMDA03_000114653_002_master.jp2  [0.3, 0.24, 0.31, 0.32, 0.34, 0.33, 0.38, 0.22...  \n",
       "MMKB08_000166020_002_master.jp2  [0.4, 0.22, 0.26, 0.29, 0.3, 0.23, 0.24, 0.36,...  \n",
       "DDD_010219949_001.jp2            [0.96, 1.0, 0.98, 0.97, 0.97, 0.96, 0.99, 0.26...  "
      ]
     },
     "execution_count": 18,
     "metadata": {},
     "output_type": "execute_result"
    }
   ],
   "source": [
    "df_ocr.head()"
   ]
  },
  {
   "cell_type": "code",
   "execution_count": 19,
   "metadata": {},
   "outputs": [
    {
     "data": {
      "text/html": [
       "<div>\n",
       "<style scoped>\n",
       "    .dataframe tbody tr th:only-of-type {\n",
       "        vertical-align: middle;\n",
       "    }\n",
       "\n",
       "    .dataframe tbody tr th {\n",
       "        vertical-align: top;\n",
       "    }\n",
       "\n",
       "    .dataframe thead th {\n",
       "        text-align: right;\n",
       "    }\n",
       "</style>\n",
       "<table border=\"1\" class=\"dataframe\">\n",
       "  <thead>\n",
       "    <tr style=\"text-align: right;\">\n",
       "      <th></th>\n",
       "      <th>text_reocr</th>\n",
       "      <th>word_level_confidence_reocr</th>\n",
       "    </tr>\n",
       "    <tr>\n",
       "      <th>filename</th>\n",
       "      <th></th>\n",
       "      <th></th>\n",
       "    </tr>\n",
       "  </thead>\n",
       "  <tbody>\n",
       "    <tr>\n",
       "      <th>DDD_011218694_001.jp2</th>\n",
       "      <td>[11, i, —in, &gt;i, i, I—••, -, J, --, ■, ■, ■, D...</td>\n",
       "      <td>[0.9, 0.32, 0.9, 0.62, 0.24, 0.33, 0.37, 0.24,...</td>\n",
       "    </tr>\n",
       "    <tr>\n",
       "      <th>MMSAB03_000062844_001_master.jp2</th>\n",
       "      <td>[j\\o,, 262., ,., DONDERDAG, 8, NOVEMBER, 1925....</td>\n",
       "      <td>[0.42, 0.68, 0.81, 0.97, 0.44, 0.97, 0.24, 0.1...</td>\n",
       "    </tr>\n",
       "    <tr>\n",
       "      <th>MMGAVL01_000007154_001_master.jp2</th>\n",
       "      <td>[nieuwe, lleniosche, courant, van, Zaterdag.29...</td>\n",
       "      <td>[0.97, 0.55, 0.98, 0.97, 0.99, 0.4, 0.59, 0.97...</td>\n",
       "    </tr>\n",
       "    <tr>\n",
       "      <th>DDD_010189794_002.jp2</th>\n",
       "      <td>[blikevnen, die, een, soort, van, voogdij, «Ve...</td>\n",
       "      <td>[0.3, 0.93, 0.91, 0.96, 0.92, 0.96, 0.94, 0.92...</td>\n",
       "    </tr>\n",
       "    <tr>\n",
       "      <th>DDD_010882847_002.jp2</th>\n",
       "      <td>[die, terugkomst, van, de, bewoners, overvalle...</td>\n",
       "      <td>[0.96, 0.98, 0.93, 0.33, 0.98, 0.99, 0.93, 0.9...</td>\n",
       "    </tr>\n",
       "  </tbody>\n",
       "</table>\n",
       "</div>"
      ],
      "text/plain": [
       "                                                                          text_reocr  \\\n",
       "filename                                                                               \n",
       "DDD_011218694_001.jp2              [11, i, —in, >i, i, I—••, -, J, --, ■, ■, ■, D...   \n",
       "MMSAB03_000062844_001_master.jp2   [j\\o,, 262., ,., DONDERDAG, 8, NOVEMBER, 1925....   \n",
       "MMGAVL01_000007154_001_master.jp2  [nieuwe, lleniosche, courant, van, Zaterdag.29...   \n",
       "DDD_010189794_002.jp2              [blikevnen, die, een, soort, van, voogdij, «Ve...   \n",
       "DDD_010882847_002.jp2              [die, terugkomst, van, de, bewoners, overvalle...   \n",
       "\n",
       "                                                         word_level_confidence_reocr  \n",
       "filename                                                                              \n",
       "DDD_011218694_001.jp2              [0.9, 0.32, 0.9, 0.62, 0.24, 0.33, 0.37, 0.24,...  \n",
       "MMSAB03_000062844_001_master.jp2   [0.42, 0.68, 0.81, 0.97, 0.44, 0.97, 0.24, 0.1...  \n",
       "MMGAVL01_000007154_001_master.jp2  [0.97, 0.55, 0.98, 0.97, 0.99, 0.4, 0.59, 0.97...  \n",
       "DDD_010189794_002.jp2              [0.3, 0.93, 0.91, 0.96, 0.92, 0.96, 0.94, 0.92...  \n",
       "DDD_010882847_002.jp2              [0.96, 0.98, 0.93, 0.33, 0.98, 0.99, 0.93, 0.9...  "
      ]
     },
     "execution_count": 19,
     "metadata": {},
     "output_type": "execute_result"
    }
   ],
   "source": [
    "df_reocr.head()"
   ]
  },
  {
   "cell_type": "code",
   "execution_count": 20,
   "metadata": {},
   "outputs": [],
   "source": [
    "# join data frames\n",
    "full_df = pd.concat([df_ground, df_ocr], join=\"inner\", axis=1)\n",
    "full_df = pd.concat([full_df, df_reocr], join=\"inner\", axis=1)"
   ]
  },
  {
   "cell_type": "code",
   "execution_count": 21,
   "metadata": {},
   "outputs": [
    {
     "data": {
      "text/plain": [
       "(2000, 5)"
      ]
     },
     "execution_count": 21,
     "metadata": {},
     "output_type": "execute_result"
    }
   ],
   "source": [
    "full_df.shape"
   ]
  },
  {
   "cell_type": "code",
   "execution_count": 22,
   "metadata": {},
   "outputs": [
    {
     "data": {
      "text/html": [
       "<div>\n",
       "<style scoped>\n",
       "    .dataframe tbody tr th:only-of-type {\n",
       "        vertical-align: middle;\n",
       "    }\n",
       "\n",
       "    .dataframe tbody tr th {\n",
       "        vertical-align: top;\n",
       "    }\n",
       "\n",
       "    .dataframe thead th {\n",
       "        text-align: right;\n",
       "    }\n",
       "</style>\n",
       "<table border=\"1\" class=\"dataframe\">\n",
       "  <thead>\n",
       "    <tr style=\"text-align: right;\">\n",
       "      <th></th>\n",
       "      <th>text_ground</th>\n",
       "      <th>text_ocr</th>\n",
       "      <th>word_level_confidence_ocr</th>\n",
       "      <th>text_reocr</th>\n",
       "      <th>word_level_confidence_reocr</th>\n",
       "    </tr>\n",
       "    <tr>\n",
       "      <th>filename</th>\n",
       "      <th></th>\n",
       "      <th></th>\n",
       "      <th></th>\n",
       "      <th></th>\n",
       "      <th></th>\n",
       "    </tr>\n",
       "  </thead>\n",
       "  <tbody>\n",
       "    <tr>\n",
       "      <th>DDD_010197037_001.jp2</th>\n",
       "      <td>[No., 9922., Tweede, Blad., Vrijdag, 29, Juli,...</td>\n",
       "      <td>[JSo., 9822, xTweede, Blad., Vrijdag, 29, Juli...</td>\n",
       "      <td>[0.27, 0.27, 0.29, 0.95, 0.98, 1.0, 0.97, 0.67...</td>\n",
       "      <td>[ISO., 9922, -Tweede, Blad., ss*, Vrijdag, 29,...</td>\n",
       "      <td>[0.94, 0.23, 0.97, 0.95, 0.16, 0.97, 0.96, 0.9...</td>\n",
       "    </tr>\n",
       "    <tr>\n",
       "      <th>DDD_011219339_001.jp2</th>\n",
       "      <td>[De, Surinamer, Redactie, J., WILLEBRANDS, Dag...</td>\n",
       "      <td>[De, Surinamer, •v*, WILLEBRANDS:i^, Dagblad, ...</td>\n",
       "      <td>[0.96, 0.98, 0.46, 0.48, 0.99, 0.97, 0.99, 0.5...</td>\n",
       "      <td>[Whd^Mmumr, Redactie, J., WILLEBRANDS, Dagblad...</td>\n",
       "      <td>[0.25, 0.99, 0.83, 0.84, 0.98, 0.97, 0.99, 0.9...</td>\n",
       "    </tr>\n",
       "    <tr>\n",
       "      <th>DDD_011179281_001.jp2</th>\n",
       "      <td>[DE, GRONDWET., Mrs., L., Mulder,, Uitgeefster...</td>\n",
       "      <td>[DE, GRONDWET., Mrs., 3L.., Mulder,, TJitgêels...</td>\n",
       "      <td>[0.96, 0.98, 0.95, 0.52, 0.97, 0.41, 0.34, 0.9...</td>\n",
       "      <td>[DE, GRONDWET., Mrs., Xj., Melder,, Uitgeefste...</td>\n",
       "      <td>[0.76, 0.97, 0.5, 0.62, 0.97, 0.98, 0.97, 0.74...</td>\n",
       "    </tr>\n",
       "    <tr>\n",
       "      <th>DDD_010948945_001.jp2</th>\n",
       "      <td>[Het, Vrije, Volk, Maandag, 25, augustus, 1986...</td>\n",
       "      <td>[Het, Vrije, Volk, Maandag, 25, augustus, 1986...</td>\n",
       "      <td>[0.98, 0.98, 0.98, 1.0, 1.0, 0.98, 0.86, 0.63,...</td>\n",
       "      <td>[Ê, •, :&gt;, %, V, f, A, i, *, %, iiiisy, V, -;,...</td>\n",
       "      <td>[0.27, 0.44, 0.14, 1.0, 0.13, 0.33, 1.0, 0.3, ...</td>\n",
       "    </tr>\n",
       "    <tr>\n",
       "      <th>MMGARO01_000177181_002_master.jp2</th>\n",
       "      <td>[De, troepen, vertrokken, 8, en, 9, Sept,, uit...</td>\n",
       "      <td>[De, tioepen, vertrokken, 8, en, 9, Sept., uit...</td>\n",
       "      <td>[0.59, 0.32, 0.32, 0.78, 0.07, 1.0, 0.25, 0.18...</td>\n",
       "      <td>[De, troepen, vertrokken, 8, en, 9, Sept., uit...</td>\n",
       "      <td>[0.5, 0.98, 0.99, 0.41, 0.46, 0.76, 0.61, 0.96...</td>\n",
       "    </tr>\n",
       "  </tbody>\n",
       "</table>\n",
       "</div>"
      ],
      "text/plain": [
       "                                                                         text_ground  \\\n",
       "filename                                                                               \n",
       "DDD_010197037_001.jp2              [No., 9922., Tweede, Blad., Vrijdag, 29, Juli,...   \n",
       "DDD_011219339_001.jp2              [De, Surinamer, Redactie, J., WILLEBRANDS, Dag...   \n",
       "DDD_011179281_001.jp2              [DE, GRONDWET., Mrs., L., Mulder,, Uitgeefster...   \n",
       "DDD_010948945_001.jp2              [Het, Vrije, Volk, Maandag, 25, augustus, 1986...   \n",
       "MMGARO01_000177181_002_master.jp2  [De, troepen, vertrokken, 8, en, 9, Sept,, uit...   \n",
       "\n",
       "                                                                            text_ocr  \\\n",
       "filename                                                                               \n",
       "DDD_010197037_001.jp2              [JSo., 9822, xTweede, Blad., Vrijdag, 29, Juli...   \n",
       "DDD_011219339_001.jp2              [De, Surinamer, •v*, WILLEBRANDS:i^, Dagblad, ...   \n",
       "DDD_011179281_001.jp2              [DE, GRONDWET., Mrs., 3L.., Mulder,, TJitgêels...   \n",
       "DDD_010948945_001.jp2              [Het, Vrije, Volk, Maandag, 25, augustus, 1986...   \n",
       "MMGARO01_000177181_002_master.jp2  [De, tioepen, vertrokken, 8, en, 9, Sept., uit...   \n",
       "\n",
       "                                                           word_level_confidence_ocr  \\\n",
       "filename                                                                               \n",
       "DDD_010197037_001.jp2              [0.27, 0.27, 0.29, 0.95, 0.98, 1.0, 0.97, 0.67...   \n",
       "DDD_011219339_001.jp2              [0.96, 0.98, 0.46, 0.48, 0.99, 0.97, 0.99, 0.5...   \n",
       "DDD_011179281_001.jp2              [0.96, 0.98, 0.95, 0.52, 0.97, 0.41, 0.34, 0.9...   \n",
       "DDD_010948945_001.jp2              [0.98, 0.98, 0.98, 1.0, 1.0, 0.98, 0.86, 0.63,...   \n",
       "MMGARO01_000177181_002_master.jp2  [0.59, 0.32, 0.32, 0.78, 0.07, 1.0, 0.25, 0.18...   \n",
       "\n",
       "                                                                          text_reocr  \\\n",
       "filename                                                                               \n",
       "DDD_010197037_001.jp2              [ISO., 9922, -Tweede, Blad., ss*, Vrijdag, 29,...   \n",
       "DDD_011219339_001.jp2              [Whd^Mmumr, Redactie, J., WILLEBRANDS, Dagblad...   \n",
       "DDD_011179281_001.jp2              [DE, GRONDWET., Mrs., Xj., Melder,, Uitgeefste...   \n",
       "DDD_010948945_001.jp2              [Ê, •, :>, %, V, f, A, i, *, %, iiiisy, V, -;,...   \n",
       "MMGARO01_000177181_002_master.jp2  [De, troepen, vertrokken, 8, en, 9, Sept., uit...   \n",
       "\n",
       "                                                         word_level_confidence_reocr  \n",
       "filename                                                                              \n",
       "DDD_010197037_001.jp2              [0.94, 0.23, 0.97, 0.95, 0.16, 0.97, 0.96, 0.9...  \n",
       "DDD_011219339_001.jp2              [0.25, 0.99, 0.83, 0.84, 0.98, 0.97, 0.99, 0.9...  \n",
       "DDD_011179281_001.jp2              [0.76, 0.97, 0.5, 0.62, 0.97, 0.98, 0.97, 0.74...  \n",
       "DDD_010948945_001.jp2              [0.27, 0.44, 0.14, 1.0, 0.13, 0.33, 1.0, 0.3, ...  \n",
       "MMGARO01_000177181_002_master.jp2  [0.5, 0.98, 0.99, 0.41, 0.46, 0.76, 0.61, 0.96...  "
      ]
     },
     "execution_count": 22,
     "metadata": {},
     "output_type": "execute_result"
    }
   ],
   "source": [
    "full_df.head()"
   ]
  },
  {
   "cell_type": "code",
   "execution_count": 23,
   "metadata": {},
   "outputs": [],
   "source": [
    "full_df[\"word_level_average_confidence_ocr\"] = full_df[\"word_level_confidence_ocr\"].apply(lambda x: np.average(x))\n",
    "full_df[\"word_level_average_confidence_reocr\"] = full_df[\"word_level_confidence_reocr\"].apply(lambda x: np.average(x))"
   ]
  },
  {
   "cell_type": "code",
   "execution_count": 24,
   "metadata": {},
   "outputs": [
    {
     "data": {
      "image/png": "[encoded data removed]",
      "text/plain": [
       "<Figure size 432x288 with 1 Axes>"
      ]
     },
     "metadata": {},
     "output_type": "display_data"
    }
   ],
   "source": [
    "# compare original and re-OCR\n",
    "sns.distplot(full_df[\"word_level_average_confidence_ocr\"].values, label=\"Original OCR\", kde=False, color=\"red\", bins=30)\n",
    "sns.distplot(full_df[\"word_level_average_confidence_reocr\"].values, label=\"Re-OCR\", kde=False, color=\"blue\", bins=30)\n",
    "plt.title(\"Word average confidence (document-level)\")\n",
    "plt.legend()\n",
    "plt.tight_layout()\n",
    "plt.savefig(\"figures/2kIMPACT_word_confidence.pdf\")"
   ]
  },
  {
   "cell_type": "code",
   "execution_count": 25,
   "metadata": {},
   "outputs": [],
   "source": [
    "# save\n",
    "full_df.to_csv(\"data_frames/full_df_2kIMPACT.csv\", compression=\"gzip\")"
   ]
  },
  {
   "cell_type": "markdown",
   "metadata": {},
   "source": [
    "## DBNL OCR"
   ]
  },
  {
   "cell_type": "code",
   "execution_count": 26,
   "metadata": {},
   "outputs": [],
   "source": [
    "# you will need to change this to your own location.\n",
    "folder = os.path.join(os.environ['HOME'],\"surfdrive/projects/KB_residence_OCR_2020/data/DBNL_OCR_dataset\")\n",
    "\n",
    "# data folders\n",
    "ocr_folder = \"TXT\"\n",
    "ground_folder = \"TEI\"\n",
    "metadata_file = \"Metadata_DBNL_OCR_v1.csv\""
   ]
  },
  {
   "cell_type": "code",
   "execution_count": 27,
   "metadata": {
    "scrolled": true
   },
   "outputs": [
    {
     "data": {
      "application/vnd.jupyter.widget-view+json": {
       "model_id": "cec167775966460193b0c2a7ba565ff7",
       "version_major": 2,
       "version_minor": 0
      },
      "text/plain": [
       "  0%|          | 0/220 [00:00<?, ?it/s]"
      ]
     },
     "metadata": {},
     "output_type": "display_data"
    }
   ],
   "source": [
    "# load ground data by filtering for Dutch only\n",
    "\n",
    "import requests\n",
    "\n",
    "data_dict = {'filename':list(),'text_ground':list(),'genre':list(),'subgenre':list()}\n",
    "# we use the DBNL API to get genre and subgenre, we will use this for the classification task\n",
    "baseline_url = \"https://dbnl.org/extern/api/titel/read_one.php\"\n",
    "\n",
    "# load xml files and get data out\n",
    "for root, dirnames, filenames in os.walk(os.path.join(folder,ground_folder)):\n",
    "    for f in tqdm(filenames):\n",
    "        if \".xml\" in f:\n",
    "            full_path = os.path.join(root,f)\n",
    "            soup = BeautifulSoup(codecs.open(full_path,encoding=\"utf8\"), 'html.parser') # GET the correct encoding!\n",
    "            filename = f.replace(\"_01.xml\",\"\")\n",
    "            tei_lang = soup.find(\"language\")\n",
    "            if tei_lang: # many books do not have language information, in that case we assume it's Dutch\n",
    "                if not tei_lang.text == \"Nederlands\":\n",
    "                    continue\n",
    "            text = soup.find(\"body\").text\n",
    "            # find genre and subgenre\n",
    "            response = requests.get(\n",
    "                baseline_url,\n",
    "                params={'ti_id': filename})\n",
    "            response = response.json()\n",
    "            genre = None\n",
    "            if \"genre\" in response.keys():\n",
    "                genre = \",\".join([x[1] for x in response[\"genre\"]])\n",
    "            subgenre = None\n",
    "            if \"subgenre\" in response.keys():\n",
    "                subgenre = \",\".join([x[1] for x in response[\"subgenre\"]])\n",
    "            data_dict['filename'].append(filename)\n",
    "            data_dict['text_ground'].append(text)\n",
    "            data_dict['genre'].append(genre)\n",
    "            data_dict['subgenre'].append(subgenre)"
   ]
  },
  {
   "cell_type": "code",
   "execution_count": 28,
   "metadata": {},
   "outputs": [],
   "source": [
    "df_ground = pd.DataFrame.from_dict(data_dict)\n",
    "df_ground = df_ground.set_index('filename')"
   ]
  },
  {
   "cell_type": "code",
   "execution_count": 29,
   "metadata": {},
   "outputs": [
    {
     "data": {
      "text/html": [
       "<div>\n",
       "<style scoped>\n",
       "    .dataframe tbody tr th:only-of-type {\n",
       "        vertical-align: middle;\n",
       "    }\n",
       "\n",
       "    .dataframe tbody tr th {\n",
       "        vertical-align: top;\n",
       "    }\n",
       "\n",
       "    .dataframe thead th {\n",
       "        text-align: right;\n",
       "    }\n",
       "</style>\n",
       "<table border=\"1\" class=\"dataframe\">\n",
       "  <thead>\n",
       "    <tr style=\"text-align: right;\">\n",
       "      <th></th>\n",
       "      <th>text_ground</th>\n",
       "      <th>genre</th>\n",
       "      <th>subgenre</th>\n",
       "    </tr>\n",
       "    <tr>\n",
       "      <th>filename</th>\n",
       "      <th></th>\n",
       "      <th></th>\n",
       "      <th></th>\n",
       "    </tr>\n",
       "  </thead>\n",
       "  <tbody>\n",
       "    <tr>\n",
       "      <th>_vad003182501</th>\n",
       "      <td>\\n\\n\\n\\n\\n\\nBoekbeschouwing.\\nDe gemoedsgestel...</td>\n",
       "      <td>sec - letterkunde,non-fictie</td>\n",
       "      <td>tijdschrift / jaarboek</td>\n",
       "    </tr>\n",
       "    <tr>\n",
       "      <th>_vad003182401</th>\n",
       "      <td>\\n\\n\\n\\n\\n\\nBoekbeschouwing.\\nMijne Gronden vo...</td>\n",
       "      <td>sec - letterkunde,non-fictie</td>\n",
       "      <td>tijdschrift / jaarboek</td>\n",
       "    </tr>\n",
       "    <tr>\n",
       "      <th>crem001roma12</th>\n",
       "      <td>\\n\\n\\nROMANTISCHE WERKEN\\n\\nGedrukt bij Gebr. ...</td>\n",
       "      <td>proza</td>\n",
       "      <td>roman,verzameld werk</td>\n",
       "    </tr>\n",
       "    <tr>\n",
       "      <th>_taa001taal01</th>\n",
       "      <td>\\n\\n\\n\\n\\nVoorbericht.\\nIndien de waarde eener...</td>\n",
       "      <td>sec - taalkunde</td>\n",
       "      <td>tijdschrift / jaarboek</td>\n",
       "    </tr>\n",
       "    <tr>\n",
       "      <th>_vad003179201</th>\n",
       "      <td>\\n\\n\\n\\n\\n\\nAlgemeene Vaderlandsche Letter-oef...</td>\n",
       "      <td>sec - letterkunde,non-fictie</td>\n",
       "      <td>tijdschrift / jaarboek</td>\n",
       "    </tr>\n",
       "  </tbody>\n",
       "</table>\n",
       "</div>"
      ],
      "text/plain": [
       "                                                     text_ground  \\\n",
       "filename                                                           \n",
       "_vad003182501  \\n\\n\\n\\n\\n\\nBoekbeschouwing.\\nDe gemoedsgestel...   \n",
       "_vad003182401  \\n\\n\\n\\n\\n\\nBoekbeschouwing.\\nMijne Gronden vo...   \n",
       "crem001roma12  \\n\\n\\nROMANTISCHE WERKEN\\n\\nGedrukt bij Gebr. ...   \n",
       "_taa001taal01  \\n\\n\\n\\n\\nVoorbericht.\\nIndien de waarde eener...   \n",
       "_vad003179201  \\n\\n\\n\\n\\n\\nAlgemeene Vaderlandsche Letter-oef...   \n",
       "\n",
       "                                      genre                subgenre  \n",
       "filename                                                             \n",
       "_vad003182501  sec - letterkunde,non-fictie  tijdschrift / jaarboek  \n",
       "_vad003182401  sec - letterkunde,non-fictie  tijdschrift / jaarboek  \n",
       "crem001roma12                         proza    roman,verzameld werk  \n",
       "_taa001taal01               sec - taalkunde  tijdschrift / jaarboek  \n",
       "_vad003179201  sec - letterkunde,non-fictie  tijdschrift / jaarboek  "
      ]
     },
     "execution_count": 29,
     "metadata": {},
     "output_type": "execute_result"
    }
   ],
   "source": [
    "df_ground.head()"
   ]
  },
  {
   "cell_type": "code",
   "execution_count": 30,
   "metadata": {},
   "outputs": [
    {
     "data": {
      "text/plain": [
       "sec - letterkunde,non-fictie         77\n",
       "poëzie                               46\n",
       "non-fictie                           31\n",
       "sec - taalkunde                      25\n",
       "proza,sec - letterkunde              17\n",
       "proza                                10\n",
       "proza,poëzie,non-fictie               5\n",
       "sec - letterkunde                     3\n",
       "poëzie,sec - letterkunde              2\n",
       "poëzie,jeugdliteratuur                2\n",
       "sec - letterkunde,jeugdliteratuur     1\n",
       "proza,drama                           1\n",
       "Name: genre, dtype: int64"
      ]
     },
     "execution_count": 30,
     "metadata": {},
     "output_type": "execute_result"
    }
   ],
   "source": [
    "df_ground[\"genre\"].value_counts()"
   ]
  },
  {
   "cell_type": "code",
   "execution_count": 31,
   "metadata": {},
   "outputs": [
    {
     "data": {
      "text/plain": [
       "tijdschrift / jaarboek                                 115\n",
       "non-fictie/biografie,non-fictie/naslagwerken (alg.)     25\n",
       "gedichten / dichtbundel                                 18\n",
       "verzameld werk,gedichten / dichtbundel                  12\n",
       "woordenboek / lexicon                                    5\n",
       "Name: subgenre, dtype: int64"
      ]
     },
     "execution_count": 31,
     "metadata": {},
     "output_type": "execute_result"
    }
   ],
   "source": [
    "df_ground[\"subgenre\"].value_counts()[:5]"
   ]
  },
  {
   "cell_type": "code",
   "execution_count": 32,
   "metadata": {},
   "outputs": [
    {
     "data": {
      "text/plain": [
       "(220, 3)"
      ]
     },
     "execution_count": 32,
     "metadata": {},
     "output_type": "execute_result"
    }
   ],
   "source": [
    "df_ground.shape"
   ]
  },
  {
   "cell_type": "code",
   "execution_count": 33,
   "metadata": {},
   "outputs": [],
   "source": [
    "# load OCRed data for the necessary files\n",
    "\n",
    "data_dict = {'filename':list(),'text_ocr':list()}\n",
    "\n",
    "# load xml files and get data out\n",
    "for f_name in df_ground.index.values:\n",
    "    full_path = os.path.join(folder,ocr_folder)\n",
    "    f = os.path.join(full_path,f_name+\"_01.txt\")\n",
    "    text = codecs.open(f, encoding=\"utf8\", errors=\"ignore\").read() # We ignore errors outside of UTF-8!\n",
    "    data_dict['filename'].append(f_name)\n",
    "    data_dict['text_ocr'].append(text)"
   ]
  },
  {
   "cell_type": "code",
   "execution_count": 34,
   "metadata": {},
   "outputs": [],
   "source": [
    "# create dataframes\n",
    "df_ocr = pd.DataFrame.from_dict(data_dict)\n",
    "df_ocr = df_ocr.set_index('filename')"
   ]
  },
  {
   "cell_type": "code",
   "execution_count": 35,
   "metadata": {},
   "outputs": [
    {
     "data": {
      "text/html": [
       "<div>\n",
       "<style scoped>\n",
       "    .dataframe tbody tr th:only-of-type {\n",
       "        vertical-align: middle;\n",
       "    }\n",
       "\n",
       "    .dataframe tbody tr th {\n",
       "        vertical-align: top;\n",
       "    }\n",
       "\n",
       "    .dataframe thead th {\n",
       "        text-align: right;\n",
       "    }\n",
       "</style>\n",
       "<table border=\"1\" class=\"dataframe\">\n",
       "  <thead>\n",
       "    <tr style=\"text-align: right;\">\n",
       "      <th></th>\n",
       "      <th>text_ocr</th>\n",
       "    </tr>\n",
       "    <tr>\n",
       "      <th>filename</th>\n",
       "      <th></th>\n",
       "    </tr>\n",
       "  </thead>\n",
       "  <tbody>\n",
       "    <tr>\n",
       "      <th>_vad003182501</th>\n",
       "      <td>SEM1N\\t9\\n(\\tSIS)\\ns..\\n\f",
       "B OEKBESCHOUWI ' ,\\nv...</td>\n",
       "    </tr>\n",
       "    <tr>\n",
       "      <th>_vad003182401</th>\n",
       "      <td>\\n\\nBOIKBESCHOUWING \\n\\nVOOR \\ni824. \\n\\n\\nVAR...</td>\n",
       "    </tr>\n",
       "    <tr>\n",
       "      <th>crem001roma12</th>\n",
       "      <td>ROMANTISCHE WERKEN \\r\\n\\r\\n\\r\\n\f",
       "\\r\\nGedrukt bi...</td>\n",
       "    </tr>\n",
       "    <tr>\n",
       "      <th>_taa001taal01</th>\n",
       "      <td>﻿D ETA ALG I D S.\\r\\n\\r\\nD ETA ALG I D S.\\r\\nT...</td>\n",
       "    </tr>\n",
       "    <tr>\n",
       "      <th>_vad003179201</th>\n",
       "      <td>LETTEROEFENINGEN\\r\\n-\\r\\n\\r\\nv 0 0 R \\r\\n1 792...</td>\n",
       "    </tr>\n",
       "  </tbody>\n",
       "</table>\n",
       "</div>"
      ],
      "text/plain": [
       "                                                        text_ocr\n",
       "filename                                                        \n",
       "_vad003182501  SEM1N\\t9\\n(\\tSIS)\\ns..\\n\n",
       "B OEKBESCHOUWI ' ,\\nv...\n",
       "_vad003182401  \\n\\nBOIKBESCHOUWING \\n\\nVOOR \\ni824. \\n\\n\\nVAR...\n",
       "crem001roma12  ROMANTISCHE WERKEN \\r\\n\\r\\n\\r\\n\n",
       "\\r\\nGedrukt bi...\n",
       "_taa001taal01  ﻿D ETA ALG I D S.\\r\\n\\r\\nD ETA ALG I D S.\\r\\nT...\n",
       "_vad003179201  LETTEROEFENINGEN\\r\\n-\\r\\n\\r\\nv 0 0 R \\r\\n1 792..."
      ]
     },
     "execution_count": 35,
     "metadata": {},
     "output_type": "execute_result"
    }
   ],
   "source": [
    "df_ocr.head()"
   ]
  },
  {
   "cell_type": "code",
   "execution_count": 36,
   "metadata": {},
   "outputs": [],
   "source": [
    "# lastly, get the metadata in (title and year)\n",
    "\n",
    "df_meta = pd.read_csv(os.path.join(folder,metadata_file), sep=\";\")"
   ]
  },
  {
   "cell_type": "code",
   "execution_count": 37,
   "metadata": {},
   "outputs": [],
   "source": [
    "df_meta = df_meta.rename(columns={\"ti_id\":\"filename\",\"titel\":\"title\",\"jaar\":\"year\",\"druk\":\"edition\"})"
   ]
  },
  {
   "cell_type": "code",
   "execution_count": 38,
   "metadata": {},
   "outputs": [],
   "source": [
    "df_meta = df_meta.set_index(\"filename\")"
   ]
  },
  {
   "cell_type": "code",
   "execution_count": 39,
   "metadata": {},
   "outputs": [
    {
     "data": {
      "text/html": [
       "<div>\n",
       "<style scoped>\n",
       "    .dataframe tbody tr th:only-of-type {\n",
       "        vertical-align: middle;\n",
       "    }\n",
       "\n",
       "    .dataframe tbody tr th {\n",
       "        vertical-align: top;\n",
       "    }\n",
       "\n",
       "    .dataframe thead th {\n",
       "        text-align: right;\n",
       "    }\n",
       "</style>\n",
       "<table border=\"1\" class=\"dataframe\">\n",
       "  <thead>\n",
       "    <tr style=\"text-align: right;\">\n",
       "      <th></th>\n",
       "      <th>title</th>\n",
       "      <th>year</th>\n",
       "      <th>edition</th>\n",
       "    </tr>\n",
       "    <tr>\n",
       "      <th>filename</th>\n",
       "      <th></th>\n",
       "      <th></th>\n",
       "      <th></th>\n",
       "    </tr>\n",
       "  </thead>\n",
       "  <tbody>\n",
       "    <tr>\n",
       "      <th>_vad003177601</th>\n",
       "      <td>Vaderlandsche letteroefeningen. Jaargang 1776</td>\n",
       "      <td>1776</td>\n",
       "      <td>1ste druk</td>\n",
       "    </tr>\n",
       "    <tr>\n",
       "      <th>_vad003177701</th>\n",
       "      <td>Vaderlandsche letteroefeningen. Jaargang 1777</td>\n",
       "      <td>1777</td>\n",
       "      <td>1ste druk</td>\n",
       "    </tr>\n",
       "    <tr>\n",
       "      <th>_vad003177801</th>\n",
       "      <td>Vaderlandsche letteroefeningen. Jaargang 1778</td>\n",
       "      <td>1778</td>\n",
       "      <td>1ste druk</td>\n",
       "    </tr>\n",
       "    <tr>\n",
       "      <th>_vad003177901</th>\n",
       "      <td>Vaderlandsche letteroefeningen. Jaargang 1779</td>\n",
       "      <td>1779</td>\n",
       "      <td>1ste druk</td>\n",
       "    </tr>\n",
       "    <tr>\n",
       "      <th>_vad003178101</th>\n",
       "      <td>Vaderlandsche letteroefeningen. Jaargang 1781</td>\n",
       "      <td>1781</td>\n",
       "      <td>1ste druk</td>\n",
       "    </tr>\n",
       "  </tbody>\n",
       "</table>\n",
       "</div>"
      ],
      "text/plain": [
       "                                                       title  year    edition\n",
       "filename                                                                     \n",
       "_vad003177601  Vaderlandsche letteroefeningen. Jaargang 1776  1776  1ste druk\n",
       "_vad003177701  Vaderlandsche letteroefeningen. Jaargang 1777  1777  1ste druk\n",
       "_vad003177801  Vaderlandsche letteroefeningen. Jaargang 1778  1778  1ste druk\n",
       "_vad003177901  Vaderlandsche letteroefeningen. Jaargang 1779  1779  1ste druk\n",
       "_vad003178101  Vaderlandsche letteroefeningen. Jaargang 1781  1781  1ste druk"
      ]
     },
     "execution_count": 39,
     "metadata": {},
     "output_type": "execute_result"
    }
   ],
   "source": [
    "df_meta.head()"
   ]
  },
  {
   "cell_type": "code",
   "execution_count": 40,
   "metadata": {},
   "outputs": [],
   "source": [
    "# merge dataframes\n",
    "full_df = pd.concat([df_ground, df_ocr], join=\"inner\", axis=1)\n",
    "full_df.head()\n",
    "full_df = pd.concat([full_df, df_meta], join=\"inner\", axis=1)"
   ]
  },
  {
   "cell_type": "code",
   "execution_count": 41,
   "metadata": {},
   "outputs": [
    {
     "data": {
      "text/html": [
       "<div>\n",
       "<style scoped>\n",
       "    .dataframe tbody tr th:only-of-type {\n",
       "        vertical-align: middle;\n",
       "    }\n",
       "\n",
       "    .dataframe tbody tr th {\n",
       "        vertical-align: top;\n",
       "    }\n",
       "\n",
       "    .dataframe thead th {\n",
       "        text-align: right;\n",
       "    }\n",
       "</style>\n",
       "<table border=\"1\" class=\"dataframe\">\n",
       "  <thead>\n",
       "    <tr style=\"text-align: right;\">\n",
       "      <th></th>\n",
       "      <th>text_ground</th>\n",
       "      <th>genre</th>\n",
       "      <th>subgenre</th>\n",
       "      <th>text_ocr</th>\n",
       "      <th>title</th>\n",
       "      <th>year</th>\n",
       "      <th>edition</th>\n",
       "    </tr>\n",
       "    <tr>\n",
       "      <th>filename</th>\n",
       "      <th></th>\n",
       "      <th></th>\n",
       "      <th></th>\n",
       "      <th></th>\n",
       "      <th></th>\n",
       "      <th></th>\n",
       "      <th></th>\n",
       "    </tr>\n",
       "  </thead>\n",
       "  <tbody>\n",
       "    <tr>\n",
       "      <th>_vad003182501</th>\n",
       "      <td>\\n\\n\\n\\n\\n\\nBoekbeschouwing.\\nDe gemoedsgestel...</td>\n",
       "      <td>sec - letterkunde,non-fictie</td>\n",
       "      <td>tijdschrift / jaarboek</td>\n",
       "      <td>SEM1N\\t9\\n(\\tSIS)\\ns..\\n\f",
       "B OEKBESCHOUWI ' ,\\nv...</td>\n",
       "      <td>Vaderlandsche letteroefeningen. Jaargang 1825</td>\n",
       "      <td>1825</td>\n",
       "      <td>1ste druk</td>\n",
       "    </tr>\n",
       "    <tr>\n",
       "      <th>_vad003182401</th>\n",
       "      <td>\\n\\n\\n\\n\\n\\nBoekbeschouwing.\\nMijne Gronden vo...</td>\n",
       "      <td>sec - letterkunde,non-fictie</td>\n",
       "      <td>tijdschrift / jaarboek</td>\n",
       "      <td>\\n\\nBOIKBESCHOUWING \\n\\nVOOR \\ni824. \\n\\n\\nVAR...</td>\n",
       "      <td>Vaderlandsche letteroefeningen. Jaargang 1824</td>\n",
       "      <td>1824</td>\n",
       "      <td>1ste druk</td>\n",
       "    </tr>\n",
       "    <tr>\n",
       "      <th>_taa001taal01</th>\n",
       "      <td>\\n\\n\\n\\n\\nVoorbericht.\\nIndien de waarde eener...</td>\n",
       "      <td>sec - taalkunde</td>\n",
       "      <td>tijdschrift / jaarboek</td>\n",
       "      <td>﻿D ETA ALG I D S.\\r\\n\\r\\nD ETA ALG I D S.\\r\\nT...</td>\n",
       "      <td>De Taalgids. Jaargang 1</td>\n",
       "      <td>1859</td>\n",
       "      <td>1ste druk</td>\n",
       "    </tr>\n",
       "    <tr>\n",
       "      <th>_vad003179201</th>\n",
       "      <td>\\n\\n\\n\\n\\n\\nAlgemeene Vaderlandsche Letter-oef...</td>\n",
       "      <td>sec - letterkunde,non-fictie</td>\n",
       "      <td>tijdschrift / jaarboek</td>\n",
       "      <td>LETTEROEFENINGEN\\r\\n-\\r\\n\\r\\nv 0 0 R \\r\\n1 792...</td>\n",
       "      <td>Vaderlandsche letteroefeningen. Jaargang 1792</td>\n",
       "      <td>1792</td>\n",
       "      <td>1ste druk</td>\n",
       "    </tr>\n",
       "    <tr>\n",
       "      <th>_vad003179301</th>\n",
       "      <td>\\n\\n\\n\\n\\n\\nAlgemeene Vaderlandsche Letter-oef...</td>\n",
       "      <td>sec - letterkunde,non-fictie</td>\n",
       "      <td>tijdschrift / jaarboek</td>\n",
       "      <td>LETTER -OEFENINGEN \\r\\n\\r\\n\\r\\nVOOR \\r\\n\\r\\n79...</td>\n",
       "      <td>Vaderlandsche letteroefeningen. Jaargang 1793</td>\n",
       "      <td>1793</td>\n",
       "      <td>1ste druk</td>\n",
       "    </tr>\n",
       "  </tbody>\n",
       "</table>\n",
       "</div>"
      ],
      "text/plain": [
       "                                                     text_ground  \\\n",
       "filename                                                           \n",
       "_vad003182501  \\n\\n\\n\\n\\n\\nBoekbeschouwing.\\nDe gemoedsgestel...   \n",
       "_vad003182401  \\n\\n\\n\\n\\n\\nBoekbeschouwing.\\nMijne Gronden vo...   \n",
       "_taa001taal01  \\n\\n\\n\\n\\nVoorbericht.\\nIndien de waarde eener...   \n",
       "_vad003179201  \\n\\n\\n\\n\\n\\nAlgemeene Vaderlandsche Letter-oef...   \n",
       "_vad003179301  \\n\\n\\n\\n\\n\\nAlgemeene Vaderlandsche Letter-oef...   \n",
       "\n",
       "                                      genre                subgenre  \\\n",
       "filename                                                              \n",
       "_vad003182501  sec - letterkunde,non-fictie  tijdschrift / jaarboek   \n",
       "_vad003182401  sec - letterkunde,non-fictie  tijdschrift / jaarboek   \n",
       "_taa001taal01               sec - taalkunde  tijdschrift / jaarboek   \n",
       "_vad003179201  sec - letterkunde,non-fictie  tijdschrift / jaarboek   \n",
       "_vad003179301  sec - letterkunde,non-fictie  tijdschrift / jaarboek   \n",
       "\n",
       "                                                        text_ocr  \\\n",
       "filename                                                           \n",
       "_vad003182501  SEM1N\\t9\\n(\\tSIS)\\ns..\\n\n",
       "B OEKBESCHOUWI ' ,\\nv...   \n",
       "_vad003182401  \\n\\nBOIKBESCHOUWING \\n\\nVOOR \\ni824. \\n\\n\\nVAR...   \n",
       "_taa001taal01  ﻿D ETA ALG I D S.\\r\\n\\r\\nD ETA ALG I D S.\\r\\nT...   \n",
       "_vad003179201  LETTEROEFENINGEN\\r\\n-\\r\\n\\r\\nv 0 0 R \\r\\n1 792...   \n",
       "_vad003179301  LETTER -OEFENINGEN \\r\\n\\r\\n\\r\\nVOOR \\r\\n\\r\\n79...   \n",
       "\n",
       "                                                       title  year    edition  \n",
       "filename                                                                       \n",
       "_vad003182501  Vaderlandsche letteroefeningen. Jaargang 1825  1825  1ste druk  \n",
       "_vad003182401  Vaderlandsche letteroefeningen. Jaargang 1824  1824  1ste druk  \n",
       "_taa001taal01                        De Taalgids. Jaargang 1  1859  1ste druk  \n",
       "_vad003179201  Vaderlandsche letteroefeningen. Jaargang 1792  1792  1ste druk  \n",
       "_vad003179301  Vaderlandsche letteroefeningen. Jaargang 1793  1793  1ste druk  "
      ]
     },
     "execution_count": 41,
     "metadata": {},
     "output_type": "execute_result"
    }
   ],
   "source": [
    "full_df.head()"
   ]
  },
  {
   "cell_type": "code",
   "execution_count": 42,
   "metadata": {},
   "outputs": [],
   "source": [
    "full_df.to_csv(\"data_frames/full_df_DBNL_OCR.csv\", compression=\"gzip\")"
   ]
  },
  {
   "cell_type": "markdown",
   "metadata": {},
   "source": [
    "---"
   ]
  }
 ],
 "metadata": {
  "kernelspec": {
   "display_name": "Python 3",
   "language": "python",
   "name": "python3"
  },
  "language_info": {
   "codemirror_mode": {
    "name": "ipython",
    "version": 3
   },
   "file_extension": ".py",
   "mimetype": "text/x-python",
   "name": "python",
   "nbconvert_exporter": "python",
   "pygments_lexer": "ipython3",
   "version": "3.7.9"
  }
 },
 "nbformat": 4,
 "nbformat_minor": 2
}
